{
  "nbformat": 4,
  "nbformat_minor": 0,
  "metadata": {
    "colab": {
      "provenance": [],
      "toc_visible": true
    },
    "kernelspec": {
      "name": "python3",
      "display_name": "Python 3"
    },
    "language_info": {
      "name": "python"
    }
  },
  "cells": [
    {
      "cell_type": "markdown",
      "source": [
        "#**Trabajo Practico OpenData**\n",
        "\n",
        "Estudiante: Daniela Echauri\n",
        "\n",
        "\n"
      ],
      "metadata": {
        "id": "XOKdIlgtdViO"
      }
    },
    {
      "cell_type": "markdown",
      "source": [
        "#Marco Teorico\n",
        "\n",
        "----"
      ],
      "metadata": {
        "id": "m0Bh2NnHfjBc"
      }
    },
    {
      "cell_type": "markdown",
      "source": [
        "## *1-Introduccion a los Datos abiertos*\n"
      ],
      "metadata": {
        "id": "_vTkmvVzeBP1"
      }
    },
    {
      "cell_type": "markdown",
      "source": [
        "Los datos abiertos son conjuntos de información que están disponibles de manera libre y accesible para cualquier persona. Estos datos son compartidos de manera estructurada, permitiendo que sean utilizados, reutilizados y redistribuidos sin restricciones.\n",
        "En el contexto de Paraguay, los datos abiertos son importantes por varias razones. En primer lugar, promueven la transparencia y la participación ciudadana. Al hacer que la información del gobierno y las instituciones públicas esté disponible para todos, se fomenta la rendición de cuentas y se permite a los ciudadanos supervisar las acciones del gobierno.\n",
        "Además, los datos abiertos pueden impulsar el desarrollo económico al permitir que emprendedores, empresas y desarrolladores utilicen la información para crear nuevos productos y servicios. Esto genera oportunidades para la creación de empleo y la innovación.\n",
        "Los datos abiertos también abren la posibilidad de propuestas para la mejora de la calidad de los servicios públicos. Al compartir información sobre temas como transporte, seguridad, salud y educación, se pueden identificar problemas y tomar decisiones informadas para mejorar la prestación de servicios.\n",
        "Por último, los datos abiertos son valiosos para la investigación y la educación. Los investigadores, académicos y estudiantes pueden utilizar los datos para realizar estudios y análisis en diversas áreas, promoviendo la generación de conocimiento y el aprendizaje basado en datos.\n",
        "Para el sector de la informatica los datos abiertos afectan positivamente en gran manera, ya que ofrecen beneficios, incluyendo la posibilidad de innovar, analizar grandes volúmenes de datos, desarrollar servicios basados en la nube y fomentar la colaboración y participación ciudadana. Estas oportunidades impulsan el avance tecnológico y contribuyen al desarrollo de soluciones informáticas más eficientes y orientadas a las necesidades de los usuarios.\n",
        "Los datos abiertos a menudo son grandes conjuntos de información que contienen valiosos patrones y tendencias. Los profesionales de la informática pueden utilizar técnicas de análisis de datos y aprendizaje automático para extraer conocimientos y descubrir información útil en estos datos. Esto puede conducir a una toma de decisiones más informada y a la identificación de oportunidades de mejora en diversas áreas\n",
        "En resumen, los datos abiertos en Paraguay tienen el potencial de fortalecer la transparencia, impulsar el desarrollo económico, mejorar los servicios públicos y fomentar la investigación y la educación.\n"
      ],
      "metadata": {
        "id": "0Vw2yHvAemmk"
      }
    },
    {
      "cell_type": "markdown",
      "source": [
        "## *2-Fuentes de datos abiertos relevantes en Paraguay.*"
      ],
      "metadata": {
        "id": "WunjlGu_fllM"
      }
    },
    {
      "cell_type": "markdown",
      "source": [
        "En Paraguay, existen diversas fuentes de datos abiertos que proporcionan información relevante en áreas como economía, salud, educación, justicia y más. Estos datos abiertos están disponibles para el acceso público y promueven la transparencia, la participación ciudadana y el desarrollo de soluciones basadas en datos. A continuación, se presenta una lista de fuentes de datos abiertos relevantes en Paraguay:\n",
        "\n",
        "1. Datos Abiertos de Paraguay: Es el portal oficial del Gobierno de Paraguay para la publicación de datos abiertos. Ofrece una amplia variedad de conjuntos de datos en áreas como educación, salud, medio ambiente, transporte, economía y más. El portal fomenta la reutilización de los datos para impulsar la innovación y la toma de decisiones informadas.\n",
        "\n",
        "2. Instituto Nacional de Estadística (INE): El INE de Paraguay es la institución encargada de recopilar, procesar y difundir estadísticas oficiales del país. Proporciona datos demográficos, económicos, sociales y ambientales, incluyendo indicadores clave y cifras actualizadas sobre la población, empleo, inflación, comercio, entre otros.\n",
        "\n",
        "3. Banco Central del Paraguay: Como entidad monetaria y financiera, el Banco Central del Paraguay publica datos económicos y financieros relevantes. Estos datos incluyen indicadores macroeconómicos, tasas de interés, agregados monetarios, comercio exterior, reservas internacionales y otros datos relacionados con la economía nacional.\n",
        "\n",
        "4. Ministerio de Salud Pública y Bienestar Social (MSPBS): El MSPBS es responsable de la gestión de la salud pública en Paraguay. A través de su portal de datos abiertos, proporciona información sobre indicadores de salud, epidemiología, recursos de salud, programas de prevención, servicios de atención médica y otros datos relacionados con el sistema de salud.\n",
        "\n",
        "5. Dirección Nacional de Aduanas: Esta institución se encarga de regular y controlar el comercio exterior en Paraguay. Ofrece datos abiertos sobre importaciones, exportaciones, aranceles aduaneros, estadísticas comerciales y otros aspectos relacionados con el comercio internacional.\n",
        "\n",
        "6. Portal de Datos Abiertos del Poder Judicial de Paraguay: Proporciona acceso a datos judiciales abiertos, incluyendo información sobre casos, resoluciones, tiempos de procesamiento y estadísticas del sistema judicial. Estos datos contribuyen a la transparencia y la rendición de cuentas en el ámbito de la justicia.\n",
        "\n",
        "Es importante destacar que muchas municipalidades en Paraguay también publican datos abiertos relevantes a nivel local, como información sobre obras públicas, servicios municipales, presupuestos y más. Se recomienda visitar los sitios web de las municipalidades para obtener datos específicos de cada región.\n",
        "\n",
        "Estas fuentes de datos abiertos promueven la colaboración entre el gobierno, las instituciones públicas, las organizaciones no gubernamentales y la sociedad en general. Al facilitar el acceso a la información, se fomenta el desarrollo de soluciones innovadoras, el análisis de datos y la participación ciudadana en la toma de decisiones.\n"
      ],
      "metadata": {
        "id": "5BCfbXCNftPy"
      }
    },
    {
      "cell_type": "markdown",
      "source": [
        "## *3- Selección de conjunto de datos.*\n",
        "\n",
        "\n"
      ],
      "metadata": {
        "id": "47mLPfTRf7Zj"
      }
    },
    {
      "cell_type": "markdown",
      "source": [
        "En el contexto de este trabajo de exploración de datos abiertos en Paraguay, se ha propuesto analizar el sector turístico en el país. Se reconoce que este sector se encuentra en desarrollo en algunos casos limitado y muestra un estancamiento, a pesar de su considerable potencial para expandirse. Paraguay cuenta con una amplia variedad de atractivos naturales, culturales e históricos que atraen a turistas tanto nacionales como internacionales.\n",
        "\n",
        "Es necesario que Paraguay mejore tanto la calidad como la cantidad de hoteles, restaurantes, carreteras y servicios turísticos en general, con el objetivo de brindar una experiencia más completa a los visitantes. Sin embargo, se enfrenta al desafío de la falta de actualización de los datos abiertos, lo cual dificulta el acceso a información actualizada y precisa. A pesar de esta limitación, se ha utilizado conjuntos de datos encontrado en el portal de datos abiertos de Paraguay, que contiene información relevante sobre la ubicación de hoteles, atractivos culturales y la entrada de visitantes al país. Es importante destacar que estos datos cuentan con un año desactualizado (2016-2017), lo cual es proporcionado por el gobierno.\n"
      ],
      "metadata": {
        "id": "0Z4D5OSEgBrr"
      }
    },
    {
      "cell_type": "markdown",
      "source": [
        "## *4- Descarga y preparación de datos Exploración y visualización de datos*\n"
      ],
      "metadata": {
        "id": "dKlfG5rri8mT"
      }
    },
    {
      "cell_type": "markdown",
      "source": [
        "Para acceder y descargar conjuntos de datos sobre infraestructuras culturales y la entrada de turistas a Paraguay, se pueden seguir los siguientes pasos:\n",
        "\n",
        "Se debe visitar el portal de datos abiertos de Paraguay, disponible en la dirección web: https://datos.gov.py/\n",
        "\n",
        "Una vez en el portal, se debe buscar la sección o categoría correspondiente al turismo o la cultura. En dicho portal, es posible encontrar diferentes categorías o etiquetas para filtrar los conjuntos de datos.\n",
        "Luego se procedio a descargar el csv infraestructuraculturalbaseunificadafinal.csv\n",
        "https://www.datos.gov.py/dataset/infraestructura-cultural/resource/2e9c52a8-aa2f-42f0-9ec1-2e4a7b2013b0"
      ],
      "metadata": {
        "id": "sdVq2ScmjFY6"
      }
    },
    {
      "cell_type": "code",
      "source": [
        "from google.colab import files\n",
        "import pandas as pd\n",
        "import io\n",
        "\n",
        "# Cargar el archivo 'infraestructura.xls'\n",
        "uploaded = files.upload()\n",
        "\n",
        "# Leer el archivo Excel utilizando read_excel\n",
        "df = pd.read_excel(io.BytesIO(uploaded['infraestructura.xlsx']))"
      ],
      "metadata": {
        "colab": {
          "base_uri": "https://localhost:8080/",
          "height": 73
        },
        "id": "fHefNBVO8n8M",
        "outputId": "80796cbe-91a1-4c2e-aae0-02c68d6cdd89"
      },
      "execution_count": 3,
      "outputs": [
        {
          "output_type": "display_data",
          "data": {
            "text/plain": [
              "<IPython.core.display.HTML object>"
            ],
            "text/html": [
              "\n",
              "     <input type=\"file\" id=\"files-49fdc27c-c493-4fc3-9347-464b6f4e0025\" name=\"files[]\" multiple disabled\n",
              "        style=\"border:none\" />\n",
              "     <output id=\"result-49fdc27c-c493-4fc3-9347-464b6f4e0025\">\n",
              "      Upload widget is only available when the cell has been executed in the\n",
              "      current browser session. Please rerun this cell to enable.\n",
              "      </output>\n",
              "      <script>// Copyright 2017 Google LLC\n",
              "//\n",
              "// Licensed under the Apache License, Version 2.0 (the \"License\");\n",
              "// you may not use this file except in compliance with the License.\n",
              "// You may obtain a copy of the License at\n",
              "//\n",
              "//      http://www.apache.org/licenses/LICENSE-2.0\n",
              "//\n",
              "// Unless required by applicable law or agreed to in writing, software\n",
              "// distributed under the License is distributed on an \"AS IS\" BASIS,\n",
              "// WITHOUT WARRANTIES OR CONDITIONS OF ANY KIND, either express or implied.\n",
              "// See the License for the specific language governing permissions and\n",
              "// limitations under the License.\n",
              "\n",
              "/**\n",
              " * @fileoverview Helpers for google.colab Python module.\n",
              " */\n",
              "(function(scope) {\n",
              "function span(text, styleAttributes = {}) {\n",
              "  const element = document.createElement('span');\n",
              "  element.textContent = text;\n",
              "  for (const key of Object.keys(styleAttributes)) {\n",
              "    element.style[key] = styleAttributes[key];\n",
              "  }\n",
              "  return element;\n",
              "}\n",
              "\n",
              "// Max number of bytes which will be uploaded at a time.\n",
              "const MAX_PAYLOAD_SIZE = 100 * 1024;\n",
              "\n",
              "function _uploadFiles(inputId, outputId) {\n",
              "  const steps = uploadFilesStep(inputId, outputId);\n",
              "  const outputElement = document.getElementById(outputId);\n",
              "  // Cache steps on the outputElement to make it available for the next call\n",
              "  // to uploadFilesContinue from Python.\n",
              "  outputElement.steps = steps;\n",
              "\n",
              "  return _uploadFilesContinue(outputId);\n",
              "}\n",
              "\n",
              "// This is roughly an async generator (not supported in the browser yet),\n",
              "// where there are multiple asynchronous steps and the Python side is going\n",
              "// to poll for completion of each step.\n",
              "// This uses a Promise to block the python side on completion of each step,\n",
              "// then passes the result of the previous step as the input to the next step.\n",
              "function _uploadFilesContinue(outputId) {\n",
              "  const outputElement = document.getElementById(outputId);\n",
              "  const steps = outputElement.steps;\n",
              "\n",
              "  const next = steps.next(outputElement.lastPromiseValue);\n",
              "  return Promise.resolve(next.value.promise).then((value) => {\n",
              "    // Cache the last promise value to make it available to the next\n",
              "    // step of the generator.\n",
              "    outputElement.lastPromiseValue = value;\n",
              "    return next.value.response;\n",
              "  });\n",
              "}\n",
              "\n",
              "/**\n",
              " * Generator function which is called between each async step of the upload\n",
              " * process.\n",
              " * @param {string} inputId Element ID of the input file picker element.\n",
              " * @param {string} outputId Element ID of the output display.\n",
              " * @return {!Iterable<!Object>} Iterable of next steps.\n",
              " */\n",
              "function* uploadFilesStep(inputId, outputId) {\n",
              "  const inputElement = document.getElementById(inputId);\n",
              "  inputElement.disabled = false;\n",
              "\n",
              "  const outputElement = document.getElementById(outputId);\n",
              "  outputElement.innerHTML = '';\n",
              "\n",
              "  const pickedPromise = new Promise((resolve) => {\n",
              "    inputElement.addEventListener('change', (e) => {\n",
              "      resolve(e.target.files);\n",
              "    });\n",
              "  });\n",
              "\n",
              "  const cancel = document.createElement('button');\n",
              "  inputElement.parentElement.appendChild(cancel);\n",
              "  cancel.textContent = 'Cancel upload';\n",
              "  const cancelPromise = new Promise((resolve) => {\n",
              "    cancel.onclick = () => {\n",
              "      resolve(null);\n",
              "    };\n",
              "  });\n",
              "\n",
              "  // Wait for the user to pick the files.\n",
              "  const files = yield {\n",
              "    promise: Promise.race([pickedPromise, cancelPromise]),\n",
              "    response: {\n",
              "      action: 'starting',\n",
              "    }\n",
              "  };\n",
              "\n",
              "  cancel.remove();\n",
              "\n",
              "  // Disable the input element since further picks are not allowed.\n",
              "  inputElement.disabled = true;\n",
              "\n",
              "  if (!files) {\n",
              "    return {\n",
              "      response: {\n",
              "        action: 'complete',\n",
              "      }\n",
              "    };\n",
              "  }\n",
              "\n",
              "  for (const file of files) {\n",
              "    const li = document.createElement('li');\n",
              "    li.append(span(file.name, {fontWeight: 'bold'}));\n",
              "    li.append(span(\n",
              "        `(${file.type || 'n/a'}) - ${file.size} bytes, ` +\n",
              "        `last modified: ${\n",
              "            file.lastModifiedDate ? file.lastModifiedDate.toLocaleDateString() :\n",
              "                                    'n/a'} - `));\n",
              "    const percent = span('0% done');\n",
              "    li.appendChild(percent);\n",
              "\n",
              "    outputElement.appendChild(li);\n",
              "\n",
              "    const fileDataPromise = new Promise((resolve) => {\n",
              "      const reader = new FileReader();\n",
              "      reader.onload = (e) => {\n",
              "        resolve(e.target.result);\n",
              "      };\n",
              "      reader.readAsArrayBuffer(file);\n",
              "    });\n",
              "    // Wait for the data to be ready.\n",
              "    let fileData = yield {\n",
              "      promise: fileDataPromise,\n",
              "      response: {\n",
              "        action: 'continue',\n",
              "      }\n",
              "    };\n",
              "\n",
              "    // Use a chunked sending to avoid message size limits. See b/62115660.\n",
              "    let position = 0;\n",
              "    do {\n",
              "      const length = Math.min(fileData.byteLength - position, MAX_PAYLOAD_SIZE);\n",
              "      const chunk = new Uint8Array(fileData, position, length);\n",
              "      position += length;\n",
              "\n",
              "      const base64 = btoa(String.fromCharCode.apply(null, chunk));\n",
              "      yield {\n",
              "        response: {\n",
              "          action: 'append',\n",
              "          file: file.name,\n",
              "          data: base64,\n",
              "        },\n",
              "      };\n",
              "\n",
              "      let percentDone = fileData.byteLength === 0 ?\n",
              "          100 :\n",
              "          Math.round((position / fileData.byteLength) * 100);\n",
              "      percent.textContent = `${percentDone}% done`;\n",
              "\n",
              "    } while (position < fileData.byteLength);\n",
              "  }\n",
              "\n",
              "  // All done.\n",
              "  yield {\n",
              "    response: {\n",
              "      action: 'complete',\n",
              "    }\n",
              "  };\n",
              "}\n",
              "\n",
              "scope.google = scope.google || {};\n",
              "scope.google.colab = scope.google.colab || {};\n",
              "scope.google.colab._files = {\n",
              "  _uploadFiles,\n",
              "  _uploadFilesContinue,\n",
              "};\n",
              "})(self);\n",
              "</script> "
            ]
          },
          "metadata": {}
        },
        {
          "output_type": "stream",
          "name": "stdout",
          "text": [
            "Saving infraestructura.xlsx to infraestructura (1).xlsx\n"
          ]
        }
      ]
    },
    {
      "cell_type": "markdown",
      "source": [
        "**Detalle del codigo**\n",
        "\n",
        "```\n",
        "# Esto tiene formato de código\n",
        "```\n",
        "\n",
        "\n",
        "La línea de codigo necesaria es de from google.colab import files para importar la biblioteca files de Google Colab, que proporciona funciones para cargar y descargar archivos en el entorno de Colab.\n",
        "\n",
        "La línea import pandas as pd importa la biblioteca pandas con el alias pd, que es una biblioteca de análisis de datos muy utilizada en Python.\n",
        "\n",
        "import io importa la biblioteca io, que proporciona funciones para trabajar con flujos de entrada y salida de datos.\n",
        "\n",
        "Con files.upload() para cargar el archivo 'infraestructura.xlsx'. Esta función permite al usuario seleccionar y cargar un archivo desde su dispositivo local al entorno de Colab.\n",
        "\n",
        "Finalmente, se utiliza pd.read_excel(io.BytesIO(uploaded['infraestructura.xlsx'])) para leer el archivo Excel cargado y almacenarlo en un DataFrame llamado df.\n",
        "La función read_excel() de pandas se utiliza para leer archivos Excel y io.BytesIO() se utiliza para convertir los datos del archivo cargado en un objeto legible por read_excel().\n",
        "\n",
        "En resumen, este código permite cargar y leer un archivo Excel llamado 'infraestructura.xlsx' en un DataFrame utilizando las bibliotecas files y pandas."
      ],
      "metadata": {
        "id": "Sk11C3cQ-ymd"
      }
    },
    {
      "cell_type": "markdown",
      "source": [
        "Información basica sobre los datos\n",
        "La función df.info() es imporatnte ya que permite la información básica sobre el conjunto de datos. Para cualquier dato, es bueno empezar por conocer su información."
      ],
      "metadata": {
        "id": "OevPvcLglEP0"
      }
    },
    {
      "cell_type": "code",
      "source": [
        "#Basic information\n",
        "\n",
        "df.info()"
      ],
      "metadata": {
        "colab": {
          "base_uri": "https://localhost:8080/"
        },
        "id": "JC08GBMtdWvb",
        "outputId": "b65c1018-62a5-4166-fc6c-d4794b710967"
      },
      "execution_count": 4,
      "outputs": [
        {
          "output_type": "stream",
          "name": "stdout",
          "text": [
            "<class 'pandas.core.frame.DataFrame'>\n",
            "RangeIndex: 6 entries, 0 to 5\n",
            "Data columns (total 15 columns):\n",
            " #   Column       Non-Null Count  Dtype  \n",
            "---  ------       --------------  -----  \n",
            " 0   Unnamed: 0   0 non-null      float64\n",
            " 1   Unnamed: 1   0 non-null      float64\n",
            " 2   Unnamed: 2   0 non-null      float64\n",
            " 3   Unnamed: 3   0 non-null      float64\n",
            " 4   Unnamed: 4   0 non-null      float64\n",
            " 5   Unnamed: 5   0 non-null      float64\n",
            " 6   Unnamed: 6   0 non-null      float64\n",
            " 7   Unnamed: 7   0 non-null      float64\n",
            " 8   Unnamed: 8   0 non-null      float64\n",
            " 9   Unnamed: 9   0 non-null      float64\n",
            " 10  Unnamed: 10  0 non-null      float64\n",
            " 11  Unnamed: 11  0 non-null      float64\n",
            " 12  Unnamed: 12  0 non-null      float64\n",
            " 13  Unnamed: 13  0 non-null      float64\n",
            " 14  Unnamed: 14  1 non-null      object \n",
            "dtypes: float64(14), object(1)\n",
            "memory usage: 848.0+ bytes\n"
          ]
        }
      ]
    },
    {
      "cell_type": "code",
      "source": [
        "# Revisar la forma de los datos\n",
        "print(\"Forma de los datos:\", df.shape)"
      ],
      "metadata": {
        "colab": {
          "base_uri": "https://localhost:8080/"
        },
        "id": "C8PcglS9_21s",
        "outputId": "d098fe97-a27e-469f-8cc9-e3ebd548c4ff"
      },
      "execution_count": 5,
      "outputs": [
        {
          "output_type": "stream",
          "name": "stdout",
          "text": [
            "Forma de los datos: (6, 15)\n"
          ]
        }
      ]
    },
    {
      "cell_type": "markdown",
      "source": [
        "Esto indica que el archivo de Excel contiene información organizada en 6 filas y 15 columnas, donde cada fila representa una instancia o registro de datos y cada columna representa una variable o atributo, en este caso una hoja."
      ],
      "metadata": {
        "id": "fSFVXCvmF596"
      }
    },
    {
      "cell_type": "markdown",
      "source": [
        "Valores Nulos"
      ],
      "metadata": {
        "id": "a0Vx2CUx2H0e"
      }
    },
    {
      "cell_type": "code",
      "source": [
        "#Find null values\n",
        "df.isnull().sum()"
      ],
      "metadata": {
        "colab": {
          "base_uri": "https://localhost:8080/"
        },
        "id": "i_ZX9EZl2G1t",
        "outputId": "60fea382-74a5-4cac-c6a3-f5a4ce566eb5"
      },
      "execution_count": 6,
      "outputs": [
        {
          "output_type": "execute_result",
          "data": {
            "text/plain": [
              "Unnamed: 0     6\n",
              "Unnamed: 1     6\n",
              "Unnamed: 2     6\n",
              "Unnamed: 3     6\n",
              "Unnamed: 4     6\n",
              "Unnamed: 5     6\n",
              "Unnamed: 6     6\n",
              "Unnamed: 7     6\n",
              "Unnamed: 8     6\n",
              "Unnamed: 9     6\n",
              "Unnamed: 10    6\n",
              "Unnamed: 11    6\n",
              "Unnamed: 12    6\n",
              "Unnamed: 13    6\n",
              "Unnamed: 14    5\n",
              "dtype: int64"
            ]
          },
          "metadata": {},
          "execution_count": 6
        }
      ]
    },
    {
      "cell_type": "markdown",
      "source": [
        "El resultado de valores nulos es sospechoso para un mejor detalle sera necesario, hacer este analisis para cada DataFrame de las hojas y ver cuantos son"
      ],
      "metadata": {
        "id": "QNZmXLRV2VdT"
      }
    },
    {
      "cell_type": "code",
      "source": [
        "# Ver las hojas del archivo Excel\n",
        "hojas = pd.ExcelFile('infraestructura.xlsx').sheet_names\n",
        "print(hojas)\n"
      ],
      "metadata": {
        "colab": {
          "base_uri": "https://localhost:8080/"
        },
        "id": "dU256QCKQqcm",
        "outputId": "7b8c21b0-5d86-404f-a467-9ee74e0abcb3"
      },
      "execution_count": 7,
      "outputs": [
        {
          "output_type": "stream",
          "name": "stdout",
          "text": [
            "['INFRAESTRUCTURA CULTURAL-SICPY', 'Archivo ', 'Biblioteca', 'Salas de Cine', 'Salas de Teatro', 'Museos', 'Galerías de Arte', 'Librerías', 'Colegios y Escuelas', 'Inst. Educativas y Universit', 'Inst. de Enseñanza Artística', 'Centros Culturales', 'Otros']\n"
          ]
        }
      ]
    },
    {
      "cell_type": "markdown",
      "source": [
        "EL dataset utilizado esta almacenado en un excel con 15 hojas diferentes donde cada hoja tiene el nombre de la categoria de infraestructuras culturas del Paraguay, como Bibliotecas, Salas de cine,Salas de teatro, Museos, Galerias de Arte, Librerias, Centros Culturales, Escuelas, Universidades, etc. *SE USARAN LAS ULTIMAS 13 HOJAS, YA QUE LAS PRIMERAS HOJAS TIENE LA DOCUMENTACIÓN DEL DATASET.*\n",
        "\n",
        "Por ello es  necesario recurrir a la visualizacion de cada hoja en un dataFrame, esto se puede lograr utilizando la biblioteca pandas.\n"
      ],
      "metadata": {
        "id": "TpeUaw6HA1RO"
      }
    },
    {
      "cell_type": "markdown",
      "source": [
        "## ***Dataframe de biblioteca***"
      ],
      "metadata": {
        "id": "wBOmBbCy7glQ"
      }
    },
    {
      "cell_type": "code",
      "source": [
        "import pandas as pd\n",
        "\n",
        "# Leer el archivo Excel\n",
        "excel_file = pd.ExcelFile('infraestructura.xlsx')\n",
        "\n",
        "# Obtener el nombre de todas las hojas en el archivo\n",
        "sheet_names = excel_file.sheet_names\n",
        "\n",
        "# Crear un diccionario para almacenar los DataFrames de cada hoja\n",
        "dataframes = {}\n",
        "\n",
        "# Iterar sobre cada hoja y crear un DataFrame correspondiente\n",
        "for sheet_name in sheet_names:\n",
        "    # Leer los datos de la hoja y almacenarlos en un DataFrame\n",
        "    df = excel_file.parse(sheet_name)\n",
        "    # Almacenar el DataFrame en el diccionario usando el nombre de la hoja como clave\n",
        "    dataframes[sheet_name] = df\n",
        "\n",
        "# Obtener el DataFrame de la hoja \"Biblioteca\"\n",
        "biblioteca_df = dataframes['Biblioteca']\n",
        "\n",
        "# Visualizar el DataFrame de la hoja \"Biblioteca\"\n",
        "print(biblioteca_df)\n"
      ],
      "metadata": {
        "colab": {
          "base_uri": "https://localhost:8080/"
        },
        "id": "iZmMIJSGEcpL",
        "outputId": "c870d50f-ca18-4fcb-d008-d65d83f9e9c2"
      },
      "execution_count": 8,
      "outputs": [
        {
          "output_type": "stream",
          "name": "stdout",
          "text": [
            "        N°                                             Nombre Departamento  \\\n",
            "0      NaN                                                NaN          NaN   \n",
            "1      1.0  Biblioteca Central Universidad Nacional de Asu...      Central   \n",
            "2      2.0               Centro Nacional de Computación - UNA      Central   \n",
            "3      3.0                Facultad de Ciencias Agrarias - UNA      Central   \n",
            "4      4.0            Facultad de Ciencias Veterinarias - UNA      Central   \n",
            "..     ...                                                ...          ...   \n",
            "210  211.0                  Biblioteca del Colegio 1° de Mayo     Boquerón   \n",
            "211  212.0             Biblioteca de la Cooperativa Chortizer     Boquerón   \n",
            "212  213.0  Biblioteca del Colegio Nacional Mariscal Estig...     Boquerón   \n",
            "213  214.0       Biblioteca del Colegio Santa María del Chaco     Boquerón   \n",
            "214  215.0                                                NaN          NaN   \n",
            "\n",
            "                             Distrito                               Dirección  \\\n",
            "0                                 NaN                                     NaN   \n",
            "1                         San Lorenzo                        Campus de la UNA   \n",
            "2                         San Lorenzo                        Campus de la UNA   \n",
            "3                         San Lorenzo                        Campus de la UNA   \n",
            "4                         San Lorenzo                        Campus de la UNA   \n",
            "..                                ...                                     ...   \n",
            "210                        Filadelfia           Avenida Hindenburg y Boquerón   \n",
            "211                        Loma Plata  Eligio Ayala   frente al Supermercado    \n",
            "212  Mariscal José Félix Estigarribia             Villa Militar, sobre Ruta 9   \n",
            "213  Mariscal José Félix Estigarribia                      Barrio Santa María   \n",
            "214                               NaN                                     NaN   \n",
            "\n",
            "    Zona Geográfica                           Fuente de la Información  \\\n",
            "0               NaN                                                NaN   \n",
            "1       Zona urbana                          Bibliotecas de la UNA.pdf   \n",
            "2       Zona urbana                          Bibliotecas de la UNA.pdf   \n",
            "3       Zona urbana                          Bibliotecas de la UNA.pdf   \n",
            "4       Zona urbana                          Bibliotecas de la UNA.pdf   \n",
            "..              ...                                                ...   \n",
            "210     Zona urbana                        Municipalidad de Filadelfia   \n",
            "211     Zona urbana                        Municipalidad de Loma Plata   \n",
            "212      Zona rural  Municipalidad de Mariscal José Félix Estigarribia   \n",
            "213     Zona urbana  Municipalidad de Mariscal José Félix Estigarribia   \n",
            "214             NaN                                                NaN   \n",
            "\n",
            "     Número de Registro Observaciones  \n",
            "0                   NaN           NaN  \n",
            "1                   1.0           NaN  \n",
            "2                   2.0           NaN  \n",
            "3                   3.0           NaN  \n",
            "4                   4.0           NaN  \n",
            "..                  ...           ...  \n",
            "210                 NaN           NaN  \n",
            "211                 NaN           NaN  \n",
            "212                 NaN           NaN  \n",
            "213                 NaN           NaN  \n",
            "214                 NaN           NaN  \n",
            "\n",
            "[215 rows x 9 columns]\n"
          ]
        }
      ]
    },
    {
      "cell_type": "markdown",
      "source": [
        "###Exploración de los datos###"
      ],
      "metadata": {
        "id": "bnav1hs5xUS2"
      }
    },
    {
      "cell_type": "markdown",
      "source": [
        "Valores duplicados en Biblioteca"
      ],
      "metadata": {
        "id": "MTBt1wnfAQW6"
      }
    },
    {
      "cell_type": "code",
      "source": [
        "#Find the duplicates\n",
        "biblioteca_df.duplicated().sum()\n",
        "\n",
        "#df.duplicated"
      ],
      "metadata": {
        "colab": {
          "base_uri": "https://localhost:8080/"
        },
        "id": "EDNGQpZHx3x-",
        "outputId": "cba8d538-39dd-478b-ba15-af6f23fbb8a2"
      },
      "execution_count": 9,
      "outputs": [
        {
          "output_type": "execute_result",
          "data": {
            "text/plain": [
              "0"
            ]
          },
          "metadata": {},
          "execution_count": 9
        }
      ]
    },
    {
      "cell_type": "markdown",
      "source": [
        "Bueno, la función devolvió '0'. Esto significa que no hay un solo valor duplicado presente en nuestro conjunto de datos y es muy bueno saberlo"
      ],
      "metadata": {
        "id": "HUOSeyTwyaNu"
      }
    },
    {
      "cell_type": "markdown",
      "source": [
        "**Los tipos de datos **"
      ],
      "metadata": {
        "id": "E0z_WhdvAfC4"
      }
    },
    {
      "cell_type": "code",
      "source": [
        "#Datatypes\n",
        "\n",
        "biblioteca_df.dtypes"
      ],
      "metadata": {
        "colab": {
          "base_uri": "https://localhost:8080/"
        },
        "id": "9HqD0xHt39Ex",
        "outputId": "fafa9cc1-f3a9-4a2d-dc5f-035eb4089511"
      },
      "execution_count": 10,
      "outputs": [
        {
          "output_type": "execute_result",
          "data": {
            "text/plain": [
              "N°                          float64\n",
              "Nombre                       object\n",
              "Departamento                 object\n",
              "Distrito                     object\n",
              "Dirección                    object\n",
              "Zona Geográfica              object\n",
              "Fuente de la Información     object\n",
              "Número de Registro          float64\n",
              "Observaciones                object\n",
              "dtype: object"
            ]
          },
          "metadata": {},
          "execution_count": 10
        }
      ]
    },
    {
      "cell_type": "markdown",
      "source": [
        "**Valores nulos de biblioteca**"
      ],
      "metadata": {
        "id": "XL5lCS39BqoK"
      }
    },
    {
      "cell_type": "code",
      "source": [
        "#Find null values\n",
        "biblioteca_df.isnull().sum()"
      ],
      "metadata": {
        "colab": {
          "base_uri": "https://localhost:8080/"
        },
        "id": "wNREGciFBjUA",
        "outputId": "7b69afa6-572f-432a-df4a-4e471cb0c2c9"
      },
      "execution_count": 11,
      "outputs": [
        {
          "output_type": "execute_result",
          "data": {
            "text/plain": [
              "N°                            1\n",
              "Nombre                        2\n",
              "Departamento                  5\n",
              "Distrito                      5\n",
              "Dirección                     8\n",
              "Zona Geográfica               7\n",
              "Fuente de la Información      3\n",
              "Número de Registro          139\n",
              "Observaciones               208\n",
              "dtype: int64"
            ]
          },
          "metadata": {},
          "execution_count": 11
        }
      ]
    },
    {
      "cell_type": "markdown",
      "source": [
        "******\n",
        "El código `biblioteca_df.isnull().sum()` se utiliza para contar la cantidad de valores nulos (missing values) en cada columna de un DataFrame llamado biblioteca_df.\n",
        "\n",
        "En este dataframe se puede notar que el numero de registro tiene muchos valores nulos. Lo que indica que muchas Bibliotecas en el pais no tienen numero de registro"
      ],
      "metadata": {
        "id": "gluLqmW-y07m"
      }
    },
    {
      "cell_type": "markdown",
      "source": [
        "**Cantidad de bibliotecas en zona rural**"
      ],
      "metadata": {
        "id": "W3Dat5GxAk2C"
      }
    },
    {
      "cell_type": "markdown",
      "source": [
        "Para saber la cantidad de bibliotecas en la zona rural. se crea la condición biblioteca_df['Zona Geográfica'] == 'Zona rural' para filtrar las filas del DataFrame biblioteca_df que corresponden a la zona rural. Luego, conn la función len() para obtener la cantidad de filas resultantes, que representa la cantidad de bibliotecas en zona rural. Finalmente, se imprime el resultado.\n",
        "\n"
      ],
      "metadata": {
        "id": "XLN5lULR_PxF"
      }
    },
    {
      "cell_type": "code",
      "source": [
        "bibliotecas_rurales = biblioteca_df[biblioteca_df['Zona Geográfica'] == 'Zona rural']\n",
        "cantidad_bibliotecas_rurales = len(bibliotecas_rurales)\n",
        "\n",
        "print(\"Cantidad de bibliotecas en zona rural:\", cantidad_bibliotecas_rurales)\n"
      ],
      "metadata": {
        "colab": {
          "base_uri": "https://localhost:8080/"
        },
        "id": "qdMGPXMF-_Q0",
        "outputId": "fd3dcaea-08be-4a2d-d7c0-1b700a63c04d"
      },
      "execution_count": 12,
      "outputs": [
        {
          "output_type": "stream",
          "name": "stdout",
          "text": [
            "Cantidad de bibliotecas en zona rural: 5\n"
          ]
        }
      ]
    },
    {
      "cell_type": "markdown",
      "source": [
        "Siguiendo este analisis, es importante filtrar las bibliotecas que no tienen registro head(10) e imprimirlos en un dataframe"
      ],
      "metadata": {
        "id": "HT4g9z984WJz"
      }
    },
    {
      "cell_type": "code",
      "source": [
        "#Filter data\n",
        "biblioteca_df[biblioteca_df['Número de Registro'].isna()].head(10)\n"
      ],
      "metadata": {
        "colab": {
          "base_uri": "https://localhost:8080/",
          "height": 667
        },
        "id": "9rmY5Q_-4ULK",
        "outputId": "ddb105e5-a3be-494f-a6e4-4b56fc7318bb"
      },
      "execution_count": 13,
      "outputs": [
        {
          "output_type": "execute_result",
          "data": {
            "text/plain": [
              "      N°                                             Nombre Departamento  \\\n",
              "0    NaN                                                NaN          NaN   \n",
              "77  77.0            Biblioteca Municipal Ruy Diaz de Guzmán   Concepción   \n",
              "78  78.0             Biblioteca de la Universidad Católica    Concepción   \n",
              "79  79.0              Biblioteca Municipal Rincón del Saber   Concepción   \n",
              "80  80.0  Biblioteca Pa'í Ortellado de los Hermanos Mari...   Concepción   \n",
              "81  81.0                     Biblioteca Municipal de Loreto   Concepción   \n",
              "82  82.0                              Biblioteca Municipal    Concepción   \n",
              "83  83.0                  Biblioteca Municipal de Antequera    San Pedro   \n",
              "84  84.0                      Biblioteca municipal de Choré    San Pedro   \n",
              "85  85.0      Biblioteca del Instituto de Formación Docente    San Pedro   \n",
              "\n",
              "                   Distrito  \\\n",
              "0                       NaN   \n",
              "77               Concepción   \n",
              "78               Concepción   \n",
              "79                 Horqueta   \n",
              "80                 Horqueta   \n",
              "81                   Loreto   \n",
              "82               San Lázaro   \n",
              "83                Antequera   \n",
              "84                    Choré   \n",
              "85  General Elizardo Aquino   \n",
              "\n",
              "                                            Dirección Zona Geográfica  \\\n",
              "0                                                 NaN             NaN   \n",
              "77  Mariscal López entre  Cerro Corá y General  Eu...     Zona urbana   \n",
              "78                      Mariscal López esquina Iturbe     Zona urbana   \n",
              "79  Avenida Hermano Félix Aldunate Castillo y Gene...     Zona urbana   \n",
              "80  Calle Virgen del Rosario esquina Hermano Félix...     Zona urbana   \n",
              "81  Avenida Eusebio Ayala esquina Enfermeras del C...     Zona urbana   \n",
              "82                      Avenida Río Apa y 13 de Junio     Zona urbana   \n",
              "83  Avenida 3 de Mayo esquina José Antequera y Castro     Zona urbana   \n",
              "84   Avenida Antoliano Díaz Morel entre 11 de Dici...     Zona urbana   \n",
              "85                          25 de octubre y Curupayty     Zona urbana   \n",
              "\n",
              "                    Fuente de la Información  Número de Registro Observaciones  \n",
              "0                                        NaN                 NaN           NaN  \n",
              "77               Municipalidad de Concepción                 NaN           NaN  \n",
              "78               Municipalidad de Concepción                 NaN           NaN  \n",
              "79                 Municipalidad de Horqueta                 NaN           NaN  \n",
              "80                 Municipalidad de Horqueta                 NaN           NaN  \n",
              "81                   Municipalidad de Loreto                 NaN           NaN  \n",
              "82                   Municipaliad de Vallemí                 NaN           NaN  \n",
              "83                 Municipaliad de Antequera                 NaN           NaN  \n",
              "84                    Municipalidad de Choré                 NaN           NaN  \n",
              "85  Municipalidad de General Elizardo Aquino                 NaN           NaN  "
            ],
            "text/html": [
              "\n",
              "  <div id=\"df-ec486761-c480-4370-99a8-6943f8634571\">\n",
              "    <div class=\"colab-df-container\">\n",
              "      <div>\n",
              "<style scoped>\n",
              "    .dataframe tbody tr th:only-of-type {\n",
              "        vertical-align: middle;\n",
              "    }\n",
              "\n",
              "    .dataframe tbody tr th {\n",
              "        vertical-align: top;\n",
              "    }\n",
              "\n",
              "    .dataframe thead th {\n",
              "        text-align: right;\n",
              "    }\n",
              "</style>\n",
              "<table border=\"1\" class=\"dataframe\">\n",
              "  <thead>\n",
              "    <tr style=\"text-align: right;\">\n",
              "      <th></th>\n",
              "      <th>N°</th>\n",
              "      <th>Nombre</th>\n",
              "      <th>Departamento</th>\n",
              "      <th>Distrito</th>\n",
              "      <th>Dirección</th>\n",
              "      <th>Zona Geográfica</th>\n",
              "      <th>Fuente de la Información</th>\n",
              "      <th>Número de Registro</th>\n",
              "      <th>Observaciones</th>\n",
              "    </tr>\n",
              "  </thead>\n",
              "  <tbody>\n",
              "    <tr>\n",
              "      <th>0</th>\n",
              "      <td>NaN</td>\n",
              "      <td>NaN</td>\n",
              "      <td>NaN</td>\n",
              "      <td>NaN</td>\n",
              "      <td>NaN</td>\n",
              "      <td>NaN</td>\n",
              "      <td>NaN</td>\n",
              "      <td>NaN</td>\n",
              "      <td>NaN</td>\n",
              "    </tr>\n",
              "    <tr>\n",
              "      <th>77</th>\n",
              "      <td>77.0</td>\n",
              "      <td>Biblioteca Municipal Ruy Diaz de Guzmán</td>\n",
              "      <td>Concepción</td>\n",
              "      <td>Concepción</td>\n",
              "      <td>Mariscal López entre  Cerro Corá y General  Eu...</td>\n",
              "      <td>Zona urbana</td>\n",
              "      <td>Municipalidad de Concepción</td>\n",
              "      <td>NaN</td>\n",
              "      <td>NaN</td>\n",
              "    </tr>\n",
              "    <tr>\n",
              "      <th>78</th>\n",
              "      <td>78.0</td>\n",
              "      <td>Biblioteca de la Universidad Católica</td>\n",
              "      <td>Concepción</td>\n",
              "      <td>Concepción</td>\n",
              "      <td>Mariscal López esquina Iturbe</td>\n",
              "      <td>Zona urbana</td>\n",
              "      <td>Municipalidad de Concepción</td>\n",
              "      <td>NaN</td>\n",
              "      <td>NaN</td>\n",
              "    </tr>\n",
              "    <tr>\n",
              "      <th>79</th>\n",
              "      <td>79.0</td>\n",
              "      <td>Biblioteca Municipal Rincón del Saber</td>\n",
              "      <td>Concepción</td>\n",
              "      <td>Horqueta</td>\n",
              "      <td>Avenida Hermano Félix Aldunate Castillo y Gene...</td>\n",
              "      <td>Zona urbana</td>\n",
              "      <td>Municipalidad de Horqueta</td>\n",
              "      <td>NaN</td>\n",
              "      <td>NaN</td>\n",
              "    </tr>\n",
              "    <tr>\n",
              "      <th>80</th>\n",
              "      <td>80.0</td>\n",
              "      <td>Biblioteca Pa'í Ortellado de los Hermanos Mari...</td>\n",
              "      <td>Concepción</td>\n",
              "      <td>Horqueta</td>\n",
              "      <td>Calle Virgen del Rosario esquina Hermano Félix...</td>\n",
              "      <td>Zona urbana</td>\n",
              "      <td>Municipalidad de Horqueta</td>\n",
              "      <td>NaN</td>\n",
              "      <td>NaN</td>\n",
              "    </tr>\n",
              "    <tr>\n",
              "      <th>81</th>\n",
              "      <td>81.0</td>\n",
              "      <td>Biblioteca Municipal de Loreto</td>\n",
              "      <td>Concepción</td>\n",
              "      <td>Loreto</td>\n",
              "      <td>Avenida Eusebio Ayala esquina Enfermeras del C...</td>\n",
              "      <td>Zona urbana</td>\n",
              "      <td>Municipalidad de Loreto</td>\n",
              "      <td>NaN</td>\n",
              "      <td>NaN</td>\n",
              "    </tr>\n",
              "    <tr>\n",
              "      <th>82</th>\n",
              "      <td>82.0</td>\n",
              "      <td>Biblioteca Municipal</td>\n",
              "      <td>Concepción</td>\n",
              "      <td>San Lázaro</td>\n",
              "      <td>Avenida Río Apa y 13 de Junio</td>\n",
              "      <td>Zona urbana</td>\n",
              "      <td>Municipaliad de Vallemí</td>\n",
              "      <td>NaN</td>\n",
              "      <td>NaN</td>\n",
              "    </tr>\n",
              "    <tr>\n",
              "      <th>83</th>\n",
              "      <td>83.0</td>\n",
              "      <td>Biblioteca Municipal de Antequera</td>\n",
              "      <td>San Pedro</td>\n",
              "      <td>Antequera</td>\n",
              "      <td>Avenida 3 de Mayo esquina José Antequera y Castro</td>\n",
              "      <td>Zona urbana</td>\n",
              "      <td>Municipaliad de Antequera</td>\n",
              "      <td>NaN</td>\n",
              "      <td>NaN</td>\n",
              "    </tr>\n",
              "    <tr>\n",
              "      <th>84</th>\n",
              "      <td>84.0</td>\n",
              "      <td>Biblioteca municipal de Choré</td>\n",
              "      <td>San Pedro</td>\n",
              "      <td>Choré</td>\n",
              "      <td>Avenida Antoliano Díaz Morel entre 11 de Dici...</td>\n",
              "      <td>Zona urbana</td>\n",
              "      <td>Municipalidad de Choré</td>\n",
              "      <td>NaN</td>\n",
              "      <td>NaN</td>\n",
              "    </tr>\n",
              "    <tr>\n",
              "      <th>85</th>\n",
              "      <td>85.0</td>\n",
              "      <td>Biblioteca del Instituto de Formación Docente</td>\n",
              "      <td>San Pedro</td>\n",
              "      <td>General Elizardo Aquino</td>\n",
              "      <td>25 de octubre y Curupayty</td>\n",
              "      <td>Zona urbana</td>\n",
              "      <td>Municipalidad de General Elizardo Aquino</td>\n",
              "      <td>NaN</td>\n",
              "      <td>NaN</td>\n",
              "    </tr>\n",
              "  </tbody>\n",
              "</table>\n",
              "</div>\n",
              "      <button class=\"colab-df-convert\" onclick=\"convertToInteractive('df-ec486761-c480-4370-99a8-6943f8634571')\"\n",
              "              title=\"Convert this dataframe to an interactive table.\"\n",
              "              style=\"display:none;\">\n",
              "        \n",
              "  <svg xmlns=\"http://www.w3.org/2000/svg\" height=\"24px\"viewBox=\"0 0 24 24\"\n",
              "       width=\"24px\">\n",
              "    <path d=\"M0 0h24v24H0V0z\" fill=\"none\"/>\n",
              "    <path d=\"M18.56 5.44l.94 2.06.94-2.06 2.06-.94-2.06-.94-.94-2.06-.94 2.06-2.06.94zm-11 1L8.5 8.5l.94-2.06 2.06-.94-2.06-.94L8.5 2.5l-.94 2.06-2.06.94zm10 10l.94 2.06.94-2.06 2.06-.94-2.06-.94-.94-2.06-.94 2.06-2.06.94z\"/><path d=\"M17.41 7.96l-1.37-1.37c-.4-.4-.92-.59-1.43-.59-.52 0-1.04.2-1.43.59L10.3 9.45l-7.72 7.72c-.78.78-.78 2.05 0 2.83L4 21.41c.39.39.9.59 1.41.59.51 0 1.02-.2 1.41-.59l7.78-7.78 2.81-2.81c.8-.78.8-2.07 0-2.86zM5.41 20L4 18.59l7.72-7.72 1.47 1.35L5.41 20z\"/>\n",
              "  </svg>\n",
              "      </button>\n",
              "      \n",
              "  <style>\n",
              "    .colab-df-container {\n",
              "      display:flex;\n",
              "      flex-wrap:wrap;\n",
              "      gap: 12px;\n",
              "    }\n",
              "\n",
              "    .colab-df-convert {\n",
              "      background-color: #E8F0FE;\n",
              "      border: none;\n",
              "      border-radius: 50%;\n",
              "      cursor: pointer;\n",
              "      display: none;\n",
              "      fill: #1967D2;\n",
              "      height: 32px;\n",
              "      padding: 0 0 0 0;\n",
              "      width: 32px;\n",
              "    }\n",
              "\n",
              "    .colab-df-convert:hover {\n",
              "      background-color: #E2EBFA;\n",
              "      box-shadow: 0px 1px 2px rgba(60, 64, 67, 0.3), 0px 1px 3px 1px rgba(60, 64, 67, 0.15);\n",
              "      fill: #174EA6;\n",
              "    }\n",
              "\n",
              "    [theme=dark] .colab-df-convert {\n",
              "      background-color: #3B4455;\n",
              "      fill: #D2E3FC;\n",
              "    }\n",
              "\n",
              "    [theme=dark] .colab-df-convert:hover {\n",
              "      background-color: #434B5C;\n",
              "      box-shadow: 0px 1px 3px 1px rgba(0, 0, 0, 0.15);\n",
              "      filter: drop-shadow(0px 1px 2px rgba(0, 0, 0, 0.3));\n",
              "      fill: #FFFFFF;\n",
              "    }\n",
              "  </style>\n",
              "\n",
              "      <script>\n",
              "        const buttonEl =\n",
              "          document.querySelector('#df-ec486761-c480-4370-99a8-6943f8634571 button.colab-df-convert');\n",
              "        buttonEl.style.display =\n",
              "          google.colab.kernel.accessAllowed ? 'block' : 'none';\n",
              "\n",
              "        async function convertToInteractive(key) {\n",
              "          const element = document.querySelector('#df-ec486761-c480-4370-99a8-6943f8634571');\n",
              "          const dataTable =\n",
              "            await google.colab.kernel.invokeFunction('convertToInteractive',\n",
              "                                                     [key], {});\n",
              "          if (!dataTable) return;\n",
              "\n",
              "          const docLinkHtml = 'Like what you see? Visit the ' +\n",
              "            '<a target=\"_blank\" href=https://colab.research.google.com/notebooks/data_table.ipynb>data table notebook</a>'\n",
              "            + ' to learn more about interactive tables.';\n",
              "          element.innerHTML = '';\n",
              "          dataTable['output_type'] = 'display_data';\n",
              "          await google.colab.output.renderOutput(dataTable, element);\n",
              "          const docLink = document.createElement('div');\n",
              "          docLink.innerHTML = docLinkHtml;\n",
              "          element.appendChild(docLink);\n",
              "        }\n",
              "      </script>\n",
              "    </div>\n",
              "  </div>\n",
              "  "
            ]
          },
          "metadata": {},
          "execution_count": 13
        }
      ]
    },
    {
      "cell_type": "markdown",
      "source": [
        "###Visualizacion de datos###"
      ],
      "metadata": {
        "id": "Vwzqc6jiB_8O"
      }
    },
    {
      "cell_type": "markdown",
      "source": [
        "**Cantidad de Bibliotecas Registradas por Distrito. Grafico de Dispersión**"
      ],
      "metadata": {
        "id": "Dq1kjY-6Fhv1"
      }
    },
    {
      "cell_type": "code",
      "source": [
        "import matplotlib.pyplot as plt\n",
        "\n",
        "# Agrupar por distrito y contar la cantidad de bibliotecas registradas\n",
        "grouped_df = biblioteca_df[biblioteca_df['Número de Registro'].notna()].groupby('Distrito').size().reset_index(name='Cantidad')\n",
        "\n",
        "# Crear el gráfico de barras\n",
        "plt.bar(grouped_df['Distrito'], grouped_df['Cantidad'])\n",
        "\n",
        "# Configurar el título y las etiquetas de los ejes\n",
        "plt.title('Cantidad de Bibliotecas Registradas por Distrito')\n",
        "plt.xlabel('Distrito')\n",
        "plt.ylabel('Cantidad de Bibliotecas Registradas')\n",
        "\n",
        "# Rotar las etiquetas del eje x para mayor legibilidad\n",
        "plt.xticks(rotation=90)\n",
        "\n",
        "# Mostrar el gráfico de barras\n",
        "plt.show()\n"
      ],
      "metadata": {
        "colab": {
          "base_uri": "https://localhost:8080/",
          "height": 612
        },
        "id": "iHniXv6SDeZm",
        "outputId": "837654d2-8e60-43bc-82a3-db70e1f1abf9"
      },
      "execution_count": 14,
      "outputs": [
        {
          "output_type": "display_data",
          "data": {
            "text/plain": [
              "<Figure size 640x480 with 1 Axes>"
            ],
            "image/png": "[encoded data removed]"
          },
          "metadata": {}
        }
      ]
    },
    {
      "cell_type": "markdown",
      "source": [
        "**Cantidad de Bibliotecas Registradas por Departamento. Grafico de Barras**"
      ],
      "metadata": {
        "id": "QpEJtOAGFvta"
      }
    },
    {
      "cell_type": "code",
      "source": [
        "import matplotlib.pyplot as plt\n",
        "\n",
        "# Agrupar por departamento y contar la cantidad de bibliotecas registradas\n",
        "grouped_df = biblioteca_df[biblioteca_df['Número de Registro'].notna()].groupby('Departamento').size().reset_index(name='Cantidad')\n",
        "\n",
        "# Ordenar los departamentos por la cantidad de bibliotecas registradas de forma descendente\n",
        "grouped_df = grouped_df.sort_values('Cantidad', ascending=False)\n",
        "\n",
        "# Crear el gráfico de barras\n",
        "plt.bar(grouped_df['Departamento'], grouped_df['Cantidad'], color='steelblue')\n",
        "\n",
        "# Configurar el título y las etiquetas de los ejes\n",
        "plt.title('Cantidad de Bibliotecas Registradas por Departamento')\n",
        "plt.xlabel('Departamento')\n",
        "plt.ylabel('Cantidad de Bibliotecas Registradas')\n",
        "\n",
        "# Ajustar el espaciado entre las barras\n",
        "plt.tight_layout()\n",
        "\n",
        "# Rotar las etiquetas del eje x para mayor legibilidad\n",
        "plt.xticks(rotation=90)\n",
        "\n",
        "# Agregar etiquetas con los valores en las barras\n",
        "for i, value in enumerate(grouped_df['Cantidad']):\n",
        "    plt.text(i, value, str(value), ha='center', va='bottom')\n",
        "\n",
        "# Mostrar el gráfico de barras\n",
        "plt.show()\n",
        "\n",
        "\n"
      ],
      "metadata": {
        "colab": {
          "base_uri": "https://localhost:8080/",
          "height": 523
        },
        "id": "LnBB3iQqE7VX",
        "outputId": "1316bc77-1db4-4293-e4ca-28ced0584113"
      },
      "execution_count": 15,
      "outputs": [
        {
          "output_type": "display_data",
          "data": {
            "text/plain": [
              "<Figure size 640x480 with 1 Axes>"
            ],
            "image/png": "[encoded data removed]"
          },
          "metadata": {}
        }
      ]
    },
    {
      "cell_type": "markdown",
      "source": [
        "###Analisis Descriptivo###"
      ],
      "metadata": {
        "id": "ZtY-sE_HF8hj"
      }
    },
    {
      "cell_type": "markdown",
      "source": [
        "Ahora para una analisis mas detallado y visual, relacionaremos la columna de distrito con la de numero de registros para ello es necesario.\n",
        "1.Filtra el DataFrame para obtener las filas que cumplen la condición de tener un número de registro nulo.\n",
        "2.Agrupar los datos por el campo 'Zona Geografica' y cuenta la cantidad de filas en cada grupo.\n",
        "3.Crear el gráfico de torta utilizando la función plot.pie() de Pandas.w\n",
        "\n"
      ],
      "metadata": {
        "id": "smKGNA7w6hev"
      }
    },
    {
      "cell_type": "code",
      "source": [
        "import pandas as pd\n",
        "import matplotlib.pyplot as plt\n",
        "\n",
        "filtered_df = biblioteca_df[biblioteca_df['Número de Registro'].isna()]\n",
        "grouped_df = filtered_df['Zona Geográfica'].value_counts()\n",
        "percentages = grouped_df / grouped_df.sum() * 100\n",
        "\n",
        "# Seleccionar los dos primeros elementos\n",
        "percentages = percentages.head(2)\n",
        "\n",
        "# Colores para los segmentos de la torta\n",
        "colors = ['lightblue', 'lightgreen']\n",
        "\n",
        "# Crear el gráfico de torta\n",
        "plt.pie(percentages, labels=percentages.index, colors=colors, autopct='%1.1f%%')\n",
        "\n",
        "# Agregar título y leyenda\n",
        "plt.title('Porcentaje de Bibliotecas sin Registro por Zona Geográfica')\n",
        "plt.legend(percentages.index, loc='best')\n",
        "\n",
        "# Mostrar el gráfico\n",
        "plt.show()\n"
      ],
      "metadata": {
        "colab": {
          "base_uri": "https://localhost:8080/",
          "height": 429
        },
        "id": "UJoDLJ7Y-GZc",
        "outputId": "d4d82af2-4859-498c-8c16-6a959b782885"
      },
      "execution_count": 16,
      "outputs": [
        {
          "output_type": "display_data",
          "data": {
            "text/plain": [
              "<Figure size 640x480 with 1 Axes>"
            ],
            "image/png": "[encoded data removed]"
          },
          "metadata": {}
        }
      ]
    },
    {
      "cell_type": "markdown",
      "source": [
        "Apesar de lo obvio y la precariedad de la cantidad de instituciones educativas y bibliotecas en la zona rural , el analisis se puede ver un poco sesgado ya que hay una cantidad de bibliotecas en la zona rural solo es de 5"
      ],
      "metadata": {
        "id": "1QAw7ui5-O5z"
      }
    },
    {
      "cell_type": "markdown",
      "source": [
        "## *Dataframe de sala de cine*\n",
        "\n"
      ],
      "metadata": {
        "id": "9N6ZX-Va3gsg"
      }
    },
    {
      "cell_type": "code",
      "source": [
        "import pandas as pd\n",
        "\n",
        "# Leer el archivo Excel\n",
        "excel_file = pd.ExcelFile('infraestructura.xlsx')\n",
        "\n",
        "# Obtener el nombre de todas las hojas en el archivo\n",
        "sheet_names = excel_file.sheet_names\n",
        "\n",
        "# Crear un diccionario para almacenar los DataFrames de cada hoja\n",
        "dataframes = {}\n",
        "\n",
        "# Iterar sobre cada hoja y crear un DataFrame correspondiente\n",
        "for sheet_name in sheet_names:\n",
        "    # Leer los datos de la hoja y almacenarlos en un DataFrame\n",
        "    df = excel_file.parse(sheet_name)\n",
        "    # Almacenar el DataFrame en el diccionario usando el nombre de la hoja como clave\n",
        "    dataframes[sheet_name] = df\n",
        "\n",
        "# Obtener el DataFrame de la hoja \"Sala de Cine\"\n",
        "salasdecine_df = dataframes['Salas de Cine']\n",
        "\n",
        "# Visualizar el DataFrame de la hoja \"Sala de Cine\"\n",
        "print(salasdecine_df)\n"
      ],
      "metadata": {
        "colab": {
          "base_uri": "https://localhost:8080/"
        },
        "id": "uRZOC2sc5LBM",
        "outputId": "fcc8207a-1b38-487f-ca8b-04a87ea043c7"
      },
      "execution_count": 17,
      "outputs": [
        {
          "output_type": "stream",
          "name": "stdout",
          "text": [
            "        N°                    Nombre Departamento  Distrito  \\\n",
            "0      NaN                       NaN          NaN       NaN   \n",
            "1      1.0  Cines del Mall Excelsior      Capital  Asunción   \n",
            "2      2.0        Cines Itaú del Sol      Capital  Asunción   \n",
            "3      3.0      Cines Itaú Hiperseis      Capital  Asunción   \n",
            "4      4.0     Cines Itaú Multiplaza      Capital  Asunción   \n",
            "..     ...                       ...          ...       ...   \n",
            "335  357.0                       NaN          NaN       NaN   \n",
            "336  358.0                       NaN          NaN       NaN   \n",
            "337  359.0                       NaN          NaN       NaN   \n",
            "338  360.0                       NaN          NaN       NaN   \n",
            "339  361.0                       NaN          NaN       NaN   \n",
            "\n",
            "                                             Dirección Zona Geográfica  \\\n",
            "0                                                  NaN             NaN   \n",
            "1                              Chile esquina Manduvirá     Zona urbana   \n",
            "2    Avenida Aviadores del Chaco y Profesora Delia ...     Zona urbana   \n",
            "3              Avenida Mariscal López y Teniente Casco     Zona urbana   \n",
            "4    Avenida Eusebio Ayala 4501 - Kilómetro  5 (Seg...     Zona urbana   \n",
            "..                                                 ...             ...   \n",
            "335                                                NaN             NaN   \n",
            "336                                                NaN             NaN   \n",
            "337                                                NaN             NaN   \n",
            "338                                                NaN             NaN   \n",
            "339                                                NaN             NaN   \n",
            "\n",
            "                              Fuente de la Información  Nro. de Registro  \n",
            "0                                                  NaN               NaN  \n",
            "1    Dirección de Creación y Diversidad - Departame...               1.0  \n",
            "2    Dirección de Creación y Diversidad - Departame...               2.0  \n",
            "3    Dirección de Creación y Diversidad - Departame...               3.0  \n",
            "4    Dirección de Creación y Diversidad - Departame...               4.0  \n",
            "..                                                 ...               ...  \n",
            "335                                                NaN               NaN  \n",
            "336                                                NaN               NaN  \n",
            "337                                                NaN               NaN  \n",
            "338                                                NaN               NaN  \n",
            "339                                                NaN               NaN  \n",
            "\n",
            "[340 rows x 8 columns]\n"
          ]
        }
      ]
    },
    {
      "cell_type": "markdown",
      "source": [
        "Este Dataframe muestra una cantidad de 340 registros y 8 columnas, y una cantidad muy grande de valores nulos, lo que hace que no se llegue a entender precisamente de que trata los datos para mejorar esto, primeramente hay que explorar los datos."
      ],
      "metadata": {
        "id": "fbv1QOXkNoDW"
      }
    },
    {
      "cell_type": "markdown",
      "source": [
        "###Exploración de los datos###"
      ],
      "metadata": {
        "id": "k0wfkQRgPy9V"
      }
    },
    {
      "cell_type": "markdown",
      "source": [
        "Valores duplicados"
      ],
      "metadata": {
        "id": "WbuZgn5iQpR5"
      }
    },
    {
      "cell_type": "code",
      "source": [
        "#Find the duplicates\n",
        "salasdecine_df.duplicated().sum()\n"
      ],
      "metadata": {
        "colab": {
          "base_uri": "https://localhost:8080/"
        },
        "id": "9wHJWhK3QwMT",
        "outputId": "c753bee7-2077-4dca-b357-4b6545bafb4a"
      },
      "execution_count": 18,
      "outputs": [
        {
          "output_type": "execute_result",
          "data": {
            "text/plain": [
              "0"
            ]
          },
          "metadata": {},
          "execution_count": 18
        }
      ]
    },
    {
      "cell_type": "markdown",
      "source": [
        "Los tipos de datos\n"
      ],
      "metadata": {
        "id": "fCXMlYvxQ63j"
      }
    },
    {
      "cell_type": "code",
      "source": [
        "#Datatypes\n",
        "salasdecine_df.dtypes"
      ],
      "metadata": {
        "colab": {
          "base_uri": "https://localhost:8080/"
        },
        "id": "jyvGPWroRJT9",
        "outputId": "8afb7040-b628-4d46-f8fd-6dac06c8ee47"
      },
      "execution_count": 19,
      "outputs": [
        {
          "output_type": "execute_result",
          "data": {
            "text/plain": [
              "N°                          float64\n",
              "Nombre                       object\n",
              "Departamento                 object\n",
              "Distrito                     object\n",
              "Dirección                    object\n",
              "Zona Geográfica              object\n",
              "Fuente de la Información     object\n",
              "Nro. de Registro            float64\n",
              "dtype: object"
            ]
          },
          "metadata": {},
          "execution_count": 19
        }
      ]
    },
    {
      "cell_type": "markdown",
      "source": [
        "Valores nulos de Salas de Cine\n"
      ],
      "metadata": {
        "id": "2bewVcXAG9y7"
      }
    },
    {
      "cell_type": "code",
      "source": [
        "#Find null values\n",
        "salasdecine_df.isnull().sum()"
      ],
      "metadata": {
        "colab": {
          "base_uri": "https://localhost:8080/"
        },
        "id": "_4_p7LDg8GQV",
        "outputId": "c940b7c0-f27e-4aad-ef49-742f6565e525"
      },
      "execution_count": 20,
      "outputs": [
        {
          "output_type": "execute_result",
          "data": {
            "text/plain": [
              "N°                            1\n",
              "Nombre                      326\n",
              "Departamento                326\n",
              "Distrito                    326\n",
              "Dirección                   326\n",
              "Zona Geográfica             326\n",
              "Fuente de la Información    326\n",
              "Nro. de Registro            328\n",
              "dtype: int64"
            ]
          },
          "metadata": {},
          "execution_count": 20
        }
      ]
    },
    {
      "cell_type": "markdown",
      "source": [
        "La cantidad de valores Nulos tiene una alarmante cifra en el dataframe de salas de cine, teniendo en cuenta que se tienen 340 registros por 8 columnas. Pero coinciden en numero de nulos la mayoria de las columnas(326) a diferencia de la columna de numero de registro con 2 valores nulos más, esto se puede entender que dos salas de cine no poseen numero de registro.\n",
        "Se opta por la alternativa de limpiar datos nulo (sin información). Se recurre a borrar dichos filas vacias.\n"
      ],
      "metadata": {
        "id": "VF1qXqOKHAVK"
      }
    },
    {
      "cell_type": "markdown",
      "source": [
        "Eliminar filas vacias"
      ],
      "metadata": {
        "id": "Lxd-HZopH9f5"
      }
    },
    {
      "cell_type": "markdown",
      "source": [
        " Se desea eliminar las filas que contienen valores nulos en el DataFrame saladecine_df pero solo las últimas filas, para ello se recurrió a utilizar el parámetro subset del método dropna() para especificar las columnas en las que deseas verificar la presencia de valores nulos.\n",
        " Al ejecutar este código, se eliminarán las últimas filas que contengan al menos un valor nulo en alguna de las columnas especificadas en subset.\n",
        " Es importante aclarar que tras la proyeccion de la base de datos en la aplicacion de escritorio excel, se pudo ver que los registros con imacion eran pocos, y alcanzaban hast la fila 15 por ello el codigo se puso rango para eliminar"
      ],
      "metadata": {
        "id": "rV4iLX0UJRCj"
      }
    },
    {
      "cell_type": "code",
      "source": [
        "salasdecine_df = salasdecine_df.iloc[:15].append(salasdecine_df.iloc[16:].dropna())\n"
      ],
      "metadata": {
        "colab": {
          "base_uri": "https://localhost:8080/"
        },
        "id": "vLRigy_BLGAG",
        "outputId": "9aef463c-cce3-48ed-f0f8-bcd5187550dc"
      },
      "execution_count": 21,
      "outputs": [
        {
          "output_type": "stream",
          "name": "stderr",
          "text": [
            "<ipython-input-21-4b140b77c270>:1: FutureWarning: The frame.append method is deprecated and will be removed from pandas in a future version. Use pandas.concat instead.\n",
            "  salasdecine_df = salasdecine_df.iloc[:15].append(salasdecine_df.iloc[16:].dropna())\n"
          ]
        }
      ]
    },
    {
      "cell_type": "markdown",
      "source": [
        "En el dataframe se ve que los registros comienzan con la primera fila todos en  nulo, quiza fue el sentido que le dieron al diseño de la base de datos pero para el analisis es irrelevante por ello se opto por eliminar tambien esta primera fila."
      ],
      "metadata": {
        "id": "0_6NUBaCO-cS"
      }
    },
    {
      "cell_type": "code",
      "source": [
        "salasdecine_df = salasdecine_df.drop(salasdecine_df.index[0])\n"
      ],
      "metadata": {
        "id": "kynGz-85L2vf"
      },
      "execution_count": 22,
      "outputs": []
    },
    {
      "cell_type": "markdown",
      "source": [
        "Lo que da como resultado un dataframe mucho más pulcro y entendible"
      ],
      "metadata": {
        "id": "TTVhewqaPOvd"
      }
    },
    {
      "cell_type": "code",
      "source": [
        "salasdecine_df"
      ],
      "metadata": {
        "colab": {
          "base_uri": "https://localhost:8080/",
          "height": 792
        },
        "id": "8B4tY0PwJ3bK",
        "outputId": "eb3acfe2-a984-4f03-9456-c6d7675e5d67"
      },
      "execution_count": 23,
      "outputs": [
        {
          "output_type": "execute_result",
          "data": {
            "text/plain": [
              "      N°                                       Nombre Departamento  \\\n",
              "1    1.0                     Cines del Mall Excelsior      Capital   \n",
              "2    2.0                           Cines Itaú del Sol      Capital   \n",
              "3    3.0                         Cines Itaú Hiperseis      Capital   \n",
              "4    4.0                        Cines Itaú Multiplaza      Capital   \n",
              "5    5.0                        Real Cines Acceso Sur      Central   \n",
              "6    6.0                       Villa Morra Cinecenter      Capital   \n",
              "7    7.0     Centro Cultura de España Juan de Salazar      Capital   \n",
              "8    8.0                                  Cine Cañizá      Capital   \n",
              "9    9.0                       Cine Teatro del Puerto      Capital   \n",
              "10  10.0        Centro Cultural Manzana de la Rivera       Capital   \n",
              "11  11.0  Espacio INCAA - Auditorio Leopoldo Marechal      Capital   \n",
              "12  12.0              Sala Moliére - Alianza Francesa      Capital   \n",
              "13  32.0                               Cines Granados      Itapúa    \n",
              "14  36.0                                  Zuni Center  Alto Paraná   \n",
              "\n",
              "               Distrito                                          Dirección  \\\n",
              "1              Asunción                            Chile esquina Manduvirá   \n",
              "2              Asunción  Avenida Aviadores del Chaco y Profesora Delia ...   \n",
              "3              Asunción            Avenida Mariscal López y Teniente Casco   \n",
              "4              Asunción  Avenida Eusebio Ayala 4501 - Kilómetro  5 (Seg...   \n",
              "5   Fernando de la Mora                           Acceso Sur c/ Usher Ríos   \n",
              "6              Asunción         Avenida Mariscal López y Charles de Gaulle   \n",
              "7              Asunción                             Herrera 834 c/ Tacuary   \n",
              "8              Asunción  Teniente Mendoza entre Itapúa y Santísima Trin...   \n",
              "9              Asunción                    Colón y Paraguayo Independiente   \n",
              "10             Asunción  Ayolas 129 entre Paraguayo Independiente y Ben...   \n",
              "11             Asunción                        Avenida España esquina Perú   \n",
              "12             Asunción       Mariscal Estigarribia 1039 c/ Estados Unidos   \n",
              "13          Encarnación                Juan León Mallorquín c/ 25 de Mayo    \n",
              "14      Ciudad del Este  Avenida San Blas c/ Patricio Colmán - Kilómetro 2   \n",
              "\n",
              "   Zona Geográfica                           Fuente de la Información  \\\n",
              "1      Zona urbana  Dirección de Creación y Diversidad - Departame...   \n",
              "2      Zona urbana  Dirección de Creación y Diversidad - Departame...   \n",
              "3      Zona urbana  Dirección de Creación y Diversidad - Departame...   \n",
              "4      Zona urbana  Dirección de Creación y Diversidad - Departame...   \n",
              "5      Zona urbana  Dirección de Creación y Diversidad - Departame...   \n",
              "6      Zona urbana  Dirección de Creación y Diversidad - Departame...   \n",
              "7      Zona urbana  Dirección de Creación y Diversidad - Departame...   \n",
              "8      Zona urbana  Dirección de Creación y Diversidad - Departame...   \n",
              "9      Zona urbana  Dirección de Creación y Diversidad - Departame...   \n",
              "10     Zona urbana  Dirección de Creación y Diversidad - Departame...   \n",
              "11     Zona urbana  Dirección de Creación y Diversidad - Departame...   \n",
              "12     Zona urbana  Dirección de Creación y Diversidad - Departame...   \n",
              "13     Zona urbana                       Municipalidad de Encarnación   \n",
              "14     Zona urbana                   Municipalidad de Ciudad del Este   \n",
              "\n",
              "    Nro. de Registro  \n",
              "1                1.0  \n",
              "2                2.0  \n",
              "3                3.0  \n",
              "4                4.0  \n",
              "5                5.0  \n",
              "6                6.0  \n",
              "7                7.0  \n",
              "8                8.0  \n",
              "9                9.0  \n",
              "10              10.0  \n",
              "11              11.0  \n",
              "12              12.0  \n",
              "13               NaN  \n",
              "14               NaN  "
            ],
            "text/html": [
              "\n",
              "  <div id=\"df-de3646b3-8101-4dc2-be86-b027136a7342\">\n",
              "    <div class=\"colab-df-container\">\n",
              "      <div>\n",
              "<style scoped>\n",
              "    .dataframe tbody tr th:only-of-type {\n",
              "        vertical-align: middle;\n",
              "    }\n",
              "\n",
              "    .dataframe tbody tr th {\n",
              "        vertical-align: top;\n",
              "    }\n",
              "\n",
              "    .dataframe thead th {\n",
              "        text-align: right;\n",
              "    }\n",
              "</style>\n",
              "<table border=\"1\" class=\"dataframe\">\n",
              "  <thead>\n",
              "    <tr style=\"text-align: right;\">\n",
              "      <th></th>\n",
              "      <th>N°</th>\n",
              "      <th>Nombre</th>\n",
              "      <th>Departamento</th>\n",
              "      <th>Distrito</th>\n",
              "      <th>Dirección</th>\n",
              "      <th>Zona Geográfica</th>\n",
              "      <th>Fuente de la Información</th>\n",
              "      <th>Nro. de Registro</th>\n",
              "    </tr>\n",
              "  </thead>\n",
              "  <tbody>\n",
              "    <tr>\n",
              "      <th>1</th>\n",
              "      <td>1.0</td>\n",
              "      <td>Cines del Mall Excelsior</td>\n",
              "      <td>Capital</td>\n",
              "      <td>Asunción</td>\n",
              "      <td>Chile esquina Manduvirá</td>\n",
              "      <td>Zona urbana</td>\n",
              "      <td>Dirección de Creación y Diversidad - Departame...</td>\n",
              "      <td>1.0</td>\n",
              "    </tr>\n",
              "    <tr>\n",
              "      <th>2</th>\n",
              "      <td>2.0</td>\n",
              "      <td>Cines Itaú del Sol</td>\n",
              "      <td>Capital</td>\n",
              "      <td>Asunción</td>\n",
              "      <td>Avenida Aviadores del Chaco y Profesora Delia ...</td>\n",
              "      <td>Zona urbana</td>\n",
              "      <td>Dirección de Creación y Diversidad - Departame...</td>\n",
              "      <td>2.0</td>\n",
              "    </tr>\n",
              "    <tr>\n",
              "      <th>3</th>\n",
              "      <td>3.0</td>\n",
              "      <td>Cines Itaú Hiperseis</td>\n",
              "      <td>Capital</td>\n",
              "      <td>Asunción</td>\n",
              "      <td>Avenida Mariscal López y Teniente Casco</td>\n",
              "      <td>Zona urbana</td>\n",
              "      <td>Dirección de Creación y Diversidad - Departame...</td>\n",
              "      <td>3.0</td>\n",
              "    </tr>\n",
              "    <tr>\n",
              "      <th>4</th>\n",
              "      <td>4.0</td>\n",
              "      <td>Cines Itaú Multiplaza</td>\n",
              "      <td>Capital</td>\n",
              "      <td>Asunción</td>\n",
              "      <td>Avenida Eusebio Ayala 4501 - Kilómetro  5 (Seg...</td>\n",
              "      <td>Zona urbana</td>\n",
              "      <td>Dirección de Creación y Diversidad - Departame...</td>\n",
              "      <td>4.0</td>\n",
              "    </tr>\n",
              "    <tr>\n",
              "      <th>5</th>\n",
              "      <td>5.0</td>\n",
              "      <td>Real Cines Acceso Sur</td>\n",
              "      <td>Central</td>\n",
              "      <td>Fernando de la Mora</td>\n",
              "      <td>Acceso Sur c/ Usher Ríos</td>\n",
              "      <td>Zona urbana</td>\n",
              "      <td>Dirección de Creación y Diversidad - Departame...</td>\n",
              "      <td>5.0</td>\n",
              "    </tr>\n",
              "    <tr>\n",
              "      <th>6</th>\n",
              "      <td>6.0</td>\n",
              "      <td>Villa Morra Cinecenter</td>\n",
              "      <td>Capital</td>\n",
              "      <td>Asunción</td>\n",
              "      <td>Avenida Mariscal López y Charles de Gaulle</td>\n",
              "      <td>Zona urbana</td>\n",
              "      <td>Dirección de Creación y Diversidad - Departame...</td>\n",
              "      <td>6.0</td>\n",
              "    </tr>\n",
              "    <tr>\n",
              "      <th>7</th>\n",
              "      <td>7.0</td>\n",
              "      <td>Centro Cultura de España Juan de Salazar</td>\n",
              "      <td>Capital</td>\n",
              "      <td>Asunción</td>\n",
              "      <td>Herrera 834 c/ Tacuary</td>\n",
              "      <td>Zona urbana</td>\n",
              "      <td>Dirección de Creación y Diversidad - Departame...</td>\n",
              "      <td>7.0</td>\n",
              "    </tr>\n",
              "    <tr>\n",
              "      <th>8</th>\n",
              "      <td>8.0</td>\n",
              "      <td>Cine Cañizá</td>\n",
              "      <td>Capital</td>\n",
              "      <td>Asunción</td>\n",
              "      <td>Teniente Mendoza entre Itapúa y Santísima Trin...</td>\n",
              "      <td>Zona urbana</td>\n",
              "      <td>Dirección de Creación y Diversidad - Departame...</td>\n",
              "      <td>8.0</td>\n",
              "    </tr>\n",
              "    <tr>\n",
              "      <th>9</th>\n",
              "      <td>9.0</td>\n",
              "      <td>Cine Teatro del Puerto</td>\n",
              "      <td>Capital</td>\n",
              "      <td>Asunción</td>\n",
              "      <td>Colón y Paraguayo Independiente</td>\n",
              "      <td>Zona urbana</td>\n",
              "      <td>Dirección de Creación y Diversidad - Departame...</td>\n",
              "      <td>9.0</td>\n",
              "    </tr>\n",
              "    <tr>\n",
              "      <th>10</th>\n",
              "      <td>10.0</td>\n",
              "      <td>Centro Cultural Manzana de la Rivera</td>\n",
              "      <td>Capital</td>\n",
              "      <td>Asunción</td>\n",
              "      <td>Ayolas 129 entre Paraguayo Independiente y Ben...</td>\n",
              "      <td>Zona urbana</td>\n",
              "      <td>Dirección de Creación y Diversidad - Departame...</td>\n",
              "      <td>10.0</td>\n",
              "    </tr>\n",
              "    <tr>\n",
              "      <th>11</th>\n",
              "      <td>11.0</td>\n",
              "      <td>Espacio INCAA - Auditorio Leopoldo Marechal</td>\n",
              "      <td>Capital</td>\n",
              "      <td>Asunción</td>\n",
              "      <td>Avenida España esquina Perú</td>\n",
              "      <td>Zona urbana</td>\n",
              "      <td>Dirección de Creación y Diversidad - Departame...</td>\n",
              "      <td>11.0</td>\n",
              "    </tr>\n",
              "    <tr>\n",
              "      <th>12</th>\n",
              "      <td>12.0</td>\n",
              "      <td>Sala Moliére - Alianza Francesa</td>\n",
              "      <td>Capital</td>\n",
              "      <td>Asunción</td>\n",
              "      <td>Mariscal Estigarribia 1039 c/ Estados Unidos</td>\n",
              "      <td>Zona urbana</td>\n",
              "      <td>Dirección de Creación y Diversidad - Departame...</td>\n",
              "      <td>12.0</td>\n",
              "    </tr>\n",
              "    <tr>\n",
              "      <th>13</th>\n",
              "      <td>32.0</td>\n",
              "      <td>Cines Granados</td>\n",
              "      <td>Itapúa</td>\n",
              "      <td>Encarnación</td>\n",
              "      <td>Juan León Mallorquín c/ 25 de Mayo</td>\n",
              "      <td>Zona urbana</td>\n",
              "      <td>Municipalidad de Encarnación</td>\n",
              "      <td>NaN</td>\n",
              "    </tr>\n",
              "    <tr>\n",
              "      <th>14</th>\n",
              "      <td>36.0</td>\n",
              "      <td>Zuni Center</td>\n",
              "      <td>Alto Paraná</td>\n",
              "      <td>Ciudad del Este</td>\n",
              "      <td>Avenida San Blas c/ Patricio Colmán - Kilómetro 2</td>\n",
              "      <td>Zona urbana</td>\n",
              "      <td>Municipalidad de Ciudad del Este</td>\n",
              "      <td>NaN</td>\n",
              "    </tr>\n",
              "  </tbody>\n",
              "</table>\n",
              "</div>\n",
              "      <button class=\"colab-df-convert\" onclick=\"convertToInteractive('df-de3646b3-8101-4dc2-be86-b027136a7342')\"\n",
              "              title=\"Convert this dataframe to an interactive table.\"\n",
              "              style=\"display:none;\">\n",
              "        \n",
              "  <svg xmlns=\"http://www.w3.org/2000/svg\" height=\"24px\"viewBox=\"0 0 24 24\"\n",
              "       width=\"24px\">\n",
              "    <path d=\"M0 0h24v24H0V0z\" fill=\"none\"/>\n",
              "    <path d=\"M18.56 5.44l.94 2.06.94-2.06 2.06-.94-2.06-.94-.94-2.06-.94 2.06-2.06.94zm-11 1L8.5 8.5l.94-2.06 2.06-.94-2.06-.94L8.5 2.5l-.94 2.06-2.06.94zm10 10l.94 2.06.94-2.06 2.06-.94-2.06-.94-.94-2.06-.94 2.06-2.06.94z\"/><path d=\"M17.41 7.96l-1.37-1.37c-.4-.4-.92-.59-1.43-.59-.52 0-1.04.2-1.43.59L10.3 9.45l-7.72 7.72c-.78.78-.78 2.05 0 2.83L4 21.41c.39.39.9.59 1.41.59.51 0 1.02-.2 1.41-.59l7.78-7.78 2.81-2.81c.8-.78.8-2.07 0-2.86zM5.41 20L4 18.59l7.72-7.72 1.47 1.35L5.41 20z\"/>\n",
              "  </svg>\n",
              "      </button>\n",
              "      \n",
              "  <style>\n",
              "    .colab-df-container {\n",
              "      display:flex;\n",
              "      flex-wrap:wrap;\n",
              "      gap: 12px;\n",
              "    }\n",
              "\n",
              "    .colab-df-convert {\n",
              "      background-color: #E8F0FE;\n",
              "      border: none;\n",
              "      border-radius: 50%;\n",
              "      cursor: pointer;\n",
              "      display: none;\n",
              "      fill: #1967D2;\n",
              "      height: 32px;\n",
              "      padding: 0 0 0 0;\n",
              "      width: 32px;\n",
              "    }\n",
              "\n",
              "    .colab-df-convert:hover {\n",
              "      background-color: #E2EBFA;\n",
              "      box-shadow: 0px 1px 2px rgba(60, 64, 67, 0.3), 0px 1px 3px 1px rgba(60, 64, 67, 0.15);\n",
              "      fill: #174EA6;\n",
              "    }\n",
              "\n",
              "    [theme=dark] .colab-df-convert {\n",
              "      background-color: #3B4455;\n",
              "      fill: #D2E3FC;\n",
              "    }\n",
              "\n",
              "    [theme=dark] .colab-df-convert:hover {\n",
              "      background-color: #434B5C;\n",
              "      box-shadow: 0px 1px 3px 1px rgba(0, 0, 0, 0.15);\n",
              "      filter: drop-shadow(0px 1px 2px rgba(0, 0, 0, 0.3));\n",
              "      fill: #FFFFFF;\n",
              "    }\n",
              "  </style>\n",
              "\n",
              "      <script>\n",
              "        const buttonEl =\n",
              "          document.querySelector('#df-de3646b3-8101-4dc2-be86-b027136a7342 button.colab-df-convert');\n",
              "        buttonEl.style.display =\n",
              "          google.colab.kernel.accessAllowed ? 'block' : 'none';\n",
              "\n",
              "        async function convertToInteractive(key) {\n",
              "          const element = document.querySelector('#df-de3646b3-8101-4dc2-be86-b027136a7342');\n",
              "          const dataTable =\n",
              "            await google.colab.kernel.invokeFunction('convertToInteractive',\n",
              "                                                     [key], {});\n",
              "          if (!dataTable) return;\n",
              "\n",
              "          const docLinkHtml = 'Like what you see? Visit the ' +\n",
              "            '<a target=\"_blank\" href=https://colab.research.google.com/notebooks/data_table.ipynb>data table notebook</a>'\n",
              "            + ' to learn more about interactive tables.';\n",
              "          element.innerHTML = '';\n",
              "          dataTable['output_type'] = 'display_data';\n",
              "          await google.colab.output.renderOutput(dataTable, element);\n",
              "          const docLink = document.createElement('div');\n",
              "          docLink.innerHTML = docLinkHtml;\n",
              "          element.appendChild(docLink);\n",
              "        }\n",
              "      </script>\n",
              "    </div>\n",
              "  </div>\n",
              "  "
            ]
          },
          "metadata": {},
          "execution_count": 23
        }
      ]
    },
    {
      "cell_type": "markdown",
      "source": [
        "###Visualización de datos###"
      ],
      "metadata": {
        "id": "jslU1yMZP6Ts"
      }
    },
    {
      "cell_type": "markdown",
      "source": [
        "Cantidad de cines"
      ],
      "metadata": {
        "id": "TwbBBYn-QKbD"
      }
    },
    {
      "cell_type": "code",
      "source": [
        "cantidad_cines = len(salasdecine_df['Nombre'])\n",
        "print(\"Cantidad de cines:\", cantidad_cines)\n"
      ],
      "metadata": {
        "colab": {
          "base_uri": "https://localhost:8080/"
        },
        "id": "ZTDOmQjDSx6K",
        "outputId": "e452d3d5-a426-4193-ba87-dec8c8095326"
      },
      "execution_count": 24,
      "outputs": [
        {
          "output_type": "stream",
          "name": "stdout",
          "text": [
            "Cantidad de cines: 14\n"
          ]
        }
      ]
    },
    {
      "cell_type": "markdown",
      "source": [
        "Teniendo en cuenta que hay un total de 14 cines en el pais, es importante visulizarlos con la ayuda de graficos"
      ],
      "metadata": {
        "id": "D2fud815S1Xi"
      }
    },
    {
      "cell_type": "markdown",
      "source": [
        "Grafico de barras horizontales"
      ],
      "metadata": {
        "id": "cMwC0hXkTKCL"
      }
    },
    {
      "cell_type": "code",
      "source": [
        "import matplotlib.pyplot as plt\n",
        "\n",
        "# Contar la cantidad de cines por distrito\n",
        "distrito_counts = salasdecine_df['Distrito'].value_counts()\n",
        "\n",
        "# Obtener los nombres de los distritos y la cantidad de cines\n",
        "distritos = distrito_counts.index\n",
        "cantidad_cines = distrito_counts.values\n",
        "\n",
        "# Crear el gráfico de barras horizontales\n",
        "plt.barh(distritos, cantidad_cines)\n",
        "\n",
        "# Configurar el título y las etiquetas de los ejes\n",
        "plt.title('Distribución de Cines por Distrito')\n",
        "plt.xlabel('Cantidad de Cines')\n",
        "plt.ylabel('Distrito')\n",
        "\n",
        "# Mostrar el gráfico de barras horizontales\n",
        "plt.show()\n"
      ],
      "metadata": {
        "colab": {
          "base_uri": "https://localhost:8080/",
          "height": 472
        },
        "id": "GjcEFUKlSV9t",
        "outputId": "6a5076f0-b08d-4f18-ba1b-ae7241845e76"
      },
      "execution_count": 25,
      "outputs": [
        {
          "output_type": "display_data",
          "data": {
            "text/plain": [
              "<Figure size 640x480 with 1 Axes>"
            ],
            "image/png": "[encoded data removed]"
          },
          "metadata": {}
        }
      ]
    },
    {
      "cell_type": "code",
      "source": [
        "import matplotlib.pyplot as plt\n",
        "\n",
        "# Obtener los distintos distritos\n",
        "distritos = salasdecine_df['Distrito'].unique()\n",
        "\n",
        "# Crear una lista de colores característicos para cada distrito\n",
        "colores = ['red', 'blue', 'green', 'yellow', 'orange']\n",
        "\n",
        "# Crear una lista para almacenar la cantidad de cines por distrito\n",
        "cantidad_cines = []\n",
        "\n",
        "# Obtener la cantidad de cines por distrito y almacenarla en la lista\n",
        "for distrito in distritos:\n",
        "    cines_distrito = salasdecine_df[salasdecine_df['Distrito'] == distrito]\n",
        "    cantidad_cines.append(len(cines_distrito))\n",
        "\n",
        "# Crear el gráfico de barras apiladas\n",
        "plt.bar(distritos, cantidad_cines, color=colores)\n",
        "\n",
        "# Configurar el título y las etiquetas de los ejes\n",
        "plt.title('Cantidad de Cines por Distrito')\n",
        "plt.xlabel('Distrito')\n",
        "plt.ylabel('Cantidad de Cines')\n",
        "\n",
        "# Mostrar el gráfico de barras\n",
        "plt.show()\n"
      ],
      "metadata": {
        "colab": {
          "base_uri": "https://localhost:8080/",
          "height": 472
        },
        "id": "7H32sPfoR0GL",
        "outputId": "63a2e2c3-2ef8-485d-e7bc-26b80a655701"
      },
      "execution_count": 26,
      "outputs": [
        {
          "output_type": "display_data",
          "data": {
            "text/plain": [
              "<Figure size 640x480 with 1 Axes>"
            ],
            "image/png": "[encoded data removed]"
          },
          "metadata": {}
        }
      ]
    },
    {
      "cell_type": "markdown",
      "source": [
        "## *Dataframe de salas de teatros*\n",
        "\n",
        "\n"
      ],
      "metadata": {
        "id": "kfrD8zVxt25N"
      }
    },
    {
      "cell_type": "code",
      "source": [
        "import pandas as pd\n",
        "\n",
        "# Leer el archivo Excel\n",
        "excel_file = pd.ExcelFile('infraestructura.xlsx')\n",
        "\n",
        "# Obtener el nombre de todas las hojas en el archivo\n",
        "sheet_names = excel_file.sheet_names\n",
        "\n",
        "# Crear un diccionario para almacenar los DataFrames de cada hoja\n",
        "dataframes = {}\n",
        "\n",
        "# Iterar sobre cada hoja y crear un DataFrame correspondiente\n",
        "for sheet_name in sheet_names:\n",
        "    # Leer los datos de la hoja y almacenarlos en un DataFrame\n",
        "    df = excel_file.parse(sheet_name)\n",
        "    # Almacenar el DataFrame en el diccionario usando el nombre de la hoja como clave\n",
        "    dataframes[sheet_name] = df\n",
        "\n",
        "# Obtener el DataFrame de la hoja \"SalasdeTeatro\"\n",
        "saladeteatro_df = dataframes['Salas de Teatro']\n",
        "\n",
        "# Visualizar el DataFrame de la hoja \"Salas de Teatro\"\n",
        "print(saladeteatro_df)\n"
      ],
      "metadata": {
        "colab": {
          "base_uri": "https://localhost:8080/"
        },
        "id": "nU8qW_XqPegI",
        "outputId": "c9f58b0e-c229-411e-e56c-107e60b16ae2"
      },
      "execution_count": 27,
      "outputs": [
        {
          "output_type": "stream",
          "name": "stdout",
          "text": [
            "        N°                                          Nombre Departamento  \\\n",
            "0      NaN                                             NaN          NaN   \n",
            "1      1.0     Teatro Arlequín - Fundación Arlequín Teatro      Capital   \n",
            "2      2.0         Auditorio Alejo Pesoa - La Móvil Teatro      Capital   \n",
            "3      3.0  Galpón Alternativo - Grupo Ni-Mhu Teatro Aéreo      Capital   \n",
            "4      4.0                   Teatro de las Américas - CCPA      Capital   \n",
            "..     ...                                             ...          ...   \n",
            "166  204.0                                             NaN          NaN   \n",
            "167  205.0                                             NaN          NaN   \n",
            "168  206.0                                             NaN          NaN   \n",
            "169  207.0                                             NaN          NaN   \n",
            "170  208.0                                             NaN          NaN   \n",
            "\n",
            "     Distrito                                  Dirección Zona Geográfica  \\\n",
            "0         NaN                                        NaN             NaN   \n",
            "1    Asunción     Antequera 1061 y República de Colombia     Zona urbana   \n",
            "2    Asunción             Yegros 1029 c/ Teniente Fariña     Zona urbana   \n",
            "3    Asunción                  25 de Mayo 1087 c/ Brasil     Zona urbana   \n",
            "4    Asunción  José Berges entre Estados Unidos y Brasil     Zona urbana   \n",
            "..        ...                                        ...             ...   \n",
            "166       NaN                                        NaN             NaN   \n",
            "167       NaN                                        NaN             NaN   \n",
            "168       NaN                                        NaN             NaN   \n",
            "169       NaN                                        NaN             NaN   \n",
            "170       NaN                                        NaN             NaN   \n",
            "\n",
            "                   Fuente de la Información  Nro. de Registro  \n",
            "0                                       NaN               NaN  \n",
            "1    http://www.asuguia.com/guias/g0205.htm               1.0  \n",
            "2                  Directorio Instituciones               2.0  \n",
            "3                  Directorio Instituciones               3.0  \n",
            "4                  Directorio Instituciones               4.0  \n",
            "..                                      ...               ...  \n",
            "166                                     NaN               NaN  \n",
            "167                                     NaN               NaN  \n",
            "168                                     NaN               NaN  \n",
            "169                                     NaN               NaN  \n",
            "170                                     NaN               NaN  \n",
            "\n",
            "[171 rows x 8 columns]\n"
          ]
        }
      ]
    },
    {
      "cell_type": "markdown",
      "source": [
        "###Exploración de los datos###"
      ],
      "metadata": {
        "id": "TbrXbuZyVb7Y"
      }
    },
    {
      "cell_type": "markdown",
      "source": [
        "Tipos de datos"
      ],
      "metadata": {
        "id": "skYKXv7-YDhc"
      }
    },
    {
      "cell_type": "code",
      "source": [
        "#Datatypes\n",
        "saladeteatro_df.dtypes"
      ],
      "metadata": {
        "colab": {
          "base_uri": "https://localhost:8080/"
        },
        "id": "--W4RzANYFhd",
        "outputId": "d47ab0cf-f442-44b9-c513-444e97ff2d7f"
      },
      "execution_count": 28,
      "outputs": [
        {
          "output_type": "execute_result",
          "data": {
            "text/plain": [
              "N°                          float64\n",
              "Nombre                       object\n",
              "Departamento                 object\n",
              "Distrito                     object\n",
              "Dirección                    object\n",
              "Zona Geográfica              object\n",
              "Fuente de la Información     object\n",
              "Nro. de Registro            float64\n",
              "dtype: object"
            ]
          },
          "metadata": {},
          "execution_count": 28
        }
      ]
    },
    {
      "cell_type": "markdown",
      "source": [
        "Datos duplicados"
      ],
      "metadata": {
        "id": "u29n1B82VnSA"
      }
    },
    {
      "cell_type": "code",
      "source": [
        "# Encontrar los datos duplicados\n",
        "duplicated_data = saladeteatro_df[saladeteatro_df.duplicated()]\n",
        "\n",
        "# Mostrar los valores de los datos duplicados\n",
        "print(\"Valores de los datos duplicados:\")\n",
        "print(duplicated_data)"
      ],
      "metadata": {
        "colab": {
          "base_uri": "https://localhost:8080/"
        },
        "id": "oRzZecDqVW3P",
        "outputId": "42626f78-cf82-46bf-dc99-a7e35bdf0c43"
      },
      "execution_count": 29,
      "outputs": [
        {
          "output_type": "stream",
          "name": "stdout",
          "text": [
            "Valores de los datos duplicados:\n",
            "    N° Nombre Departamento Distrito Dirección Zona Geográfica  \\\n",
            "50 NaN    NaN          NaN      NaN       NaN             NaN   \n",
            "51 NaN    NaN          NaN      NaN       NaN             NaN   \n",
            "52 NaN    NaN          NaN      NaN       NaN             NaN   \n",
            "53 NaN    NaN          NaN      NaN       NaN             NaN   \n",
            "54 NaN    NaN          NaN      NaN       NaN             NaN   \n",
            "55 NaN    NaN          NaN      NaN       NaN             NaN   \n",
            "56 NaN    NaN          NaN      NaN       NaN             NaN   \n",
            "57 NaN    NaN          NaN      NaN       NaN             NaN   \n",
            "58 NaN    NaN          NaN      NaN       NaN             NaN   \n",
            "59 NaN    NaN          NaN      NaN       NaN             NaN   \n",
            "60 NaN    NaN          NaN      NaN       NaN             NaN   \n",
            "61 NaN    NaN          NaN      NaN       NaN             NaN   \n",
            "62 NaN    NaN          NaN      NaN       NaN             NaN   \n",
            "63 NaN    NaN          NaN      NaN       NaN             NaN   \n",
            "64 NaN    NaN          NaN      NaN       NaN             NaN   \n",
            "65 NaN    NaN          NaN      NaN       NaN             NaN   \n",
            "66 NaN    NaN          NaN      NaN       NaN             NaN   \n",
            "67 NaN    NaN          NaN      NaN       NaN             NaN   \n",
            "68 NaN    NaN          NaN      NaN       NaN             NaN   \n",
            "69 NaN    NaN          NaN      NaN       NaN             NaN   \n",
            "70 NaN    NaN          NaN      NaN       NaN             NaN   \n",
            "71 NaN    NaN          NaN      NaN       NaN             NaN   \n",
            "\n",
            "   Fuente de la Información  Nro. de Registro  \n",
            "50                      NaN               NaN  \n",
            "51                      NaN               NaN  \n",
            "52                      NaN               NaN  \n",
            "53                      NaN               NaN  \n",
            "54                      NaN               NaN  \n",
            "55                      NaN               NaN  \n",
            "56                      NaN               NaN  \n",
            "57                      NaN               NaN  \n",
            "58                      NaN               NaN  \n",
            "59                      NaN               NaN  \n",
            "60                      NaN               NaN  \n",
            "61                      NaN               NaN  \n",
            "62                      NaN               NaN  \n",
            "63                      NaN               NaN  \n",
            "64                      NaN               NaN  \n",
            "65                      NaN               NaN  \n",
            "66                      NaN               NaN  \n",
            "67                      NaN               NaN  \n",
            "68                      NaN               NaN  \n",
            "69                      NaN               NaN  \n",
            "70                      NaN               NaN  \n",
            "71                      NaN               NaN  \n"
          ]
        }
      ]
    },
    {
      "cell_type": "markdown",
      "source": [
        "Segun esta información los valores duplicados son todos los valores nulos. Que en este analisis no es relevante eliminarlos ni cambiarlos."
      ],
      "metadata": {
        "id": "brlKO7CkWQm3"
      }
    },
    {
      "cell_type": "markdown",
      "source": [
        "Cantidad de valores nulos"
      ],
      "metadata": {
        "id": "8dYQxq3GZO8a"
      }
    },
    {
      "cell_type": "code",
      "source": [
        "#valores nulos de Salas de Teatro\n",
        "#Find null values\n",
        "saladeteatro_df.isnull().sum()"
      ],
      "metadata": {
        "colab": {
          "base_uri": "https://localhost:8080/"
        },
        "id": "AkFQjgKW8a3L",
        "outputId": "e5cc2141-5374-4e66-ff2b-438a66baf6e0"
      },
      "execution_count": 30,
      "outputs": [
        {
          "output_type": "execute_result",
          "data": {
            "text/plain": [
              "N°                           28\n",
              "Nombre                      122\n",
              "Departamento                122\n",
              "Distrito                    122\n",
              "Dirección                   123\n",
              "Zona Geográfica             122\n",
              "Fuente de la Información    123\n",
              "Nro. de Registro            148\n",
              "dtype: int64"
            ]
          },
          "metadata": {},
          "execution_count": 30
        }
      ]
    },
    {
      "cell_type": "markdown",
      "source": [
        "En un principio el dataframe de salas de teatro trae un total de registro de [171 rows x 8 columns]. Y con isnull se pudo ver que coinciden mucha cantidad de valores nulos en las columnas. El mismo caso que se presentaba en la hoja de Salas de cine se puede ver tambien en el de salas de teatro. Por ellos usaremos la misma funcioón"
      ],
      "metadata": {
        "id": "QbGI1Dh4YTMd"
      }
    },
    {
      "cell_type": "markdown",
      "source": [
        "Eliminar filas vacias"
      ],
      "metadata": {
        "id": "0dR3IW7RZnFB"
      }
    },
    {
      "cell_type": "markdown",
      "source": [
        "Se desea eliminar las filas que contienen valores nulos en el DataFrame saladeteatro_df pero solo las últimas filas. En la base de datos hayb registros hasta la fila 51, por eso es importante poner en el rango"
      ],
      "metadata": {
        "id": "0DE8xmT5Zv4T"
      }
    },
    {
      "cell_type": "code",
      "source": [
        "# Obtener las filas hasta la fila 51\n",
        "saladeteatro_df = saladeteatro_df.iloc[:52]\n",
        "\n",
        "# Eliminar las filas con valores nulos en las últimas filas\n",
        "saladeteatro_df = saladeteatro_df.dropna(subset=saladeteatro_df.columns)\n"
      ],
      "metadata": {
        "id": "0sRVWWiRYiIU"
      },
      "execution_count": 31,
      "outputs": []
    },
    {
      "cell_type": "markdown",
      "source": [
        "Cantidad de teatros"
      ],
      "metadata": {
        "id": "2udUb4Qda_qi"
      }
    },
    {
      "cell_type": "code",
      "source": [
        "# Obtener la cantidad de teatros\n",
        "cantidad_teatros = saladeteatro_df['Nombre'].count()\n",
        "\n",
        "# Mostrar el resultado\n",
        "print(\"Cantidad de teatros:\", cantidad_teatros)\n"
      ],
      "metadata": {
        "colab": {
          "base_uri": "https://localhost:8080/"
        },
        "id": "Ynzxx1mlbBsL",
        "outputId": "3d4a3896-a6ee-435a-8ca6-29f4996e244c"
      },
      "execution_count": 32,
      "outputs": [
        {
          "output_type": "stream",
          "name": "stdout",
          "text": [
            "Cantidad de teatros: 22\n"
          ]
        }
      ]
    },
    {
      "cell_type": "code",
      "source": [
        "saladeteatro_df"
      ],
      "metadata": {
        "colab": {
          "base_uri": "https://localhost:8080/",
          "height": 1000
        },
        "id": "MhuVx-apae-s",
        "outputId": "3217ef78-3912-4335-d863-5c637a0309c7"
      },
      "execution_count": 33,
      "outputs": [
        {
          "output_type": "execute_result",
          "data": {
            "text/plain": [
              "      N°                                             Nombre Departamento  \\\n",
              "1    1.0        Teatro Arlequín - Fundación Arlequín Teatro      Capital   \n",
              "2    2.0            Auditorio Alejo Pesoa - La Móvil Teatro      Capital   \n",
              "3    3.0     Galpón Alternativo - Grupo Ni-Mhu Teatro Aéreo      Capital   \n",
              "4    4.0                      Teatro de las Américas - CCPA      Capital   \n",
              "5    5.0             Gran Teatro José Asunción Flores - BCP      Capital   \n",
              "6    6.0  Auditorio del Instituto Cultural Paraguayo Alemán      Capital   \n",
              "7    7.0                   Teatro Municipal Ignacio A. Pane      Capital   \n",
              "8    8.0  Teatro Tom Jobim - Centro Cultural de la Embaj...      Capital   \n",
              "9    9.0                                      Teatro Latino      Capital   \n",
              "10  10.0  Sala Federico García Lorca - Centro Cultural M...      Capital   \n",
              "11  11.0  Auditorio Ruy Díaz de Guzmán - Centro Cultural...      Capital   \n",
              "12  12.0  Auditorio Manuel de Falla - Centro Cultural de...      Capital   \n",
              "13  13.0   Auditorio Leopoldo Marechal - Embajada Argentina      Capital   \n",
              "14  14.0  El Estudio - Centro de Investigación y Divulga...      Capital   \n",
              "15  15.0                      El Altillo - Ateneo Paraguayo      Capital   \n",
              "16  16.0     Espacio tierra sin Mal – Sala Jerzy Grotowski       Capital   \n",
              "18  18.0            Salón Auditorio de la Ciudad de Capiatá      Central   \n",
              "19  19.0            Teatro Municipal de Fernando de la Mora      Central   \n",
              "20  20.0                                 Tinglado Municipal      Central   \n",
              "21  21.0  Sala de Teatro - Polideportivo Municipal de Ma...      Central   \n",
              "22  22.0                    Teatro Municipal de San Lorenzo      Central   \n",
              "23  23.0                     Salón Multiuso de Villa Elisa       Central   \n",
              "\n",
              "                Distrito                                          Dirección  \\\n",
              "1               Asunción             Antequera 1061 y República de Colombia   \n",
              "2               Asunción                     Yegros 1029 c/ Teniente Fariña   \n",
              "3               Asunción                          25 de Mayo 1087 c/ Brasil   \n",
              "4               Asunción          José Berges entre Estados Unidos y Brasil   \n",
              "5               Asunción                  Federación Rusa y Cabo 1° Marecos   \n",
              "6               Asunción                     Juan de Salazar 310 c/ Artigas   \n",
              "7               Asunción            Presidente Franco entre Cjile y Alberdi   \n",
              "8               Asunción                                Eligio Ayala y Perú   \n",
              "9               Asunción                          Teniente Fariña c/ Iturbe   \n",
              "10              Asunción          Juan E. O'Leary 112 c/ Benjamín Constant    \n",
              "11              Asunción           Ayolas 129 c/ El Paraguayo Independiente   \n",
              "12              Asunción                             Herrera 834 c/ Tacuary   \n",
              "13              Asunción                        Avenida España esquina Perú   \n",
              "14              Asunción             Independencia Nacional 250 Planta Alta   \n",
              "15              Asunción       Nuestra Señora de la Asunción 820 c/ Humaitá   \n",
              "16              Asunción   General Díaz 1163 entre Don Bosco y Hernandarias   \n",
              "18               Capiatá  Sargento Ferreira entre 12 de octubre y Cerro ...   \n",
              "19   Fernando de la Mora  Capitán Montiel entre Mariscal Estigarribia y ...   \n",
              "20                 Luque        Balderrama 43 entre Cerro Corá y 14 de Mayo   \n",
              "21  Mariano Roque Alonso                         Boquerón esquina Vallivián   \n",
              "22           San Lorenzo  San Lorenzo entre España y Coronel Romero (fre...   \n",
              "23           Villa Elisa  Plaza Primera Junta Municipal Enrique Von Poleski   \n",
              "\n",
              "   Zona Geográfica                           Fuente de la Información  \\\n",
              "1      Zona urbana             http://www.asuguia.com/guias/g0205.htm   \n",
              "2      Zona urbana                           Directorio Instituciones   \n",
              "3      Zona urbana                           Directorio Instituciones   \n",
              "4      Zona urbana                           Directorio Instituciones   \n",
              "5      Zona urbana                           Directorio Instituciones   \n",
              "6      Zona urbana                           Directorio Instituciones   \n",
              "7      Zona urbana                           Directorio Instituciones   \n",
              "8      Zona urbana                           Directorio Instituciones   \n",
              "9      Zona urbana             http://www.asuguia.com/guias/g0205.htm   \n",
              "10     Zona urbana  http://www.teatroparaguay.com/2007/09/espacios...   \n",
              "11     Zona urbana  http://www.teatroparaguay.com/2007/09/espacios...   \n",
              "12     Zona urbana  http://www.teatroparaguay.com/2007/09/espacios...   \n",
              "13     Zona urbana  http://www.teatroparaguay.com/2007/09/espacios...   \n",
              "14     Zona urbana  http://www.teatroparaguay.com/2007/09/espacios...   \n",
              "15     Zona urbana  http://www.teatroparaguay.com/2007/09/espacios...   \n",
              "16     Zona urbana  http://www.teatroparaguay.com/2007/09/espacios...   \n",
              "18     Zona urbana  Dirección de Cultura de la Municipalidad de Ca...   \n",
              "19     Zona urbana  Dirección de Cultura de la Municipalidad de Fe...   \n",
              "20     Zona urbana  Dirección de Cultura de la Municipalidad de Luque   \n",
              "21     Zona urbana  Dirección de Cultura de la Municipalidad de Ma...   \n",
              "22     Zona urbana  Dirección de Cultura de la Municipalidad de Sa...   \n",
              "23     Zona urbana  Dirección de Cultura de la Municipalidad de Vi...   \n",
              "\n",
              "    Nro. de Registro  \n",
              "1                1.0  \n",
              "2                2.0  \n",
              "3                3.0  \n",
              "4                4.0  \n",
              "5                5.0  \n",
              "6                6.0  \n",
              "7                7.0  \n",
              "8                8.0  \n",
              "9                9.0  \n",
              "10              10.0  \n",
              "11              11.0  \n",
              "12              12.0  \n",
              "13              13.0  \n",
              "14              14.0  \n",
              "15              15.0  \n",
              "16              16.0  \n",
              "18              18.0  \n",
              "19              19.0  \n",
              "20              20.0  \n",
              "21              21.0  \n",
              "22              22.0  \n",
              "23              23.0  "
            ],
            "text/html": [
              "\n",
              "  <div id=\"df-46a9c51e-689e-42c4-885f-ccdd0cc8cd3f\">\n",
              "    <div class=\"colab-df-container\">\n",
              "      <div>\n",
              "<style scoped>\n",
              "    .dataframe tbody tr th:only-of-type {\n",
              "        vertical-align: middle;\n",
              "    }\n",
              "\n",
              "    .dataframe tbody tr th {\n",
              "        vertical-align: top;\n",
              "    }\n",
              "\n",
              "    .dataframe thead th {\n",
              "        text-align: right;\n",
              "    }\n",
              "</style>\n",
              "<table border=\"1\" class=\"dataframe\">\n",
              "  <thead>\n",
              "    <tr style=\"text-align: right;\">\n",
              "      <th></th>\n",
              "      <th>N°</th>\n",
              "      <th>Nombre</th>\n",
              "      <th>Departamento</th>\n",
              "      <th>Distrito</th>\n",
              "      <th>Dirección</th>\n",
              "      <th>Zona Geográfica</th>\n",
              "      <th>Fuente de la Información</th>\n",
              "      <th>Nro. de Registro</th>\n",
              "    </tr>\n",
              "  </thead>\n",
              "  <tbody>\n",
              "    <tr>\n",
              "      <th>1</th>\n",
              "      <td>1.0</td>\n",
              "      <td>Teatro Arlequín - Fundación Arlequín Teatro</td>\n",
              "      <td>Capital</td>\n",
              "      <td>Asunción</td>\n",
              "      <td>Antequera 1061 y República de Colombia</td>\n",
              "      <td>Zona urbana</td>\n",
              "      <td>http://www.asuguia.com/guias/g0205.htm</td>\n",
              "      <td>1.0</td>\n",
              "    </tr>\n",
              "    <tr>\n",
              "      <th>2</th>\n",
              "      <td>2.0</td>\n",
              "      <td>Auditorio Alejo Pesoa - La Móvil Teatro</td>\n",
              "      <td>Capital</td>\n",
              "      <td>Asunción</td>\n",
              "      <td>Yegros 1029 c/ Teniente Fariña</td>\n",
              "      <td>Zona urbana</td>\n",
              "      <td>Directorio Instituciones</td>\n",
              "      <td>2.0</td>\n",
              "    </tr>\n",
              "    <tr>\n",
              "      <th>3</th>\n",
              "      <td>3.0</td>\n",
              "      <td>Galpón Alternativo - Grupo Ni-Mhu Teatro Aéreo</td>\n",
              "      <td>Capital</td>\n",
              "      <td>Asunción</td>\n",
              "      <td>25 de Mayo 1087 c/ Brasil</td>\n",
              "      <td>Zona urbana</td>\n",
              "      <td>Directorio Instituciones</td>\n",
              "      <td>3.0</td>\n",
              "    </tr>\n",
              "    <tr>\n",
              "      <th>4</th>\n",
              "      <td>4.0</td>\n",
              "      <td>Teatro de las Américas - CCPA</td>\n",
              "      <td>Capital</td>\n",
              "      <td>Asunción</td>\n",
              "      <td>José Berges entre Estados Unidos y Brasil</td>\n",
              "      <td>Zona urbana</td>\n",
              "      <td>Directorio Instituciones</td>\n",
              "      <td>4.0</td>\n",
              "    </tr>\n",
              "    <tr>\n",
              "      <th>5</th>\n",
              "      <td>5.0</td>\n",
              "      <td>Gran Teatro José Asunción Flores - BCP</td>\n",
              "      <td>Capital</td>\n",
              "      <td>Asunción</td>\n",
              "      <td>Federación Rusa y Cabo 1° Marecos</td>\n",
              "      <td>Zona urbana</td>\n",
              "      <td>Directorio Instituciones</td>\n",
              "      <td>5.0</td>\n",
              "    </tr>\n",
              "    <tr>\n",
              "      <th>6</th>\n",
              "      <td>6.0</td>\n",
              "      <td>Auditorio del Instituto Cultural Paraguayo Alemán</td>\n",
              "      <td>Capital</td>\n",
              "      <td>Asunción</td>\n",
              "      <td>Juan de Salazar 310 c/ Artigas</td>\n",
              "      <td>Zona urbana</td>\n",
              "      <td>Directorio Instituciones</td>\n",
              "      <td>6.0</td>\n",
              "    </tr>\n",
              "    <tr>\n",
              "      <th>7</th>\n",
              "      <td>7.0</td>\n",
              "      <td>Teatro Municipal Ignacio A. Pane</td>\n",
              "      <td>Capital</td>\n",
              "      <td>Asunción</td>\n",
              "      <td>Presidente Franco entre Cjile y Alberdi</td>\n",
              "      <td>Zona urbana</td>\n",
              "      <td>Directorio Instituciones</td>\n",
              "      <td>7.0</td>\n",
              "    </tr>\n",
              "    <tr>\n",
              "      <th>8</th>\n",
              "      <td>8.0</td>\n",
              "      <td>Teatro Tom Jobim - Centro Cultural de la Embaj...</td>\n",
              "      <td>Capital</td>\n",
              "      <td>Asunción</td>\n",
              "      <td>Eligio Ayala y Perú</td>\n",
              "      <td>Zona urbana</td>\n",
              "      <td>Directorio Instituciones</td>\n",
              "      <td>8.0</td>\n",
              "    </tr>\n",
              "    <tr>\n",
              "      <th>9</th>\n",
              "      <td>9.0</td>\n",
              "      <td>Teatro Latino</td>\n",
              "      <td>Capital</td>\n",
              "      <td>Asunción</td>\n",
              "      <td>Teniente Fariña c/ Iturbe</td>\n",
              "      <td>Zona urbana</td>\n",
              "      <td>http://www.asuguia.com/guias/g0205.htm</td>\n",
              "      <td>9.0</td>\n",
              "    </tr>\n",
              "    <tr>\n",
              "      <th>10</th>\n",
              "      <td>10.0</td>\n",
              "      <td>Sala Federico García Lorca - Centro Cultural M...</td>\n",
              "      <td>Capital</td>\n",
              "      <td>Asunción</td>\n",
              "      <td>Juan E. O'Leary 112 c/ Benjamín Constant</td>\n",
              "      <td>Zona urbana</td>\n",
              "      <td>http://www.teatroparaguay.com/2007/09/espacios...</td>\n",
              "      <td>10.0</td>\n",
              "    </tr>\n",
              "    <tr>\n",
              "      <th>11</th>\n",
              "      <td>11.0</td>\n",
              "      <td>Auditorio Ruy Díaz de Guzmán - Centro Cultural...</td>\n",
              "      <td>Capital</td>\n",
              "      <td>Asunción</td>\n",
              "      <td>Ayolas 129 c/ El Paraguayo Independiente</td>\n",
              "      <td>Zona urbana</td>\n",
              "      <td>http://www.teatroparaguay.com/2007/09/espacios...</td>\n",
              "      <td>11.0</td>\n",
              "    </tr>\n",
              "    <tr>\n",
              "      <th>12</th>\n",
              "      <td>12.0</td>\n",
              "      <td>Auditorio Manuel de Falla - Centro Cultural de...</td>\n",
              "      <td>Capital</td>\n",
              "      <td>Asunción</td>\n",
              "      <td>Herrera 834 c/ Tacuary</td>\n",
              "      <td>Zona urbana</td>\n",
              "      <td>http://www.teatroparaguay.com/2007/09/espacios...</td>\n",
              "      <td>12.0</td>\n",
              "    </tr>\n",
              "    <tr>\n",
              "      <th>13</th>\n",
              "      <td>13.0</td>\n",
              "      <td>Auditorio Leopoldo Marechal - Embajada Argentina</td>\n",
              "      <td>Capital</td>\n",
              "      <td>Asunción</td>\n",
              "      <td>Avenida España esquina Perú</td>\n",
              "      <td>Zona urbana</td>\n",
              "      <td>http://www.teatroparaguay.com/2007/09/espacios...</td>\n",
              "      <td>13.0</td>\n",
              "    </tr>\n",
              "    <tr>\n",
              "      <th>14</th>\n",
              "      <td>14.0</td>\n",
              "      <td>El Estudio - Centro de Investigación y Divulga...</td>\n",
              "      <td>Capital</td>\n",
              "      <td>Asunción</td>\n",
              "      <td>Independencia Nacional 250 Planta Alta</td>\n",
              "      <td>Zona urbana</td>\n",
              "      <td>http://www.teatroparaguay.com/2007/09/espacios...</td>\n",
              "      <td>14.0</td>\n",
              "    </tr>\n",
              "    <tr>\n",
              "      <th>15</th>\n",
              "      <td>15.0</td>\n",
              "      <td>El Altillo - Ateneo Paraguayo</td>\n",
              "      <td>Capital</td>\n",
              "      <td>Asunción</td>\n",
              "      <td>Nuestra Señora de la Asunción 820 c/ Humaitá</td>\n",
              "      <td>Zona urbana</td>\n",
              "      <td>http://www.teatroparaguay.com/2007/09/espacios...</td>\n",
              "      <td>15.0</td>\n",
              "    </tr>\n",
              "    <tr>\n",
              "      <th>16</th>\n",
              "      <td>16.0</td>\n",
              "      <td>Espacio tierra sin Mal – Sala Jerzy Grotowski</td>\n",
              "      <td>Capital</td>\n",
              "      <td>Asunción</td>\n",
              "      <td>General Díaz 1163 entre Don Bosco y Hernandarias</td>\n",
              "      <td>Zona urbana</td>\n",
              "      <td>http://www.teatroparaguay.com/2007/09/espacios...</td>\n",
              "      <td>16.0</td>\n",
              "    </tr>\n",
              "    <tr>\n",
              "      <th>18</th>\n",
              "      <td>18.0</td>\n",
              "      <td>Salón Auditorio de la Ciudad de Capiatá</td>\n",
              "      <td>Central</td>\n",
              "      <td>Capiatá</td>\n",
              "      <td>Sargento Ferreira entre 12 de octubre y Cerro ...</td>\n",
              "      <td>Zona urbana</td>\n",
              "      <td>Dirección de Cultura de la Municipalidad de Ca...</td>\n",
              "      <td>18.0</td>\n",
              "    </tr>\n",
              "    <tr>\n",
              "      <th>19</th>\n",
              "      <td>19.0</td>\n",
              "      <td>Teatro Municipal de Fernando de la Mora</td>\n",
              "      <td>Central</td>\n",
              "      <td>Fernando de la Mora</td>\n",
              "      <td>Capitán Montiel entre Mariscal Estigarribia y ...</td>\n",
              "      <td>Zona urbana</td>\n",
              "      <td>Dirección de Cultura de la Municipalidad de Fe...</td>\n",
              "      <td>19.0</td>\n",
              "    </tr>\n",
              "    <tr>\n",
              "      <th>20</th>\n",
              "      <td>20.0</td>\n",
              "      <td>Tinglado Municipal</td>\n",
              "      <td>Central</td>\n",
              "      <td>Luque</td>\n",
              "      <td>Balderrama 43 entre Cerro Corá y 14 de Mayo</td>\n",
              "      <td>Zona urbana</td>\n",
              "      <td>Dirección de Cultura de la Municipalidad de Luque</td>\n",
              "      <td>20.0</td>\n",
              "    </tr>\n",
              "    <tr>\n",
              "      <th>21</th>\n",
              "      <td>21.0</td>\n",
              "      <td>Sala de Teatro - Polideportivo Municipal de Ma...</td>\n",
              "      <td>Central</td>\n",
              "      <td>Mariano Roque Alonso</td>\n",
              "      <td>Boquerón esquina Vallivián</td>\n",
              "      <td>Zona urbana</td>\n",
              "      <td>Dirección de Cultura de la Municipalidad de Ma...</td>\n",
              "      <td>21.0</td>\n",
              "    </tr>\n",
              "    <tr>\n",
              "      <th>22</th>\n",
              "      <td>22.0</td>\n",
              "      <td>Teatro Municipal de San Lorenzo</td>\n",
              "      <td>Central</td>\n",
              "      <td>San Lorenzo</td>\n",
              "      <td>San Lorenzo entre España y Coronel Romero (fre...</td>\n",
              "      <td>Zona urbana</td>\n",
              "      <td>Dirección de Cultura de la Municipalidad de Sa...</td>\n",
              "      <td>22.0</td>\n",
              "    </tr>\n",
              "    <tr>\n",
              "      <th>23</th>\n",
              "      <td>23.0</td>\n",
              "      <td>Salón Multiuso de Villa Elisa</td>\n",
              "      <td>Central</td>\n",
              "      <td>Villa Elisa</td>\n",
              "      <td>Plaza Primera Junta Municipal Enrique Von Poleski</td>\n",
              "      <td>Zona urbana</td>\n",
              "      <td>Dirección de Cultura de la Municipalidad de Vi...</td>\n",
              "      <td>23.0</td>\n",
              "    </tr>\n",
              "  </tbody>\n",
              "</table>\n",
              "</div>\n",
              "      <button class=\"colab-df-convert\" onclick=\"convertToInteractive('df-46a9c51e-689e-42c4-885f-ccdd0cc8cd3f')\"\n",
              "              title=\"Convert this dataframe to an interactive table.\"\n",
              "              style=\"display:none;\">\n",
              "        \n",
              "  <svg xmlns=\"http://www.w3.org/2000/svg\" height=\"24px\"viewBox=\"0 0 24 24\"\n",
              "       width=\"24px\">\n",
              "    <path d=\"M0 0h24v24H0V0z\" fill=\"none\"/>\n",
              "    <path d=\"M18.56 5.44l.94 2.06.94-2.06 2.06-.94-2.06-.94-.94-2.06-.94 2.06-2.06.94zm-11 1L8.5 8.5l.94-2.06 2.06-.94-2.06-.94L8.5 2.5l-.94 2.06-2.06.94zm10 10l.94 2.06.94-2.06 2.06-.94-2.06-.94-.94-2.06-.94 2.06-2.06.94z\"/><path d=\"M17.41 7.96l-1.37-1.37c-.4-.4-.92-.59-1.43-.59-.52 0-1.04.2-1.43.59L10.3 9.45l-7.72 7.72c-.78.78-.78 2.05 0 2.83L4 21.41c.39.39.9.59 1.41.59.51 0 1.02-.2 1.41-.59l7.78-7.78 2.81-2.81c.8-.78.8-2.07 0-2.86zM5.41 20L4 18.59l7.72-7.72 1.47 1.35L5.41 20z\"/>\n",
              "  </svg>\n",
              "      </button>\n",
              "      \n",
              "  <style>\n",
              "    .colab-df-container {\n",
              "      display:flex;\n",
              "      flex-wrap:wrap;\n",
              "      gap: 12px;\n",
              "    }\n",
              "\n",
              "    .colab-df-convert {\n",
              "      background-color: #E8F0FE;\n",
              "      border: none;\n",
              "      border-radius: 50%;\n",
              "      cursor: pointer;\n",
              "      display: none;\n",
              "      fill: #1967D2;\n",
              "      height: 32px;\n",
              "      padding: 0 0 0 0;\n",
              "      width: 32px;\n",
              "    }\n",
              "\n",
              "    .colab-df-convert:hover {\n",
              "      background-color: #E2EBFA;\n",
              "      box-shadow: 0px 1px 2px rgba(60, 64, 67, 0.3), 0px 1px 3px 1px rgba(60, 64, 67, 0.15);\n",
              "      fill: #174EA6;\n",
              "    }\n",
              "\n",
              "    [theme=dark] .colab-df-convert {\n",
              "      background-color: #3B4455;\n",
              "      fill: #D2E3FC;\n",
              "    }\n",
              "\n",
              "    [theme=dark] .colab-df-convert:hover {\n",
              "      background-color: #434B5C;\n",
              "      box-shadow: 0px 1px 3px 1px rgba(0, 0, 0, 0.15);\n",
              "      filter: drop-shadow(0px 1px 2px rgba(0, 0, 0, 0.3));\n",
              "      fill: #FFFFFF;\n",
              "    }\n",
              "  </style>\n",
              "\n",
              "      <script>\n",
              "        const buttonEl =\n",
              "          document.querySelector('#df-46a9c51e-689e-42c4-885f-ccdd0cc8cd3f button.colab-df-convert');\n",
              "        buttonEl.style.display =\n",
              "          google.colab.kernel.accessAllowed ? 'block' : 'none';\n",
              "\n",
              "        async function convertToInteractive(key) {\n",
              "          const element = document.querySelector('#df-46a9c51e-689e-42c4-885f-ccdd0cc8cd3f');\n",
              "          const dataTable =\n",
              "            await google.colab.kernel.invokeFunction('convertToInteractive',\n",
              "                                                     [key], {});\n",
              "          if (!dataTable) return;\n",
              "\n",
              "          const docLinkHtml = 'Like what you see? Visit the ' +\n",
              "            '<a target=\"_blank\" href=https://colab.research.google.com/notebooks/data_table.ipynb>data table notebook</a>'\n",
              "            + ' to learn more about interactive tables.';\n",
              "          element.innerHTML = '';\n",
              "          dataTable['output_type'] = 'display_data';\n",
              "          await google.colab.output.renderOutput(dataTable, element);\n",
              "          const docLink = document.createElement('div');\n",
              "          docLink.innerHTML = docLinkHtml;\n",
              "          element.appendChild(docLink);\n",
              "        }\n",
              "      </script>\n",
              "    </div>\n",
              "  </div>\n",
              "  "
            ]
          },
          "metadata": {},
          "execution_count": 33
        }
      ]
    },
    {
      "cell_type": "markdown",
      "source": [
        "###Visualización de datos###"
      ],
      "metadata": {
        "id": "5UmigyFDbrnL"
      }
    },
    {
      "cell_type": "markdown",
      "source": [
        "## *Dataframe de museos*\n"
      ],
      "metadata": {
        "id": "9axROzuCuG3B"
      }
    },
    {
      "cell_type": "code",
      "source": [
        "import pandas as pd\n",
        "\n",
        "# Leer el archivo Excel\n",
        "excel_file = pd.ExcelFile('infraestructura.xlsx')\n",
        "\n",
        "# Obtener el nombre de todas las hojas en el archivo\n",
        "sheet_names = excel_file.sheet_names\n",
        "\n",
        "# Crear un diccionario para almacenar los DataFrames de cada hoja\n",
        "dataframes = {}\n",
        "\n",
        "# Iterar sobre cada hoja y crear un DataFrame correspondiente\n",
        "for sheet_name in sheet_names:\n",
        "    # Leer los datos de la hoja y almacenarlos en un DataFrame\n",
        "    df = excel_file.parse(sheet_name)\n",
        "    # Almacenar el DataFrame en el diccionario usando el nombre de la hoja como clave\n",
        "    dataframes[sheet_name] = df\n",
        "\n",
        "# Obtener el DataFrame de la hoja \"Museos\"\n",
        "museos_df = dataframes['Museos']\n",
        "\n",
        "# Visualizar el DataFrame de la hoja \"Museos\"\n",
        "print(museos_df)"
      ],
      "metadata": {
        "id": "8SHqhVePL0PH",
        "colab": {
          "base_uri": "https://localhost:8080/"
        },
        "outputId": "f89cd574-42ae-41f9-f619-7406ed659724"
      },
      "execution_count": 34,
      "outputs": [
        {
          "output_type": "stream",
          "name": "stdout",
          "text": [
            "        N°                          Nombre Departamento  Distrito  \\\n",
            "0      NaN                             NaN          NaN       NaN   \n",
            "1      1.0  Museo Nacional de Bellas Artes      Capital  Asunción   \n",
            "2      2.0  Museo Casa de la Independencia      Capital  Asunción   \n",
            "3      3.0      Museo Bernardino Caballero      Capital  Asunción   \n",
            "4      4.0     Museo Memorias de la Ciudad      Capital  Asunción   \n",
            "..     ...                             ...          ...       ...   \n",
            "289  292.0                             NaN          NaN       NaN   \n",
            "290  293.0                             NaN          NaN       NaN   \n",
            "291  294.0                             NaN          NaN       NaN   \n",
            "292  295.0                             NaN          NaN       NaN   \n",
            "293  296.0                             NaN          NaN       NaN   \n",
            "\n",
            "                                Dirección Zona Geográfica  \\\n",
            "0                                     NaN             NaN   \n",
            "1          Eligio Ayala 1345 c/ Curupayty     Zona urbana   \n",
            "2    14 de Mayo esquina Presidente Franco     Zona urbana   \n",
            "3       Sebastián Gaboto y Andrés Barbero     Zona urbana   \n",
            "4                           Ayolas Nº 129     Zona urbana   \n",
            "..                                    ...             ...   \n",
            "289                                   NaN             NaN   \n",
            "290                                   NaN             NaN   \n",
            "291                                   NaN             NaN   \n",
            "292                                   NaN             NaN   \n",
            "293                                   NaN             NaN   \n",
            "\n",
            "    Fuente de la Información  Número de Registro  \n",
            "0                        NaN                 NaN  \n",
            "1              Datos Cultura                 1.0  \n",
            "2              Datos Cultura                 2.0  \n",
            "3              Datos Cultura                 3.0  \n",
            "4              Datos Cultura                 4.0  \n",
            "..                       ...                 ...  \n",
            "289                      NaN                 NaN  \n",
            "290                      NaN                 NaN  \n",
            "291                      NaN                 NaN  \n",
            "292                      NaN                 NaN  \n",
            "293                      NaN                 NaN  \n",
            "\n",
            "[294 rows x 8 columns]\n"
          ]
        }
      ]
    },
    {
      "cell_type": "markdown",
      "source": [
        "### Exploracion de los datos ###\n"
      ],
      "metadata": {
        "id": "BeJX6rsDRty6"
      }
    },
    {
      "cell_type": "markdown",
      "source": [
        "Valores duplicados"
      ],
      "metadata": {
        "id": "NMQVAvQPSCi7"
      }
    },
    {
      "cell_type": "code",
      "source": [
        "#Find the duplicates\n",
        "museos_df.duplicated().sum()\n",
        "\n",
        "#df.duplicated"
      ],
      "metadata": {
        "colab": {
          "base_uri": "https://localhost:8080/"
        },
        "id": "5TXIa-XISF--",
        "outputId": "5b1695b0-8c4c-4706-8eb9-ba7a5ba47d6e"
      },
      "execution_count": 35,
      "outputs": [
        {
          "output_type": "execute_result",
          "data": {
            "text/plain": [
              "0"
            ]
          },
          "metadata": {},
          "execution_count": 35
        }
      ]
    },
    {
      "cell_type": "markdown",
      "source": [
        "Tipo de datos"
      ],
      "metadata": {
        "id": "uY4rXhBYkvF3"
      }
    },
    {
      "cell_type": "code",
      "source": [
        "#Datatypes\n",
        "museos_df.dtypes"
      ],
      "metadata": {
        "colab": {
          "base_uri": "https://localhost:8080/"
        },
        "id": "FwzhmWYakxgQ",
        "outputId": "9df35078-37f1-444a-cc93-b36f2455afaa"
      },
      "execution_count": 36,
      "outputs": [
        {
          "output_type": "execute_result",
          "data": {
            "text/plain": [
              "N°                          float64\n",
              "Nombre                       object\n",
              "Departamento                 object\n",
              "Distrito                     object\n",
              "Dirección                    object\n",
              "Zona Geográfica              object\n",
              "Fuente de la Información     object\n",
              "Número de Registro          float64\n",
              "dtype: object"
            ]
          },
          "metadata": {},
          "execution_count": 36
        }
      ]
    },
    {
      "cell_type": "markdown",
      "source": [
        "Valores nulos\n"
      ],
      "metadata": {
        "id": "8eYYPFUMRz2l"
      }
    },
    {
      "cell_type": "code",
      "source": [
        "#valores nulos de Museos\n",
        "#Find null values\n",
        "museos_df.isnull().sum()"
      ],
      "metadata": {
        "colab": {
          "base_uri": "https://localhost:8080/"
        },
        "id": "PplhWu1Y8pBD",
        "outputId": "2a4d9904-ec45-424f-c7c2-5672f30c5048"
      },
      "execution_count": 37,
      "outputs": [
        {
          "output_type": "execute_result",
          "data": {
            "text/plain": [
              "N°                            5\n",
              "Nombre                      147\n",
              "Departamento                147\n",
              "Distrito                    147\n",
              "Dirección                   147\n",
              "Zona Geográfica             147\n",
              "Fuente de la Información    147\n",
              "Número de Registro          252\n",
              "dtype: int64"
            ]
          },
          "metadata": {},
          "execution_count": 37
        }
      ]
    },
    {
      "cell_type": "markdown",
      "source": [
        "Como en las demás hojas se vuelve a repetir la presencia en filas de valores nulos en  todas las columnas, es necesario eliminar dichas filas.\n"
      ],
      "metadata": {
        "id": "VC8ltDrHRa-h"
      }
    },
    {
      "cell_type": "markdown",
      "source": [
        "Cantidad de museos"
      ],
      "metadata": {
        "id": "RtTjrrZulII7"
      }
    },
    {
      "cell_type": "code",
      "source": [
        "cantidad_museos = len(museos_df['Nombre'].dropna())\n",
        "print(\"Cantidad de museos:\", cantidad_museos)\n"
      ],
      "metadata": {
        "colab": {
          "base_uri": "https://localhost:8080/"
        },
        "id": "umJgHEm4mAaY",
        "outputId": "d0ee6cba-ed27-4870-a05b-e43275319086"
      },
      "execution_count": 38,
      "outputs": [
        {
          "output_type": "stream",
          "name": "stdout",
          "text": [
            "Cantidad de museos: 147\n"
          ]
        }
      ]
    },
    {
      "cell_type": "markdown",
      "source": [
        "En este código, se optó por la función dropna() para eliminar las filas que contienen valores nulos en la columna 'Nombre' del DataFrame museos_df. Luego, se obtiene la longitud de la columna resultante utilizando la función len() y lo asigna a la variable cantidad_museos.\n",
        "Gracias a esto se"
      ],
      "metadata": {
        "id": "DulV0crVmLjL"
      }
    },
    {
      "cell_type": "markdown",
      "source": [
        "Eliminar filas vacias"
      ],
      "metadata": {
        "id": "5qP9nZq9mlR5"
      }
    },
    {
      "cell_type": "code",
      "source": [
        "museos_df = museos_df.iloc[:-150]\n"
      ],
      "metadata": {
        "id": "uRbHSh2yj8ox"
      },
      "execution_count": 39,
      "outputs": []
    },
    {
      "cell_type": "code",
      "source": [
        "museos_df"
      ],
      "metadata": {
        "colab": {
          "base_uri": "https://localhost:8080/",
          "height": 624
        },
        "id": "qHOictPfMAsI",
        "outputId": "04836180-fdcc-41cd-bc7b-8af110f0e68c"
      },
      "execution_count": 40,
      "outputs": [
        {
          "output_type": "execute_result",
          "data": {
            "text/plain": [
              "        N°                                             Nombre  \\\n",
              "0      NaN                                                NaN   \n",
              "1      1.0                     Museo Nacional de Bellas Artes   \n",
              "2      2.0                     Museo Casa de la Independencia   \n",
              "3      3.0                         Museo Bernardino Caballero   \n",
              "4      4.0                        Museo Memorias de la Ciudad   \n",
              "..     ...                                                ...   \n",
              "139  142.0                   Museo Campo Vía en Fortín Gondra   \n",
              "140  143.0  Museo Histórico de la Ciudad Salvador Garozzo ...   \n",
              "141  144.0  Museo Indígena de  la Comunidad  Ishir Virgen ...   \n",
              "142  145.0                                 Museo Jacob Unger    \n",
              "143  146.0        Museo de la Colonia \"Parque de la Memoria\"    \n",
              "\n",
              "         Departamento                            Distrito  \\\n",
              "0                 NaN                                 NaN   \n",
              "1             Capital                            Asunción   \n",
              "2             Capital                            Asunción   \n",
              "3             Capital                            Asunción   \n",
              "4             Capital                            Asunción   \n",
              "..                ...                                 ...   \n",
              "139  Presidente Hayes  Teniente 1° Manuel Irala Fernández   \n",
              "140  Presidente Hayes                         Villa Hayes   \n",
              "141     Alto Paraguay                       Fuerte Olimpo   \n",
              "142         Boquerón                           Filadelfia   \n",
              "143         Boquerón                           Filadelfia   \n",
              "\n",
              "                                           Dirección Zona Geográfica  \\\n",
              "0                                                NaN             NaN   \n",
              "1                     Eligio Ayala 1345 c/ Curupayty     Zona urbana   \n",
              "2               14 de Mayo esquina Presidente Franco     Zona urbana   \n",
              "3                  Sebastián Gaboto y Andrés Barbero     Zona urbana   \n",
              "4                                      Ayolas Nº 129     Zona urbana   \n",
              "..                                               ...             ...   \n",
              "139                              Comunidad de Gondra      Zona rural   \n",
              "140              Ribera del Río Paraguay y Curupayty     Zona urbana   \n",
              "141  En la torre de la catedral de María Auxiliadora     Zona urbana   \n",
              "142                              Unruh c/ Hindenburg     Zona urbana   \n",
              "143                              Parque de la Ciudad     Zona urbana   \n",
              "\n",
              "                              Fuente de la Información  Número de Registro  \n",
              "0                                                  NaN                 NaN  \n",
              "1                                        Datos Cultura                 1.0  \n",
              "2                                        Datos Cultura                 2.0  \n",
              "3                                        Datos Cultura                 3.0  \n",
              "4                                        Datos Cultura                 4.0  \n",
              "..                                                 ...                 ...  \n",
              "139  Municipalidad de Teniente 1° Manuel Irala Fern...                 NaN  \n",
              "140                       Municipalidad de Villa Hayes                 NaN  \n",
              "141                     Municipalidad de Fuerte Olimpo                 NaN  \n",
              "142                        Municipalidad de Filadelfia                 NaN  \n",
              "143                        Municipalidad de Filadelfia                 NaN  \n",
              "\n",
              "[144 rows x 8 columns]"
            ],
            "text/html": [
              "\n",
              "  <div id=\"df-e7395c5e-5679-4982-b3e2-39e8b145ef5d\">\n",
              "    <div class=\"colab-df-container\">\n",
              "      <div>\n",
              "<style scoped>\n",
              "    .dataframe tbody tr th:only-of-type {\n",
              "        vertical-align: middle;\n",
              "    }\n",
              "\n",
              "    .dataframe tbody tr th {\n",
              "        vertical-align: top;\n",
              "    }\n",
              "\n",
              "    .dataframe thead th {\n",
              "        text-align: right;\n",
              "    }\n",
              "</style>\n",
              "<table border=\"1\" class=\"dataframe\">\n",
              "  <thead>\n",
              "    <tr style=\"text-align: right;\">\n",
              "      <th></th>\n",
              "      <th>N°</th>\n",
              "      <th>Nombre</th>\n",
              "      <th>Departamento</th>\n",
              "      <th>Distrito</th>\n",
              "      <th>Dirección</th>\n",
              "      <th>Zona Geográfica</th>\n",
              "      <th>Fuente de la Información</th>\n",
              "      <th>Número de Registro</th>\n",
              "    </tr>\n",
              "  </thead>\n",
              "  <tbody>\n",
              "    <tr>\n",
              "      <th>0</th>\n",
              "      <td>NaN</td>\n",
              "      <td>NaN</td>\n",
              "      <td>NaN</td>\n",
              "      <td>NaN</td>\n",
              "      <td>NaN</td>\n",
              "      <td>NaN</td>\n",
              "      <td>NaN</td>\n",
              "      <td>NaN</td>\n",
              "    </tr>\n",
              "    <tr>\n",
              "      <th>1</th>\n",
              "      <td>1.0</td>\n",
              "      <td>Museo Nacional de Bellas Artes</td>\n",
              "      <td>Capital</td>\n",
              "      <td>Asunción</td>\n",
              "      <td>Eligio Ayala 1345 c/ Curupayty</td>\n",
              "      <td>Zona urbana</td>\n",
              "      <td>Datos Cultura</td>\n",
              "      <td>1.0</td>\n",
              "    </tr>\n",
              "    <tr>\n",
              "      <th>2</th>\n",
              "      <td>2.0</td>\n",
              "      <td>Museo Casa de la Independencia</td>\n",
              "      <td>Capital</td>\n",
              "      <td>Asunción</td>\n",
              "      <td>14 de Mayo esquina Presidente Franco</td>\n",
              "      <td>Zona urbana</td>\n",
              "      <td>Datos Cultura</td>\n",
              "      <td>2.0</td>\n",
              "    </tr>\n",
              "    <tr>\n",
              "      <th>3</th>\n",
              "      <td>3.0</td>\n",
              "      <td>Museo Bernardino Caballero</td>\n",
              "      <td>Capital</td>\n",
              "      <td>Asunción</td>\n",
              "      <td>Sebastián Gaboto y Andrés Barbero</td>\n",
              "      <td>Zona urbana</td>\n",
              "      <td>Datos Cultura</td>\n",
              "      <td>3.0</td>\n",
              "    </tr>\n",
              "    <tr>\n",
              "      <th>4</th>\n",
              "      <td>4.0</td>\n",
              "      <td>Museo Memorias de la Ciudad</td>\n",
              "      <td>Capital</td>\n",
              "      <td>Asunción</td>\n",
              "      <td>Ayolas Nº 129</td>\n",
              "      <td>Zona urbana</td>\n",
              "      <td>Datos Cultura</td>\n",
              "      <td>4.0</td>\n",
              "    </tr>\n",
              "    <tr>\n",
              "      <th>...</th>\n",
              "      <td>...</td>\n",
              "      <td>...</td>\n",
              "      <td>...</td>\n",
              "      <td>...</td>\n",
              "      <td>...</td>\n",
              "      <td>...</td>\n",
              "      <td>...</td>\n",
              "      <td>...</td>\n",
              "    </tr>\n",
              "    <tr>\n",
              "      <th>139</th>\n",
              "      <td>142.0</td>\n",
              "      <td>Museo Campo Vía en Fortín Gondra</td>\n",
              "      <td>Presidente Hayes</td>\n",
              "      <td>Teniente 1° Manuel Irala Fernández</td>\n",
              "      <td>Comunidad de Gondra</td>\n",
              "      <td>Zona rural</td>\n",
              "      <td>Municipalidad de Teniente 1° Manuel Irala Fern...</td>\n",
              "      <td>NaN</td>\n",
              "    </tr>\n",
              "    <tr>\n",
              "      <th>140</th>\n",
              "      <td>143.0</td>\n",
              "      <td>Museo Histórico de la Ciudad Salvador Garozzo ...</td>\n",
              "      <td>Presidente Hayes</td>\n",
              "      <td>Villa Hayes</td>\n",
              "      <td>Ribera del Río Paraguay y Curupayty</td>\n",
              "      <td>Zona urbana</td>\n",
              "      <td>Municipalidad de Villa Hayes</td>\n",
              "      <td>NaN</td>\n",
              "    </tr>\n",
              "    <tr>\n",
              "      <th>141</th>\n",
              "      <td>144.0</td>\n",
              "      <td>Museo Indígena de  la Comunidad  Ishir Virgen ...</td>\n",
              "      <td>Alto Paraguay</td>\n",
              "      <td>Fuerte Olimpo</td>\n",
              "      <td>En la torre de la catedral de María Auxiliadora</td>\n",
              "      <td>Zona urbana</td>\n",
              "      <td>Municipalidad de Fuerte Olimpo</td>\n",
              "      <td>NaN</td>\n",
              "    </tr>\n",
              "    <tr>\n",
              "      <th>142</th>\n",
              "      <td>145.0</td>\n",
              "      <td>Museo Jacob Unger</td>\n",
              "      <td>Boquerón</td>\n",
              "      <td>Filadelfia</td>\n",
              "      <td>Unruh c/ Hindenburg</td>\n",
              "      <td>Zona urbana</td>\n",
              "      <td>Municipalidad de Filadelfia</td>\n",
              "      <td>NaN</td>\n",
              "    </tr>\n",
              "    <tr>\n",
              "      <th>143</th>\n",
              "      <td>146.0</td>\n",
              "      <td>Museo de la Colonia \"Parque de la Memoria\"</td>\n",
              "      <td>Boquerón</td>\n",
              "      <td>Filadelfia</td>\n",
              "      <td>Parque de la Ciudad</td>\n",
              "      <td>Zona urbana</td>\n",
              "      <td>Municipalidad de Filadelfia</td>\n",
              "      <td>NaN</td>\n",
              "    </tr>\n",
              "  </tbody>\n",
              "</table>\n",
              "<p>144 rows × 8 columns</p>\n",
              "</div>\n",
              "      <button class=\"colab-df-convert\" onclick=\"convertToInteractive('df-e7395c5e-5679-4982-b3e2-39e8b145ef5d')\"\n",
              "              title=\"Convert this dataframe to an interactive table.\"\n",
              "              style=\"display:none;\">\n",
              "        \n",
              "  <svg xmlns=\"http://www.w3.org/2000/svg\" height=\"24px\"viewBox=\"0 0 24 24\"\n",
              "       width=\"24px\">\n",
              "    <path d=\"M0 0h24v24H0V0z\" fill=\"none\"/>\n",
              "    <path d=\"M18.56 5.44l.94 2.06.94-2.06 2.06-.94-2.06-.94-.94-2.06-.94 2.06-2.06.94zm-11 1L8.5 8.5l.94-2.06 2.06-.94-2.06-.94L8.5 2.5l-.94 2.06-2.06.94zm10 10l.94 2.06.94-2.06 2.06-.94-2.06-.94-.94-2.06-.94 2.06-2.06.94z\"/><path d=\"M17.41 7.96l-1.37-1.37c-.4-.4-.92-.59-1.43-.59-.52 0-1.04.2-1.43.59L10.3 9.45l-7.72 7.72c-.78.78-.78 2.05 0 2.83L4 21.41c.39.39.9.59 1.41.59.51 0 1.02-.2 1.41-.59l7.78-7.78 2.81-2.81c.8-.78.8-2.07 0-2.86zM5.41 20L4 18.59l7.72-7.72 1.47 1.35L5.41 20z\"/>\n",
              "  </svg>\n",
              "      </button>\n",
              "      \n",
              "  <style>\n",
              "    .colab-df-container {\n",
              "      display:flex;\n",
              "      flex-wrap:wrap;\n",
              "      gap: 12px;\n",
              "    }\n",
              "\n",
              "    .colab-df-convert {\n",
              "      background-color: #E8F0FE;\n",
              "      border: none;\n",
              "      border-radius: 50%;\n",
              "      cursor: pointer;\n",
              "      display: none;\n",
              "      fill: #1967D2;\n",
              "      height: 32px;\n",
              "      padding: 0 0 0 0;\n",
              "      width: 32px;\n",
              "    }\n",
              "\n",
              "    .colab-df-convert:hover {\n",
              "      background-color: #E2EBFA;\n",
              "      box-shadow: 0px 1px 2px rgba(60, 64, 67, 0.3), 0px 1px 3px 1px rgba(60, 64, 67, 0.15);\n",
              "      fill: #174EA6;\n",
              "    }\n",
              "\n",
              "    [theme=dark] .colab-df-convert {\n",
              "      background-color: #3B4455;\n",
              "      fill: #D2E3FC;\n",
              "    }\n",
              "\n",
              "    [theme=dark] .colab-df-convert:hover {\n",
              "      background-color: #434B5C;\n",
              "      box-shadow: 0px 1px 3px 1px rgba(0, 0, 0, 0.15);\n",
              "      filter: drop-shadow(0px 1px 2px rgba(0, 0, 0, 0.3));\n",
              "      fill: #FFFFFF;\n",
              "    }\n",
              "  </style>\n",
              "\n",
              "      <script>\n",
              "        const buttonEl =\n",
              "          document.querySelector('#df-e7395c5e-5679-4982-b3e2-39e8b145ef5d button.colab-df-convert');\n",
              "        buttonEl.style.display =\n",
              "          google.colab.kernel.accessAllowed ? 'block' : 'none';\n",
              "\n",
              "        async function convertToInteractive(key) {\n",
              "          const element = document.querySelector('#df-e7395c5e-5679-4982-b3e2-39e8b145ef5d');\n",
              "          const dataTable =\n",
              "            await google.colab.kernel.invokeFunction('convertToInteractive',\n",
              "                                                     [key], {});\n",
              "          if (!dataTable) return;\n",
              "\n",
              "          const docLinkHtml = 'Like what you see? Visit the ' +\n",
              "            '<a target=\"_blank\" href=https://colab.research.google.com/notebooks/data_table.ipynb>data table notebook</a>'\n",
              "            + ' to learn more about interactive tables.';\n",
              "          element.innerHTML = '';\n",
              "          dataTable['output_type'] = 'display_data';\n",
              "          await google.colab.output.renderOutput(dataTable, element);\n",
              "          const docLink = document.createElement('div');\n",
              "          docLink.innerHTML = docLinkHtml;\n",
              "          element.appendChild(docLink);\n",
              "        }\n",
              "      </script>\n",
              "    </div>\n",
              "  </div>\n",
              "  "
            ]
          },
          "metadata": {},
          "execution_count": 40
        }
      ]
    },
    {
      "cell_type": "markdown",
      "source": [
        "## *Dataframe de galerias de arte*\n"
      ],
      "metadata": {
        "id": "qeDPrDeFuSyn"
      }
    },
    {
      "cell_type": "code",
      "source": [
        "import pandas as pd\n",
        "\n",
        "# Leer el archivo Excel\n",
        "excel_file = pd.ExcelFile('infraestructura.xlsx')\n",
        "\n",
        "# Obtener el nombre de todas las hojas en el archivo\n",
        "sheet_names = excel_file.sheet_names\n",
        "\n",
        "# Crear un diccionario para almacenar los DataFrames de cada hoja\n",
        "dataframes = {}\n",
        "\n",
        "# Iterar sobre cada hoja y crear un DataFrame correspondiente\n",
        "for sheet_name in sheet_names:\n",
        "    # Leer los datos de la hoja y almacenarlos en un DataFrame\n",
        "    df = excel_file.parse(sheet_name)\n",
        "    # Almacenar el DataFrame en el diccionario usando el nombre de la hoja como clave\n",
        "    dataframes[sheet_name] = df\n",
        "\n",
        "# Obtener el DataFrame de la hoja \"Galerías de Arte\"\n",
        "galeriasdearte_df = dataframes['Galerías de Arte']\n",
        "\n",
        "# Visualizar el DataFrame de la hoja \"Galerias de Arte\"\n",
        "print(galeriasdearte_df)"
      ],
      "metadata": {
        "colab": {
          "base_uri": "https://localhost:8080/"
        },
        "id": "2M1ogZu4R8m_",
        "outputId": "68f1f130-b965-43b5-ee82-7c21cce9cbb7"
      },
      "execution_count": 41,
      "outputs": [
        {
          "output_type": "stream",
          "name": "stdout",
          "text": [
            "        N°                   Nombre Departamento   Distrito  \\\n",
            "0      NaN                      NaN          NaN        NaN   \n",
            "1      1.0       Estudio Espacio 61      Capital   Asunción   \n",
            "2      2.0  Galería Agustín Barrios      Capital  Asunción    \n",
            "3      3.0      Galería Arte Marsal      Capital   Asunción   \n",
            "4      4.0  Del Rey Galería de Arte      Capital   Asunción   \n",
            "..     ...                      ...          ...        ...   \n",
            "424  416.0                      NaN          NaN        NaN   \n",
            "425  417.0                      NaN          NaN        NaN   \n",
            "426  418.0                      NaN          NaN        NaN   \n",
            "427  419.0                      NaN          NaN        NaN   \n",
            "428  420.0                      NaN          NaN        NaN   \n",
            "\n",
            "                                Dirección Zona Geográfica  \\\n",
            "0                                     NaN             NaN   \n",
            "1             Sauce 1985 c/ Leandro Allen     Zona urbana   \n",
            "2     Avenida España 352 y Estados Unidos     Zona urbana   \n",
            "3             Caballero 345 c/ 25 de Mayo     Zona urbana   \n",
            "4    Avenida Santa Teresa 3145 c/ Austria     Zona urbana   \n",
            "..                                    ...             ...   \n",
            "424                                   NaN             NaN   \n",
            "425                                   NaN             NaN   \n",
            "426                                   NaN             NaN   \n",
            "427                                   NaN             NaN   \n",
            "428                                   NaN             NaN   \n",
            "\n",
            "    Fuente de la información  Número de registro  \n",
            "0                        NaN                 NaN  \n",
            "1                      SICPY                 1.0  \n",
            "2                      SICPY                 2.0  \n",
            "3                      SICPY                 3.0  \n",
            "4                      SICPY                 4.0  \n",
            "..                       ...                 ...  \n",
            "424                      NaN                 NaN  \n",
            "425                      NaN                 NaN  \n",
            "426                      NaN                 NaN  \n",
            "427                      NaN                 NaN  \n",
            "428                      NaN                 NaN  \n",
            "\n",
            "[429 rows x 8 columns]\n"
          ]
        }
      ]
    },
    {
      "cell_type": "markdown",
      "source": [
        "####Exploracion de los datos\n"
      ],
      "metadata": {
        "id": "NVkASyB2MMmI"
      }
    },
    {
      "cell_type": "markdown",
      "source": [
        "Valores duplicados"
      ],
      "metadata": {
        "id": "CPnW3Gd5MTtb"
      }
    },
    {
      "cell_type": "code",
      "source": [
        "#Find the duplicates\n",
        "galeriasdearte_df.duplicated().sum()\n",
        "\n",
        "#df.duplicated"
      ],
      "metadata": {
        "colab": {
          "base_uri": "https://localhost:8080/"
        },
        "id": "kt7pdqYCMVge",
        "outputId": "f1599ddc-2acc-4c30-b315-a1a0acfd2004"
      },
      "execution_count": 42,
      "outputs": [
        {
          "output_type": "execute_result",
          "data": {
            "text/plain": [
              "0"
            ]
          },
          "metadata": {},
          "execution_count": 42
        }
      ]
    },
    {
      "cell_type": "markdown",
      "source": [
        "Tipos de datos"
      ],
      "metadata": {
        "id": "MKS7WtSZMlqT"
      }
    },
    {
      "cell_type": "code",
      "source": [
        "#Datatypes\n",
        "galeriasdearte_df.dtypes"
      ],
      "metadata": {
        "colab": {
          "base_uri": "https://localhost:8080/"
        },
        "id": "F9zGKod2MnfP",
        "outputId": "219ad65e-c795-4f3b-d7d2-1711e98ad3cf"
      },
      "execution_count": 43,
      "outputs": [
        {
          "output_type": "execute_result",
          "data": {
            "text/plain": [
              "N°                          float64\n",
              "Nombre                       object\n",
              "Departamento                 object\n",
              "Distrito                     object\n",
              "Dirección                    object\n",
              "Zona Geográfica              object\n",
              "Fuente de la información     object\n",
              "Número de registro          float64\n",
              "dtype: object"
            ]
          },
          "metadata": {},
          "execution_count": 43
        }
      ]
    },
    {
      "cell_type": "markdown",
      "source": [
        "Valores nulos"
      ],
      "metadata": {
        "id": "GYayVthXMeki"
      }
    },
    {
      "cell_type": "code",
      "source": [
        "#valores nulos de Galerias de Arte\n",
        "#Find null values\n",
        "galeriasdearte_df.isnull().sum()"
      ],
      "metadata": {
        "colab": {
          "base_uri": "https://localhost:8080/"
        },
        "id": "r2owXQvd80LE",
        "outputId": "05b77702-8f10-4f63-f091-69e6900a0e22"
      },
      "execution_count": 44,
      "outputs": [
        {
          "output_type": "execute_result",
          "data": {
            "text/plain": [
              "N°                            8\n",
              "Nombre                      365\n",
              "Departamento                368\n",
              "Distrito                    368\n",
              "Dirección                   369\n",
              "Zona Geográfica             369\n",
              "Fuente de la información    365\n",
              "Número de registro          384\n",
              "dtype: int64"
            ]
          },
          "metadata": {},
          "execution_count": 44
        }
      ]
    },
    {
      "cell_type": "markdown",
      "source": [
        "Eliminar filas nulas"
      ],
      "metadata": {
        "id": "nzdOzX-LMvsJ"
      }
    },
    {
      "cell_type": "code",
      "source": [
        "galeriasdearte_df = galeriasdearte_df.iloc[:65].append(galeriasdearte_df.iloc[66:].dropna())\n"
      ],
      "metadata": {
        "colab": {
          "base_uri": "https://localhost:8080/"
        },
        "id": "eExr2B0eMw-8",
        "outputId": "493c3073-3960-4436-eede-458a8ada34ae"
      },
      "execution_count": 45,
      "outputs": [
        {
          "output_type": "stream",
          "name": "stderr",
          "text": [
            "<ipython-input-45-4323eb460868>:1: FutureWarning: The frame.append method is deprecated and will be removed from pandas in a future version. Use pandas.concat instead.\n",
            "  galeriasdearte_df = galeriasdearte_df.iloc[:65].append(galeriasdearte_df.iloc[66:].dropna())\n"
          ]
        }
      ]
    },
    {
      "cell_type": "code",
      "source": [
        "galeriasdearte_df"
      ],
      "metadata": {
        "colab": {
          "base_uri": "https://localhost:8080/",
          "height": 641
        },
        "id": "YRhkgRauNAst",
        "outputId": "aad5040e-3cbe-4c63-f0fa-35e523d38df6"
      },
      "execution_count": 46,
      "outputs": [
        {
          "output_type": "execute_result",
          "data": {
            "text/plain": [
              "      N°                                             Nombre      Departamento  \\\n",
              "0    NaN                                                NaN               NaN   \n",
              "1    1.0                                 Estudio Espacio 61           Capital   \n",
              "2    2.0                            Galería Agustín Barrios           Capital   \n",
              "3    3.0                                Galería Arte Marsal           Capital   \n",
              "4    4.0                            Del Rey Galería de Arte           Capital   \n",
              "..   ...                                                ...               ...   \n",
              "60  52.0                        Galería Julio Cesár Álvares           Amambay   \n",
              "61  53.0                         Galeria Francisco Almeida            Amambay   \n",
              "62  54.0                                    Galería de Arte  Presidente Hayes   \n",
              "63  56.0  Galería de Exposición de Artesanía Indígena de...  Presidente Hayes   \n",
              "64   NaN                                 La Casita del Arte          Boquerón   \n",
              "\n",
              "                                   Distrito  \\\n",
              "0                                       NaN   \n",
              "1                                  Asunción   \n",
              "2                                 Asunción    \n",
              "3                                  Asunción   \n",
              "4                                  Asunción   \n",
              "..                                      ...   \n",
              "60                     Pedro Juan Caballero   \n",
              "61                     Pedro Juan Caballero   \n",
              "62                              Villa Hayes   \n",
              "63  Teniente Primero Manuel Irala Fernández   \n",
              "64                               Filadelfia   \n",
              "\n",
              "                                            Dirección Zona Geográfica  \\\n",
              "0                                                 NaN             NaN   \n",
              "1                         Sauce 1985 c/ Leandro Allen     Zona urbana   \n",
              "2                 Avenida España 352 y Estados Unidos     Zona urbana   \n",
              "3                         Caballero 345 c/ 25 de Mayo     Zona urbana   \n",
              "4                Avenida Santa Teresa 3145 c/ Austria     Zona urbana   \n",
              "..                                                ...             ...   \n",
              "60   Aquidabán entre Mcal. López y Carlos Antonio ...     Zona urbana   \n",
              "61     Perpétuo Socorro y Plaza Pedro Juan Caballero      Zona urbana   \n",
              "62  Avenida Lauro Hayes 495 - Centro Cultural Melodía     Zona urbana   \n",
              "63                          comunidad Estribo Karandá      Zona rural   \n",
              "64                       Calle Miller c/ Calle Trébol     Zona urbana   \n",
              "\n",
              "                 Fuente de la información  Número de registro  \n",
              "0                                     NaN                 NaN  \n",
              "1                                   SICPY                 1.0  \n",
              "2                                   SICPY                 2.0  \n",
              "3                                   SICPY                 3.0  \n",
              "4                                   SICPY                 4.0  \n",
              "..                                    ...                 ...  \n",
              "60  Municipalidad de Pedro Juan Caballero                 NaN  \n",
              "61  Municipalidad de Pedro Juan Caballero                 NaN  \n",
              "62           Municipalidad de Villa Hayes                 NaN  \n",
              "63           Municipalidad de Villa Hayes                 NaN  \n",
              "64            Municipalidad de Filadelfia                 NaN  \n",
              "\n",
              "[65 rows x 8 columns]"
            ],
            "text/html": [
              "\n",
              "  <div id=\"df-ebfc1fa4-10d5-4898-88a2-b3200460ff95\">\n",
              "    <div class=\"colab-df-container\">\n",
              "      <div>\n",
              "<style scoped>\n",
              "    .dataframe tbody tr th:only-of-type {\n",
              "        vertical-align: middle;\n",
              "    }\n",
              "\n",
              "    .dataframe tbody tr th {\n",
              "        vertical-align: top;\n",
              "    }\n",
              "\n",
              "    .dataframe thead th {\n",
              "        text-align: right;\n",
              "    }\n",
              "</style>\n",
              "<table border=\"1\" class=\"dataframe\">\n",
              "  <thead>\n",
              "    <tr style=\"text-align: right;\">\n",
              "      <th></th>\n",
              "      <th>N°</th>\n",
              "      <th>Nombre</th>\n",
              "      <th>Departamento</th>\n",
              "      <th>Distrito</th>\n",
              "      <th>Dirección</th>\n",
              "      <th>Zona Geográfica</th>\n",
              "      <th>Fuente de la información</th>\n",
              "      <th>Número de registro</th>\n",
              "    </tr>\n",
              "  </thead>\n",
              "  <tbody>\n",
              "    <tr>\n",
              "      <th>0</th>\n",
              "      <td>NaN</td>\n",
              "      <td>NaN</td>\n",
              "      <td>NaN</td>\n",
              "      <td>NaN</td>\n",
              "      <td>NaN</td>\n",
              "      <td>NaN</td>\n",
              "      <td>NaN</td>\n",
              "      <td>NaN</td>\n",
              "    </tr>\n",
              "    <tr>\n",
              "      <th>1</th>\n",
              "      <td>1.0</td>\n",
              "      <td>Estudio Espacio 61</td>\n",
              "      <td>Capital</td>\n",
              "      <td>Asunción</td>\n",
              "      <td>Sauce 1985 c/ Leandro Allen</td>\n",
              "      <td>Zona urbana</td>\n",
              "      <td>SICPY</td>\n",
              "      <td>1.0</td>\n",
              "    </tr>\n",
              "    <tr>\n",
              "      <th>2</th>\n",
              "      <td>2.0</td>\n",
              "      <td>Galería Agustín Barrios</td>\n",
              "      <td>Capital</td>\n",
              "      <td>Asunción</td>\n",
              "      <td>Avenida España 352 y Estados Unidos</td>\n",
              "      <td>Zona urbana</td>\n",
              "      <td>SICPY</td>\n",
              "      <td>2.0</td>\n",
              "    </tr>\n",
              "    <tr>\n",
              "      <th>3</th>\n",
              "      <td>3.0</td>\n",
              "      <td>Galería Arte Marsal</td>\n",
              "      <td>Capital</td>\n",
              "      <td>Asunción</td>\n",
              "      <td>Caballero 345 c/ 25 de Mayo</td>\n",
              "      <td>Zona urbana</td>\n",
              "      <td>SICPY</td>\n",
              "      <td>3.0</td>\n",
              "    </tr>\n",
              "    <tr>\n",
              "      <th>4</th>\n",
              "      <td>4.0</td>\n",
              "      <td>Del Rey Galería de Arte</td>\n",
              "      <td>Capital</td>\n",
              "      <td>Asunción</td>\n",
              "      <td>Avenida Santa Teresa 3145 c/ Austria</td>\n",
              "      <td>Zona urbana</td>\n",
              "      <td>SICPY</td>\n",
              "      <td>4.0</td>\n",
              "    </tr>\n",
              "    <tr>\n",
              "      <th>...</th>\n",
              "      <td>...</td>\n",
              "      <td>...</td>\n",
              "      <td>...</td>\n",
              "      <td>...</td>\n",
              "      <td>...</td>\n",
              "      <td>...</td>\n",
              "      <td>...</td>\n",
              "      <td>...</td>\n",
              "    </tr>\n",
              "    <tr>\n",
              "      <th>60</th>\n",
              "      <td>52.0</td>\n",
              "      <td>Galería Julio Cesár Álvares</td>\n",
              "      <td>Amambay</td>\n",
              "      <td>Pedro Juan Caballero</td>\n",
              "      <td>Aquidabán entre Mcal. López y Carlos Antonio ...</td>\n",
              "      <td>Zona urbana</td>\n",
              "      <td>Municipalidad de Pedro Juan Caballero</td>\n",
              "      <td>NaN</td>\n",
              "    </tr>\n",
              "    <tr>\n",
              "      <th>61</th>\n",
              "      <td>53.0</td>\n",
              "      <td>Galeria Francisco Almeida</td>\n",
              "      <td>Amambay</td>\n",
              "      <td>Pedro Juan Caballero</td>\n",
              "      <td>Perpétuo Socorro y Plaza Pedro Juan Caballero</td>\n",
              "      <td>Zona urbana</td>\n",
              "      <td>Municipalidad de Pedro Juan Caballero</td>\n",
              "      <td>NaN</td>\n",
              "    </tr>\n",
              "    <tr>\n",
              "      <th>62</th>\n",
              "      <td>54.0</td>\n",
              "      <td>Galería de Arte</td>\n",
              "      <td>Presidente Hayes</td>\n",
              "      <td>Villa Hayes</td>\n",
              "      <td>Avenida Lauro Hayes 495 - Centro Cultural Melodía</td>\n",
              "      <td>Zona urbana</td>\n",
              "      <td>Municipalidad de Villa Hayes</td>\n",
              "      <td>NaN</td>\n",
              "    </tr>\n",
              "    <tr>\n",
              "      <th>63</th>\n",
              "      <td>56.0</td>\n",
              "      <td>Galería de Exposición de Artesanía Indígena de...</td>\n",
              "      <td>Presidente Hayes</td>\n",
              "      <td>Teniente Primero Manuel Irala Fernández</td>\n",
              "      <td>comunidad Estribo Karandá</td>\n",
              "      <td>Zona rural</td>\n",
              "      <td>Municipalidad de Villa Hayes</td>\n",
              "      <td>NaN</td>\n",
              "    </tr>\n",
              "    <tr>\n",
              "      <th>64</th>\n",
              "      <td>NaN</td>\n",
              "      <td>La Casita del Arte</td>\n",
              "      <td>Boquerón</td>\n",
              "      <td>Filadelfia</td>\n",
              "      <td>Calle Miller c/ Calle Trébol</td>\n",
              "      <td>Zona urbana</td>\n",
              "      <td>Municipalidad de Filadelfia</td>\n",
              "      <td>NaN</td>\n",
              "    </tr>\n",
              "  </tbody>\n",
              "</table>\n",
              "<p>65 rows × 8 columns</p>\n",
              "</div>\n",
              "      <button class=\"colab-df-convert\" onclick=\"convertToInteractive('df-ebfc1fa4-10d5-4898-88a2-b3200460ff95')\"\n",
              "              title=\"Convert this dataframe to an interactive table.\"\n",
              "              style=\"display:none;\">\n",
              "        \n",
              "  <svg xmlns=\"http://www.w3.org/2000/svg\" height=\"24px\"viewBox=\"0 0 24 24\"\n",
              "       width=\"24px\">\n",
              "    <path d=\"M0 0h24v24H0V0z\" fill=\"none\"/>\n",
              "    <path d=\"M18.56 5.44l.94 2.06.94-2.06 2.06-.94-2.06-.94-.94-2.06-.94 2.06-2.06.94zm-11 1L8.5 8.5l.94-2.06 2.06-.94-2.06-.94L8.5 2.5l-.94 2.06-2.06.94zm10 10l.94 2.06.94-2.06 2.06-.94-2.06-.94-.94-2.06-.94 2.06-2.06.94z\"/><path d=\"M17.41 7.96l-1.37-1.37c-.4-.4-.92-.59-1.43-.59-.52 0-1.04.2-1.43.59L10.3 9.45l-7.72 7.72c-.78.78-.78 2.05 0 2.83L4 21.41c.39.39.9.59 1.41.59.51 0 1.02-.2 1.41-.59l7.78-7.78 2.81-2.81c.8-.78.8-2.07 0-2.86zM5.41 20L4 18.59l7.72-7.72 1.47 1.35L5.41 20z\"/>\n",
              "  </svg>\n",
              "      </button>\n",
              "      \n",
              "  <style>\n",
              "    .colab-df-container {\n",
              "      display:flex;\n",
              "      flex-wrap:wrap;\n",
              "      gap: 12px;\n",
              "    }\n",
              "\n",
              "    .colab-df-convert {\n",
              "      background-color: #E8F0FE;\n",
              "      border: none;\n",
              "      border-radius: 50%;\n",
              "      cursor: pointer;\n",
              "      display: none;\n",
              "      fill: #1967D2;\n",
              "      height: 32px;\n",
              "      padding: 0 0 0 0;\n",
              "      width: 32px;\n",
              "    }\n",
              "\n",
              "    .colab-df-convert:hover {\n",
              "      background-color: #E2EBFA;\n",
              "      box-shadow: 0px 1px 2px rgba(60, 64, 67, 0.3), 0px 1px 3px 1px rgba(60, 64, 67, 0.15);\n",
              "      fill: #174EA6;\n",
              "    }\n",
              "\n",
              "    [theme=dark] .colab-df-convert {\n",
              "      background-color: #3B4455;\n",
              "      fill: #D2E3FC;\n",
              "    }\n",
              "\n",
              "    [theme=dark] .colab-df-convert:hover {\n",
              "      background-color: #434B5C;\n",
              "      box-shadow: 0px 1px 3px 1px rgba(0, 0, 0, 0.15);\n",
              "      filter: drop-shadow(0px 1px 2px rgba(0, 0, 0, 0.3));\n",
              "      fill: #FFFFFF;\n",
              "    }\n",
              "  </style>\n",
              "\n",
              "      <script>\n",
              "        const buttonEl =\n",
              "          document.querySelector('#df-ebfc1fa4-10d5-4898-88a2-b3200460ff95 button.colab-df-convert');\n",
              "        buttonEl.style.display =\n",
              "          google.colab.kernel.accessAllowed ? 'block' : 'none';\n",
              "\n",
              "        async function convertToInteractive(key) {\n",
              "          const element = document.querySelector('#df-ebfc1fa4-10d5-4898-88a2-b3200460ff95');\n",
              "          const dataTable =\n",
              "            await google.colab.kernel.invokeFunction('convertToInteractive',\n",
              "                                                     [key], {});\n",
              "          if (!dataTable) return;\n",
              "\n",
              "          const docLinkHtml = 'Like what you see? Visit the ' +\n",
              "            '<a target=\"_blank\" href=https://colab.research.google.com/notebooks/data_table.ipynb>data table notebook</a>'\n",
              "            + ' to learn more about interactive tables.';\n",
              "          element.innerHTML = '';\n",
              "          dataTable['output_type'] = 'display_data';\n",
              "          await google.colab.output.renderOutput(dataTable, element);\n",
              "          const docLink = document.createElement('div');\n",
              "          docLink.innerHTML = docLinkHtml;\n",
              "          element.appendChild(docLink);\n",
              "        }\n",
              "      </script>\n",
              "    </div>\n",
              "  </div>\n",
              "  "
            ]
          },
          "metadata": {},
          "execution_count": 46
        }
      ]
    },
    {
      "cell_type": "markdown",
      "source": [
        "## *Dataframe de librerias*\n"
      ],
      "metadata": {
        "id": "UIUkic3kuYaN"
      }
    },
    {
      "cell_type": "code",
      "source": [
        "import pandas as pd\n",
        "\n",
        "# Leer el archivo Excel\n",
        "excel_file = pd.ExcelFile('infraestructura.xlsx')\n",
        "\n",
        "# Obtener el nombre de todas las hojas en el archivo\n",
        "sheet_names = excel_file.sheet_names\n",
        "\n",
        "# Crear un diccionario para almacenar los DataFrames de cada hoja\n",
        "dataframes = {}\n",
        "\n",
        "# Iterar sobre cada hoja y crear un DataFrame correspondiente\n",
        "for sheet_name in sheet_names:\n",
        "    # Leer los datos de la hoja y almacenarlos en un DataFrame\n",
        "    df = excel_file.parse(sheet_name)\n",
        "    # Almacenar el DataFrame en el diccionario usando el nombre de la hoja como clave\n",
        "    dataframes[sheet_name] = df\n",
        "\n",
        "# Obtener el DataFrame de la hoja \"Librerías\"\n",
        "librerias_df = dataframes['Librerías']\n",
        "\n",
        "# Visualizar el DataFrame de la hoja \"Librerías\"\n",
        "print(librerias_df)"
      ],
      "metadata": {
        "colab": {
          "base_uri": "https://localhost:8080/"
        },
        "id": "s2QbyCscSN9V",
        "outputId": "6a6ac321-9de7-4063-95d4-d7b238fac1bd"
      },
      "execution_count": 47,
      "outputs": [
        {
          "output_type": "stream",
          "name": "stdout",
          "text": [
            "        N°             Nombre Departamento  Distrito  \\\n",
            "0      NaN                NaN          NaN       NaN   \n",
            "1      1.0  Librería Arandurã      Capital  Asunción   \n",
            "2      2.0    Librería Bijupa      Capital  Asunción   \n",
            "3      3.0     Librería Books      Capital  Asunción   \n",
            "4      4.0   Librería Mimbipa      Capital  Asunción   \n",
            "..     ...                ...          ...       ...   \n",
            "202  195.0                NaN          NaN       NaN   \n",
            "203  196.0                NaN          NaN       NaN   \n",
            "204  197.0                NaN          NaN       NaN   \n",
            "205  198.0                NaN          NaN       NaN   \n",
            "206  199.0                NaN          NaN       NaN   \n",
            "\n",
            "                                             Dirección Zona Geográfica  \\\n",
            "0                                                  NaN             NaN   \n",
            "1                                Teniente Fariña 1074      Zona urbana   \n",
            "2                       Independencia Nacional N° 139      Zona urbana   \n",
            "3                  Mariscal López 3791 c/ Doctor Morra     Zona urbana   \n",
            "4    Avenida Ruíz Díaz de Melgarejo 491 entre Campo...     Zona urbana   \n",
            "..                                                 ...             ...   \n",
            "202                                                NaN             NaN   \n",
            "203                                                NaN             NaN   \n",
            "204                                                NaN             NaN   \n",
            "205                                                NaN             NaN   \n",
            "206                                                NaN             NaN   \n",
            "\n",
            "                                 Fuente la información  Número de registro  \n",
            "0                                                  NaN                 NaN  \n",
            "1    Directorio de Asociados Cámara Paraguaya del L...                 1.0  \n",
            "2    Directorio de Asociados Cámara Paraguaya del L...                 2.0  \n",
            "3    Directorio de Asociados Cámara Paraguaya del L...                 3.0  \n",
            "4    Directorio de Asociados Cámara Paraguaya del L...                 4.0  \n",
            "..                                                 ...                 ...  \n",
            "202                                                NaN                 NaN  \n",
            "203                                                NaN                 NaN  \n",
            "204                                                NaN                 NaN  \n",
            "205                                                NaN                 NaN  \n",
            "206                                                NaN                 NaN  \n",
            "\n",
            "[207 rows x 8 columns]\n"
          ]
        }
      ]
    },
    {
      "cell_type": "markdown",
      "source": [
        "###Exploración de los datos\n"
      ],
      "metadata": {
        "id": "p8zIREViOjLB"
      }
    },
    {
      "cell_type": "markdown",
      "source": [
        "Tipos de datos"
      ],
      "metadata": {
        "id": "JUxJg9TBOnjl"
      }
    },
    {
      "cell_type": "code",
      "source": [
        "#Datatypes\n",
        "librerias_df.dtypes"
      ],
      "metadata": {
        "colab": {
          "base_uri": "https://localhost:8080/"
        },
        "id": "oimkR_sdQlR_",
        "outputId": "70b27fdd-5eda-4336-96d2-7c34eb75e6c1"
      },
      "execution_count": 48,
      "outputs": [
        {
          "output_type": "execute_result",
          "data": {
            "text/plain": [
              "N°                       float64\n",
              "Nombre                    object\n",
              "Departamento              object\n",
              "Distrito                  object\n",
              "Dirección                 object\n",
              "Zona Geográfica           object\n",
              "Fuente la información     object\n",
              "Número de registro       float64\n",
              "dtype: object"
            ]
          },
          "metadata": {},
          "execution_count": 48
        }
      ]
    },
    {
      "cell_type": "code",
      "source": [
        "#valores nulos de Librerias\n",
        "#Find null values\n",
        "librerias_df.isnull().sum()"
      ],
      "metadata": {
        "colab": {
          "base_uri": "https://localhost:8080/"
        },
        "id": "l-BK5khr9JwT",
        "outputId": "cdbf5497-3179-47b2-cecf-23be8ac61e56"
      },
      "execution_count": 49,
      "outputs": [
        {
          "output_type": "execute_result",
          "data": {
            "text/plain": [
              "N°                        10\n",
              "Nombre                   124\n",
              "Departamento             124\n",
              "Distrito                 124\n",
              "Dirección                125\n",
              "Zona Geográfica          124\n",
              "Fuente la información    125\n",
              "Número de registro       165\n",
              "dtype: int64"
            ]
          },
          "metadata": {},
          "execution_count": 49
        }
      ]
    },
    {
      "cell_type": "markdown",
      "source": [
        "\n",
        " Gracias al analisis para ver la cantidad de valores nulos, se puede sacar la conclusion de que el dataset esta diseñado como para que las columnas sean rellenadas en el tiempo, teniendo asi un 207 rows filas, y con una cantidad de valores nulos de 124 en las columnas, se puede optar por eleminarlas. Siendo asi la cantidad de filas y registros que sirven para el analisis de 84"
      ],
      "metadata": {
        "id": "yojWDRS795mh"
      }
    },
    {
      "cell_type": "markdown",
      "source": [
        "Eliminar datos Nan\n"
      ],
      "metadata": {
        "id": "SgcbCkOuQ1dx"
      }
    },
    {
      "cell_type": "code",
      "source": [
        "librerias_df = librerias_df.iloc[:84].append(librerias_df.iloc[85:].dropna())\n"
      ],
      "metadata": {
        "colab": {
          "base_uri": "https://localhost:8080/"
        },
        "id": "bebdHcOWRDmz",
        "outputId": "36148309-0268-42f5-bac0-97aa18f341e6"
      },
      "execution_count": 50,
      "outputs": [
        {
          "output_type": "stream",
          "name": "stderr",
          "text": [
            "<ipython-input-50-1fff074bd4bb>:1: FutureWarning: The frame.append method is deprecated and will be removed from pandas in a future version. Use pandas.concat instead.\n",
            "  librerias_df = librerias_df.iloc[:84].append(librerias_df.iloc[85:].dropna())\n"
          ]
        }
      ]
    },
    {
      "cell_type": "markdown",
      "source": [
        "Cantidad de Librerias"
      ],
      "metadata": {
        "id": "Vjab245wvrgv"
      }
    },
    {
      "cell_type": "code",
      "source": [
        "cantidad_librerias = len(librerias_df['Nombre'])\n",
        "print(\"Cantidad de librerias:\", cantidad_librerias)\n"
      ],
      "metadata": {
        "colab": {
          "base_uri": "https://localhost:8080/"
        },
        "id": "lnmhn0B1vqzM",
        "outputId": "1f93c8f1-b9a7-4ee1-aa3b-4ec7e5e403c3"
      },
      "execution_count": 51,
      "outputs": [
        {
          "output_type": "stream",
          "name": "stdout",
          "text": [
            "Cantidad de librerias: 84\n"
          ]
        }
      ]
    },
    {
      "cell_type": "code",
      "source": [
        "librerias_df"
      ],
      "metadata": {
        "colab": {
          "base_uri": "https://localhost:8080/",
          "height": 641
        },
        "id": "MbgoK17qRb7M",
        "outputId": "416640d8-bc40-4d4f-baeb-2ac066595738"
      },
      "execution_count": 52,
      "outputs": [
        {
          "output_type": "execute_result",
          "data": {
            "text/plain": [
              "      N°                  Nombre      Departamento  \\\n",
              "0    NaN                     NaN               NaN   \n",
              "1    1.0       Librería Arandurã           Capital   \n",
              "2    2.0         Librería Bijupa           Capital   \n",
              "3    3.0          Librería Books           Capital   \n",
              "4    4.0        Librería Mimbipa           Capital   \n",
              "..   ...                     ...               ...   \n",
              "79  80.0   Librería 4 Caballeros           Amambay   \n",
              "80  81.0  Librería LG variedades         Canindeyú   \n",
              "81  82.0         Librería Magalí  Presidente Hayes   \n",
              "82  83.0     Librería Filadelfia          Boquerón   \n",
              "83  84.0   Librería El Mensajero          Boquerón   \n",
              "\n",
              "                               Distrito  \\\n",
              "0                                   NaN   \n",
              "1                              Asunción   \n",
              "2                              Asunción   \n",
              "3                              Asunción   \n",
              "4                              Asunción   \n",
              "..                                  ...   \n",
              "79                 Pedro Juan Caballero   \n",
              "80  General Francisco Caballero Álvarez   \n",
              "81                          Villa Hayes   \n",
              "82                           Filadelfia   \n",
              "83                           Filadelfia   \n",
              "\n",
              "                                            Dirección Zona Geográfica  \\\n",
              "0                                                 NaN             NaN   \n",
              "1                               Teniente Fariña 1074      Zona urbana   \n",
              "2                      Independencia Nacional N° 139      Zona urbana   \n",
              "3                 Mariscal López 3791 c/ Doctor Morra     Zona urbana   \n",
              "4   Avenida Ruíz Díaz de Melgarejo 491 entre Campo...     Zona urbana   \n",
              "..                                                ...             ...   \n",
              "79                     Mariscal López casi 14 de Mayo     Zona urbana   \n",
              "80           Avenida Las Residentas c/ Wilfrido Hoppe     Zona urbana   \n",
              "81             Benjamín Aceval y Avenida Mcal. López      Zona urbana   \n",
              "82                        Avenida Hindenburg y Trébol     Zona urbana   \n",
              "83                       Avenida Hindenburg c/ Trébol     Zona urbana   \n",
              "\n",
              "                                Fuente la información  Número de registro  \n",
              "0                                                 NaN                 NaN  \n",
              "1   Directorio de Asociados Cámara Paraguaya del L...                 1.0  \n",
              "2   Directorio de Asociados Cámara Paraguaya del L...                 2.0  \n",
              "3   Directorio de Asociados Cámara Paraguaya del L...                 3.0  \n",
              "4   Directorio de Asociados Cámara Paraguaya del L...                 4.0  \n",
              "..                                                ...                 ...  \n",
              "79              Municipalidad de Pedro Juan Caballero                 NaN  \n",
              "80  Municipalidad de General Francisco Caballero Á...                 NaN  \n",
              "81                       Municipalidad de Villa Hayes                 NaN  \n",
              "82                        Municipalidad de Filadelfia                 NaN  \n",
              "83                        Municipalidad de Filadelfia                 NaN  \n",
              "\n",
              "[84 rows x 8 columns]"
            ],
            "text/html": [
              "\n",
              "  <div id=\"df-2e3ff72d-b886-4905-9532-1ef4c24e4a72\">\n",
              "    <div class=\"colab-df-container\">\n",
              "      <div>\n",
              "<style scoped>\n",
              "    .dataframe tbody tr th:only-of-type {\n",
              "        vertical-align: middle;\n",
              "    }\n",
              "\n",
              "    .dataframe tbody tr th {\n",
              "        vertical-align: top;\n",
              "    }\n",
              "\n",
              "    .dataframe thead th {\n",
              "        text-align: right;\n",
              "    }\n",
              "</style>\n",
              "<table border=\"1\" class=\"dataframe\">\n",
              "  <thead>\n",
              "    <tr style=\"text-align: right;\">\n",
              "      <th></th>\n",
              "      <th>N°</th>\n",
              "      <th>Nombre</th>\n",
              "      <th>Departamento</th>\n",
              "      <th>Distrito</th>\n",
              "      <th>Dirección</th>\n",
              "      <th>Zona Geográfica</th>\n",
              "      <th>Fuente la información</th>\n",
              "      <th>Número de registro</th>\n",
              "    </tr>\n",
              "  </thead>\n",
              "  <tbody>\n",
              "    <tr>\n",
              "      <th>0</th>\n",
              "      <td>NaN</td>\n",
              "      <td>NaN</td>\n",
              "      <td>NaN</td>\n",
              "      <td>NaN</td>\n",
              "      <td>NaN</td>\n",
              "      <td>NaN</td>\n",
              "      <td>NaN</td>\n",
              "      <td>NaN</td>\n",
              "    </tr>\n",
              "    <tr>\n",
              "      <th>1</th>\n",
              "      <td>1.0</td>\n",
              "      <td>Librería Arandurã</td>\n",
              "      <td>Capital</td>\n",
              "      <td>Asunción</td>\n",
              "      <td>Teniente Fariña 1074</td>\n",
              "      <td>Zona urbana</td>\n",
              "      <td>Directorio de Asociados Cámara Paraguaya del L...</td>\n",
              "      <td>1.0</td>\n",
              "    </tr>\n",
              "    <tr>\n",
              "      <th>2</th>\n",
              "      <td>2.0</td>\n",
              "      <td>Librería Bijupa</td>\n",
              "      <td>Capital</td>\n",
              "      <td>Asunción</td>\n",
              "      <td>Independencia Nacional N° 139</td>\n",
              "      <td>Zona urbana</td>\n",
              "      <td>Directorio de Asociados Cámara Paraguaya del L...</td>\n",
              "      <td>2.0</td>\n",
              "    </tr>\n",
              "    <tr>\n",
              "      <th>3</th>\n",
              "      <td>3.0</td>\n",
              "      <td>Librería Books</td>\n",
              "      <td>Capital</td>\n",
              "      <td>Asunción</td>\n",
              "      <td>Mariscal López 3791 c/ Doctor Morra</td>\n",
              "      <td>Zona urbana</td>\n",
              "      <td>Directorio de Asociados Cámara Paraguaya del L...</td>\n",
              "      <td>3.0</td>\n",
              "    </tr>\n",
              "    <tr>\n",
              "      <th>4</th>\n",
              "      <td>4.0</td>\n",
              "      <td>Librería Mimbipa</td>\n",
              "      <td>Capital</td>\n",
              "      <td>Asunción</td>\n",
              "      <td>Avenida Ruíz Díaz de Melgarejo 491 entre Campo...</td>\n",
              "      <td>Zona urbana</td>\n",
              "      <td>Directorio de Asociados Cámara Paraguaya del L...</td>\n",
              "      <td>4.0</td>\n",
              "    </tr>\n",
              "    <tr>\n",
              "      <th>...</th>\n",
              "      <td>...</td>\n",
              "      <td>...</td>\n",
              "      <td>...</td>\n",
              "      <td>...</td>\n",
              "      <td>...</td>\n",
              "      <td>...</td>\n",
              "      <td>...</td>\n",
              "      <td>...</td>\n",
              "    </tr>\n",
              "    <tr>\n",
              "      <th>79</th>\n",
              "      <td>80.0</td>\n",
              "      <td>Librería 4 Caballeros</td>\n",
              "      <td>Amambay</td>\n",
              "      <td>Pedro Juan Caballero</td>\n",
              "      <td>Mariscal López casi 14 de Mayo</td>\n",
              "      <td>Zona urbana</td>\n",
              "      <td>Municipalidad de Pedro Juan Caballero</td>\n",
              "      <td>NaN</td>\n",
              "    </tr>\n",
              "    <tr>\n",
              "      <th>80</th>\n",
              "      <td>81.0</td>\n",
              "      <td>Librería LG variedades</td>\n",
              "      <td>Canindeyú</td>\n",
              "      <td>General Francisco Caballero Álvarez</td>\n",
              "      <td>Avenida Las Residentas c/ Wilfrido Hoppe</td>\n",
              "      <td>Zona urbana</td>\n",
              "      <td>Municipalidad de General Francisco Caballero Á...</td>\n",
              "      <td>NaN</td>\n",
              "    </tr>\n",
              "    <tr>\n",
              "      <th>81</th>\n",
              "      <td>82.0</td>\n",
              "      <td>Librería Magalí</td>\n",
              "      <td>Presidente Hayes</td>\n",
              "      <td>Villa Hayes</td>\n",
              "      <td>Benjamín Aceval y Avenida Mcal. López</td>\n",
              "      <td>Zona urbana</td>\n",
              "      <td>Municipalidad de Villa Hayes</td>\n",
              "      <td>NaN</td>\n",
              "    </tr>\n",
              "    <tr>\n",
              "      <th>82</th>\n",
              "      <td>83.0</td>\n",
              "      <td>Librería Filadelfia</td>\n",
              "      <td>Boquerón</td>\n",
              "      <td>Filadelfia</td>\n",
              "      <td>Avenida Hindenburg y Trébol</td>\n",
              "      <td>Zona urbana</td>\n",
              "      <td>Municipalidad de Filadelfia</td>\n",
              "      <td>NaN</td>\n",
              "    </tr>\n",
              "    <tr>\n",
              "      <th>83</th>\n",
              "      <td>84.0</td>\n",
              "      <td>Librería El Mensajero</td>\n",
              "      <td>Boquerón</td>\n",
              "      <td>Filadelfia</td>\n",
              "      <td>Avenida Hindenburg c/ Trébol</td>\n",
              "      <td>Zona urbana</td>\n",
              "      <td>Municipalidad de Filadelfia</td>\n",
              "      <td>NaN</td>\n",
              "    </tr>\n",
              "  </tbody>\n",
              "</table>\n",
              "<p>84 rows × 8 columns</p>\n",
              "</div>\n",
              "      <button class=\"colab-df-convert\" onclick=\"convertToInteractive('df-2e3ff72d-b886-4905-9532-1ef4c24e4a72')\"\n",
              "              title=\"Convert this dataframe to an interactive table.\"\n",
              "              style=\"display:none;\">\n",
              "        \n",
              "  <svg xmlns=\"http://www.w3.org/2000/svg\" height=\"24px\"viewBox=\"0 0 24 24\"\n",
              "       width=\"24px\">\n",
              "    <path d=\"M0 0h24v24H0V0z\" fill=\"none\"/>\n",
              "    <path d=\"M18.56 5.44l.94 2.06.94-2.06 2.06-.94-2.06-.94-.94-2.06-.94 2.06-2.06.94zm-11 1L8.5 8.5l.94-2.06 2.06-.94-2.06-.94L8.5 2.5l-.94 2.06-2.06.94zm10 10l.94 2.06.94-2.06 2.06-.94-2.06-.94-.94-2.06-.94 2.06-2.06.94z\"/><path d=\"M17.41 7.96l-1.37-1.37c-.4-.4-.92-.59-1.43-.59-.52 0-1.04.2-1.43.59L10.3 9.45l-7.72 7.72c-.78.78-.78 2.05 0 2.83L4 21.41c.39.39.9.59 1.41.59.51 0 1.02-.2 1.41-.59l7.78-7.78 2.81-2.81c.8-.78.8-2.07 0-2.86zM5.41 20L4 18.59l7.72-7.72 1.47 1.35L5.41 20z\"/>\n",
              "  </svg>\n",
              "      </button>\n",
              "      \n",
              "  <style>\n",
              "    .colab-df-container {\n",
              "      display:flex;\n",
              "      flex-wrap:wrap;\n",
              "      gap: 12px;\n",
              "    }\n",
              "\n",
              "    .colab-df-convert {\n",
              "      background-color: #E8F0FE;\n",
              "      border: none;\n",
              "      border-radius: 50%;\n",
              "      cursor: pointer;\n",
              "      display: none;\n",
              "      fill: #1967D2;\n",
              "      height: 32px;\n",
              "      padding: 0 0 0 0;\n",
              "      width: 32px;\n",
              "    }\n",
              "\n",
              "    .colab-df-convert:hover {\n",
              "      background-color: #E2EBFA;\n",
              "      box-shadow: 0px 1px 2px rgba(60, 64, 67, 0.3), 0px 1px 3px 1px rgba(60, 64, 67, 0.15);\n",
              "      fill: #174EA6;\n",
              "    }\n",
              "\n",
              "    [theme=dark] .colab-df-convert {\n",
              "      background-color: #3B4455;\n",
              "      fill: #D2E3FC;\n",
              "    }\n",
              "\n",
              "    [theme=dark] .colab-df-convert:hover {\n",
              "      background-color: #434B5C;\n",
              "      box-shadow: 0px 1px 3px 1px rgba(0, 0, 0, 0.15);\n",
              "      filter: drop-shadow(0px 1px 2px rgba(0, 0, 0, 0.3));\n",
              "      fill: #FFFFFF;\n",
              "    }\n",
              "  </style>\n",
              "\n",
              "      <script>\n",
              "        const buttonEl =\n",
              "          document.querySelector('#df-2e3ff72d-b886-4905-9532-1ef4c24e4a72 button.colab-df-convert');\n",
              "        buttonEl.style.display =\n",
              "          google.colab.kernel.accessAllowed ? 'block' : 'none';\n",
              "\n",
              "        async function convertToInteractive(key) {\n",
              "          const element = document.querySelector('#df-2e3ff72d-b886-4905-9532-1ef4c24e4a72');\n",
              "          const dataTable =\n",
              "            await google.colab.kernel.invokeFunction('convertToInteractive',\n",
              "                                                     [key], {});\n",
              "          if (!dataTable) return;\n",
              "\n",
              "          const docLinkHtml = 'Like what you see? Visit the ' +\n",
              "            '<a target=\"_blank\" href=https://colab.research.google.com/notebooks/data_table.ipynb>data table notebook</a>'\n",
              "            + ' to learn more about interactive tables.';\n",
              "          element.innerHTML = '';\n",
              "          dataTable['output_type'] = 'display_data';\n",
              "          await google.colab.output.renderOutput(dataTable, element);\n",
              "          const docLink = document.createElement('div');\n",
              "          docLink.innerHTML = docLinkHtml;\n",
              "          element.appendChild(docLink);\n",
              "        }\n",
              "      </script>\n",
              "    </div>\n",
              "  </div>\n",
              "  "
            ]
          },
          "metadata": {},
          "execution_count": 52
        }
      ]
    },
    {
      "cell_type": "markdown",
      "source": [
        "## *Dataframe de colegios y escuelas*\n"
      ],
      "metadata": {
        "id": "tbVQsCYx_phk"
      }
    },
    {
      "cell_type": "code",
      "source": [
        "import pandas as pd\n",
        "\n",
        "# Leer el archivo Excel\n",
        "excel_file = pd.ExcelFile('infraestructura.xlsx')\n",
        "\n",
        "# Obtener el nombre de todas las hojas en el archivo\n",
        "sheet_names = excel_file.sheet_names\n",
        "\n",
        "# Crear un diccionario para almacenar los DataFrames de cada hoja\n",
        "dataframes = {}\n",
        "\n",
        "# Iterar sobre cada hoja y crear un DataFrame correspondiente\n",
        "for sheet_name in sheet_names:\n",
        "    # Leer los datos de la hoja y almacenarlos en un DataFrame\n",
        "    df = excel_file.parse(sheet_name)\n",
        "    # Almacenar el DataFrame en el diccionario usando el nombre de la hoja como clave\n",
        "    dataframes[sheet_name] = df\n",
        "\n",
        "# Obtener el DataFrame de la hoja \"Colegios y Escuelas\"\n",
        "colegiosyescuelas_df = dataframes['Colegios y Escuelas']\n",
        "\n",
        "# Visualizar el DataFrame de la hoja \"Colegios y Escuelas\"\n",
        "print(colegiosyescuelas_df)"
      ],
      "metadata": {
        "colab": {
          "base_uri": "https://localhost:8080/"
        },
        "id": "Ys3p07ooSrSH",
        "outputId": "94027947-cfa3-437e-cd6d-d922c9e6621c"
      },
      "execution_count": 53,
      "outputs": [
        {
          "output_type": "stream",
          "name": "stdout",
          "text": [
            "                                               Nombre Departamento Distrito  \\\n",
            "0      NaN                                        NaN          NaN      NaN   \n",
            "1      1.0               Colegio Nacional de Capiatá       Central  Capiatá   \n",
            "2      2.0                      Colegio San Francisco      Central  Capiatá   \n",
            "3      3.0                  Colegio Privado San José       Central  Capiatá   \n",
            "4      4.0  Colegio  Cooperativa Multiactiva Capiatá       Central  Capiatá   \n",
            "..     ...                                        ...          ...      ...   \n",
            "443  477.0                                        NaN          NaN      NaN   \n",
            "444  478.0                                        NaN          NaN      NaN   \n",
            "445  479.0                                        NaN          NaN      NaN   \n",
            "446  480.0                                        NaN          NaN      NaN   \n",
            "447  481.0                                        NaN          NaN      NaN   \n",
            "\n",
            "                                             Dirección Zona Geográfica  \\\n",
            "0                                                  NaN             NaN   \n",
            "1    Avenida General Bernardino Caballero entre Mar...     Zona urbana   \n",
            "2                                                  NaN     Zona urbana   \n",
            "3                                  La Candelaria N° 10     Zona urbana   \n",
            "4           Cooperativistas Capiateños y Santo Domingo     Zona urbana   \n",
            "..                                                 ...             ...   \n",
            "443                                                NaN             NaN   \n",
            "444                                                NaN             NaN   \n",
            "445                                                NaN             NaN   \n",
            "446                                                NaN             NaN   \n",
            "447                                                NaN             NaN   \n",
            "\n",
            "                              Fuente de la Información  N° de registro  \n",
            "0                                                  NaN             NaN  \n",
            "1    Dirección de Cultura de la Municipalidad de Ca...             NaN  \n",
            "2    Dirección de Cultura de la Municipalidad de Ca...             NaN  \n",
            "3    Dirección de Cultura de la Municipalidad de Ca...             NaN  \n",
            "4    Dirección de Cultura de la Municipalidad de Ca...             NaN  \n",
            "..                                                 ...             ...  \n",
            "443                                                NaN             NaN  \n",
            "444                                                NaN             NaN  \n",
            "445                                                NaN             NaN  \n",
            "446                                                NaN             NaN  \n",
            "447                                                NaN             NaN  \n",
            "\n",
            "[448 rows x 8 columns]\n"
          ]
        }
      ]
    },
    {
      "cell_type": "markdown",
      "source": [
        "###Exploración de los datos\n"
      ],
      "metadata": {
        "id": "YQftpcUOTEJo"
      }
    },
    {
      "cell_type": "markdown",
      "source": [
        "Tipos de datos"
      ],
      "metadata": {
        "id": "7D4fQNa9TMSk"
      }
    },
    {
      "cell_type": "code",
      "source": [
        "#Datatypes\n",
        "colegiosyescuelas_df.dtypes"
      ],
      "metadata": {
        "colab": {
          "base_uri": "https://localhost:8080/"
        },
        "id": "QaYL5SSUTN9w",
        "outputId": "2da2a4b4-33a3-4dfe-aa68-2ebfbf1d3ff5"
      },
      "execution_count": 54,
      "outputs": [
        {
          "output_type": "execute_result",
          "data": {
            "text/plain": [
              "                            float64\n",
              "Nombre                       object\n",
              "Departamento                 object\n",
              "Distrito                     object\n",
              "Dirección                    object\n",
              "Zona Geográfica              object\n",
              "Fuente de la Información     object\n",
              "N° de registro              float64\n",
              "dtype: object"
            ]
          },
          "metadata": {},
          "execution_count": 54
        }
      ]
    },
    {
      "cell_type": "markdown",
      "source": [
        "Valores nulos"
      ],
      "metadata": {
        "id": "GQvZOwlNTUk1"
      }
    },
    {
      "cell_type": "code",
      "source": [
        "#valores nulos de colegios y escuelas\n",
        "#Find null values\n",
        "colegiosyescuelas_df.isnull().sum()"
      ],
      "metadata": {
        "colab": {
          "base_uri": "https://localhost:8080/"
        },
        "id": "RoDl9oWLABCZ",
        "outputId": "e6bffcd0-2680-42ff-ad95-904a4032d0be"
      },
      "execution_count": 55,
      "outputs": [
        {
          "output_type": "execute_result",
          "data": {
            "text/plain": [
              "                              2\n",
              "Nombre                        6\n",
              "Departamento                  6\n",
              "Distrito                      6\n",
              "Dirección                     9\n",
              "Zona Geográfica              11\n",
              "Fuente de la Información      6\n",
              "N° de registro              448\n",
              "dtype: int64"
            ]
          },
          "metadata": {},
          "execution_count": 55
        }
      ]
    },
    {
      "cell_type": "markdown",
      "source": [
        "en el dataset en la hoja de colegios no tiene datos la columna de numero de registro por eso la cantidad de valores nulos"
      ],
      "metadata": {
        "id": "y296X2lVArzv"
      }
    },
    {
      "cell_type": "markdown",
      "source": [
        "Eliminar las ultimas filas con Nan"
      ],
      "metadata": {
        "id": "5XWcqlSiTine"
      }
    },
    {
      "cell_type": "code",
      "source": [
        "colegiosyescuelas_df = colegiosyescuelas_df.iloc[:443].append(colegiosyescuelas_df.iloc[443:].dropna())\n"
      ],
      "metadata": {
        "colab": {
          "base_uri": "https://localhost:8080/"
        },
        "id": "z552leplTsrX",
        "outputId": "31ddc9e9-dd1a-4d97-a6df-be99f0031904"
      },
      "execution_count": 56,
      "outputs": [
        {
          "output_type": "stream",
          "name": "stderr",
          "text": [
            "<ipython-input-56-98243bb2ada0>:1: FutureWarning: The frame.append method is deprecated and will be removed from pandas in a future version. Use pandas.concat instead.\n",
            "  colegiosyescuelas_df = colegiosyescuelas_df.iloc[:443].append(colegiosyescuelas_df.iloc[443:].dropna())\n"
          ]
        }
      ]
    },
    {
      "cell_type": "markdown",
      "source": [
        "Cantidad de colegios y escuelas"
      ],
      "metadata": {
        "id": "hAnwha5rv-LT"
      }
    },
    {
      "cell_type": "code",
      "source": [
        "cantidad_colegiosyescuelas = len(colegiosyescuelas_df['Nombre'])\n",
        "print(\"Cantidad de colegios y escuelas:\", cantidad_colegiosyescuelas)\n"
      ],
      "metadata": {
        "colab": {
          "base_uri": "https://localhost:8080/"
        },
        "id": "z6O1StjzwBuT",
        "outputId": "b0a46238-ee63-41dd-a74f-f6c97d05efea"
      },
      "execution_count": 57,
      "outputs": [
        {
          "output_type": "stream",
          "name": "stdout",
          "text": [
            "Cantidad de colegios y escuelas: 443\n"
          ]
        }
      ]
    },
    {
      "cell_type": "code",
      "source": [
        "colegiosyescuelas_df"
      ],
      "metadata": {
        "colab": {
          "base_uri": "https://localhost:8080/",
          "height": 624
        },
        "id": "B4MlyS__Vm_U",
        "outputId": "f7cf431f-5908-4e05-e403-7c861ebd0705"
      },
      "execution_count": 58,
      "outputs": [
        {
          "output_type": "execute_result",
          "data": {
            "text/plain": [
              "                                               Nombre Departamento  \\\n",
              "0      NaN                                        NaN          NaN   \n",
              "1      1.0               Colegio Nacional de Capiatá       Central   \n",
              "2      2.0                      Colegio San Francisco      Central   \n",
              "3      3.0                  Colegio Privado San José       Central   \n",
              "4      4.0  Colegio  Cooperativa Multiactiva Capiatá       Central   \n",
              "..     ...                                        ...          ...   \n",
              "438  472.0                         Colegio Filadelfia    Boquerón    \n",
              "439  473.0         Colegio Nacional Héroes del Chaco     Boquerón    \n",
              "440  474.0      Colegio Nacional Los Primeros Colonos    Boquerón    \n",
              "441  475.0     Colegio Nacional Mariscal Estigarribia    Boquerón    \n",
              "442  476.0                  Colegio Nacional Indígena    Boquerón    \n",
              "\n",
              "                             Distrito  \\\n",
              "0                                 NaN   \n",
              "1                             Capiatá   \n",
              "2                             Capiatá   \n",
              "3                             Capiatá   \n",
              "4                             Capiatá   \n",
              "..                                ...   \n",
              "438                        Filadelfia   \n",
              "439                        Loma Plata   \n",
              "440                        Loma Plata   \n",
              "441  Mariscal José Félix Estigarribia   \n",
              "442  Mariscal José Félix Estigarribia   \n",
              "\n",
              "                                             Dirección Zona Geográfica  \\\n",
              "0                                                  NaN             NaN   \n",
              "1    Avenida General Bernardino Caballero entre Mar...     Zona urbana   \n",
              "2                                                  NaN     Zona urbana   \n",
              "3                                  La Candelaria N° 10     Zona urbana   \n",
              "4           Cooperativistas Capiateños y Santo Domingo     Zona urbana   \n",
              "..                                                 ...             ...   \n",
              "438                                Unruh c/ Hindenburg     Zona urbana   \n",
              "439                     Avenida central y calle última     Zoma urbana   \n",
              "440                                23 Km de Loma Plata      Zona rural   \n",
              "441  Teniente Rojas Silva c/ Carlos Antonio López N...     Zona urbana   \n",
              "442  Kilómetro 42, camino a la Pastora - Santa Tere...      Zona rural   \n",
              "\n",
              "                              Fuente de la Información  N° de registro  \n",
              "0                                                  NaN             NaN  \n",
              "1    Dirección de Cultura de la Municipalidad de Ca...             NaN  \n",
              "2    Dirección de Cultura de la Municipalidad de Ca...             NaN  \n",
              "3    Dirección de Cultura de la Municipalidad de Ca...             NaN  \n",
              "4    Dirección de Cultura de la Municipalidad de Ca...             NaN  \n",
              "..                                                 ...             ...  \n",
              "438                        Municipalidad de Filadelfia             NaN  \n",
              "439                        Municipalidad de Loma Plata             NaN  \n",
              "440                        Municipalidad de Loma Plata             NaN  \n",
              "441  Municipalidad de Mariscal José Félix Estigarribia             NaN  \n",
              "442  Municipalidad de Mariscal José Félix Estigarribia             NaN  \n",
              "\n",
              "[443 rows x 8 columns]"
            ],
            "text/html": [
              "\n",
              "  <div id=\"df-27c33db6-e25c-4463-90ee-e1d40584897d\">\n",
              "    <div class=\"colab-df-container\">\n",
              "      <div>\n",
              "<style scoped>\n",
              "    .dataframe tbody tr th:only-of-type {\n",
              "        vertical-align: middle;\n",
              "    }\n",
              "\n",
              "    .dataframe tbody tr th {\n",
              "        vertical-align: top;\n",
              "    }\n",
              "\n",
              "    .dataframe thead th {\n",
              "        text-align: right;\n",
              "    }\n",
              "</style>\n",
              "<table border=\"1\" class=\"dataframe\">\n",
              "  <thead>\n",
              "    <tr style=\"text-align: right;\">\n",
              "      <th></th>\n",
              "      <th></th>\n",
              "      <th>Nombre</th>\n",
              "      <th>Departamento</th>\n",
              "      <th>Distrito</th>\n",
              "      <th>Dirección</th>\n",
              "      <th>Zona Geográfica</th>\n",
              "      <th>Fuente de la Información</th>\n",
              "      <th>N° de registro</th>\n",
              "    </tr>\n",
              "  </thead>\n",
              "  <tbody>\n",
              "    <tr>\n",
              "      <th>0</th>\n",
              "      <td>NaN</td>\n",
              "      <td>NaN</td>\n",
              "      <td>NaN</td>\n",
              "      <td>NaN</td>\n",
              "      <td>NaN</td>\n",
              "      <td>NaN</td>\n",
              "      <td>NaN</td>\n",
              "      <td>NaN</td>\n",
              "    </tr>\n",
              "    <tr>\n",
              "      <th>1</th>\n",
              "      <td>1.0</td>\n",
              "      <td>Colegio Nacional de Capiatá</td>\n",
              "      <td>Central</td>\n",
              "      <td>Capiatá</td>\n",
              "      <td>Avenida General Bernardino Caballero entre Mar...</td>\n",
              "      <td>Zona urbana</td>\n",
              "      <td>Dirección de Cultura de la Municipalidad de Ca...</td>\n",
              "      <td>NaN</td>\n",
              "    </tr>\n",
              "    <tr>\n",
              "      <th>2</th>\n",
              "      <td>2.0</td>\n",
              "      <td>Colegio San Francisco</td>\n",
              "      <td>Central</td>\n",
              "      <td>Capiatá</td>\n",
              "      <td>NaN</td>\n",
              "      <td>Zona urbana</td>\n",
              "      <td>Dirección de Cultura de la Municipalidad de Ca...</td>\n",
              "      <td>NaN</td>\n",
              "    </tr>\n",
              "    <tr>\n",
              "      <th>3</th>\n",
              "      <td>3.0</td>\n",
              "      <td>Colegio Privado San José</td>\n",
              "      <td>Central</td>\n",
              "      <td>Capiatá</td>\n",
              "      <td>La Candelaria N° 10</td>\n",
              "      <td>Zona urbana</td>\n",
              "      <td>Dirección de Cultura de la Municipalidad de Ca...</td>\n",
              "      <td>NaN</td>\n",
              "    </tr>\n",
              "    <tr>\n",
              "      <th>4</th>\n",
              "      <td>4.0</td>\n",
              "      <td>Colegio  Cooperativa Multiactiva Capiatá</td>\n",
              "      <td>Central</td>\n",
              "      <td>Capiatá</td>\n",
              "      <td>Cooperativistas Capiateños y Santo Domingo</td>\n",
              "      <td>Zona urbana</td>\n",
              "      <td>Dirección de Cultura de la Municipalidad de Ca...</td>\n",
              "      <td>NaN</td>\n",
              "    </tr>\n",
              "    <tr>\n",
              "      <th>...</th>\n",
              "      <td>...</td>\n",
              "      <td>...</td>\n",
              "      <td>...</td>\n",
              "      <td>...</td>\n",
              "      <td>...</td>\n",
              "      <td>...</td>\n",
              "      <td>...</td>\n",
              "      <td>...</td>\n",
              "    </tr>\n",
              "    <tr>\n",
              "      <th>438</th>\n",
              "      <td>472.0</td>\n",
              "      <td>Colegio Filadelfia</td>\n",
              "      <td>Boquerón</td>\n",
              "      <td>Filadelfia</td>\n",
              "      <td>Unruh c/ Hindenburg</td>\n",
              "      <td>Zona urbana</td>\n",
              "      <td>Municipalidad de Filadelfia</td>\n",
              "      <td>NaN</td>\n",
              "    </tr>\n",
              "    <tr>\n",
              "      <th>439</th>\n",
              "      <td>473.0</td>\n",
              "      <td>Colegio Nacional Héroes del Chaco</td>\n",
              "      <td>Boquerón</td>\n",
              "      <td>Loma Plata</td>\n",
              "      <td>Avenida central y calle última</td>\n",
              "      <td>Zoma urbana</td>\n",
              "      <td>Municipalidad de Loma Plata</td>\n",
              "      <td>NaN</td>\n",
              "    </tr>\n",
              "    <tr>\n",
              "      <th>440</th>\n",
              "      <td>474.0</td>\n",
              "      <td>Colegio Nacional Los Primeros Colonos</td>\n",
              "      <td>Boquerón</td>\n",
              "      <td>Loma Plata</td>\n",
              "      <td>23 Km de Loma Plata</td>\n",
              "      <td>Zona rural</td>\n",
              "      <td>Municipalidad de Loma Plata</td>\n",
              "      <td>NaN</td>\n",
              "    </tr>\n",
              "    <tr>\n",
              "      <th>441</th>\n",
              "      <td>475.0</td>\n",
              "      <td>Colegio Nacional Mariscal Estigarribia</td>\n",
              "      <td>Boquerón</td>\n",
              "      <td>Mariscal José Félix Estigarribia</td>\n",
              "      <td>Teniente Rojas Silva c/ Carlos Antonio López N...</td>\n",
              "      <td>Zona urbana</td>\n",
              "      <td>Municipalidad de Mariscal José Félix Estigarribia</td>\n",
              "      <td>NaN</td>\n",
              "    </tr>\n",
              "    <tr>\n",
              "      <th>442</th>\n",
              "      <td>476.0</td>\n",
              "      <td>Colegio Nacional Indígena</td>\n",
              "      <td>Boquerón</td>\n",
              "      <td>Mariscal José Félix Estigarribia</td>\n",
              "      <td>Kilómetro 42, camino a la Pastora - Santa Tere...</td>\n",
              "      <td>Zona rural</td>\n",
              "      <td>Municipalidad de Mariscal José Félix Estigarribia</td>\n",
              "      <td>NaN</td>\n",
              "    </tr>\n",
              "  </tbody>\n",
              "</table>\n",
              "<p>443 rows × 8 columns</p>\n",
              "</div>\n",
              "      <button class=\"colab-df-convert\" onclick=\"convertToInteractive('df-27c33db6-e25c-4463-90ee-e1d40584897d')\"\n",
              "              title=\"Convert this dataframe to an interactive table.\"\n",
              "              style=\"display:none;\">\n",
              "        \n",
              "  <svg xmlns=\"http://www.w3.org/2000/svg\" height=\"24px\"viewBox=\"0 0 24 24\"\n",
              "       width=\"24px\">\n",
              "    <path d=\"M0 0h24v24H0V0z\" fill=\"none\"/>\n",
              "    <path d=\"M18.56 5.44l.94 2.06.94-2.06 2.06-.94-2.06-.94-.94-2.06-.94 2.06-2.06.94zm-11 1L8.5 8.5l.94-2.06 2.06-.94-2.06-.94L8.5 2.5l-.94 2.06-2.06.94zm10 10l.94 2.06.94-2.06 2.06-.94-2.06-.94-.94-2.06-.94 2.06-2.06.94z\"/><path d=\"M17.41 7.96l-1.37-1.37c-.4-.4-.92-.59-1.43-.59-.52 0-1.04.2-1.43.59L10.3 9.45l-7.72 7.72c-.78.78-.78 2.05 0 2.83L4 21.41c.39.39.9.59 1.41.59.51 0 1.02-.2 1.41-.59l7.78-7.78 2.81-2.81c.8-.78.8-2.07 0-2.86zM5.41 20L4 18.59l7.72-7.72 1.47 1.35L5.41 20z\"/>\n",
              "  </svg>\n",
              "      </button>\n",
              "      \n",
              "  <style>\n",
              "    .colab-df-container {\n",
              "      display:flex;\n",
              "      flex-wrap:wrap;\n",
              "      gap: 12px;\n",
              "    }\n",
              "\n",
              "    .colab-df-convert {\n",
              "      background-color: #E8F0FE;\n",
              "      border: none;\n",
              "      border-radius: 50%;\n",
              "      cursor: pointer;\n",
              "      display: none;\n",
              "      fill: #1967D2;\n",
              "      height: 32px;\n",
              "      padding: 0 0 0 0;\n",
              "      width: 32px;\n",
              "    }\n",
              "\n",
              "    .colab-df-convert:hover {\n",
              "      background-color: #E2EBFA;\n",
              "      box-shadow: 0px 1px 2px rgba(60, 64, 67, 0.3), 0px 1px 3px 1px rgba(60, 64, 67, 0.15);\n",
              "      fill: #174EA6;\n",
              "    }\n",
              "\n",
              "    [theme=dark] .colab-df-convert {\n",
              "      background-color: #3B4455;\n",
              "      fill: #D2E3FC;\n",
              "    }\n",
              "\n",
              "    [theme=dark] .colab-df-convert:hover {\n",
              "      background-color: #434B5C;\n",
              "      box-shadow: 0px 1px 3px 1px rgba(0, 0, 0, 0.15);\n",
              "      filter: drop-shadow(0px 1px 2px rgba(0, 0, 0, 0.3));\n",
              "      fill: #FFFFFF;\n",
              "    }\n",
              "  </style>\n",
              "\n",
              "      <script>\n",
              "        const buttonEl =\n",
              "          document.querySelector('#df-27c33db6-e25c-4463-90ee-e1d40584897d button.colab-df-convert');\n",
              "        buttonEl.style.display =\n",
              "          google.colab.kernel.accessAllowed ? 'block' : 'none';\n",
              "\n",
              "        async function convertToInteractive(key) {\n",
              "          const element = document.querySelector('#df-27c33db6-e25c-4463-90ee-e1d40584897d');\n",
              "          const dataTable =\n",
              "            await google.colab.kernel.invokeFunction('convertToInteractive',\n",
              "                                                     [key], {});\n",
              "          if (!dataTable) return;\n",
              "\n",
              "          const docLinkHtml = 'Like what you see? Visit the ' +\n",
              "            '<a target=\"_blank\" href=https://colab.research.google.com/notebooks/data_table.ipynb>data table notebook</a>'\n",
              "            + ' to learn more about interactive tables.';\n",
              "          element.innerHTML = '';\n",
              "          dataTable['output_type'] = 'display_data';\n",
              "          await google.colab.output.renderOutput(dataTable, element);\n",
              "          const docLink = document.createElement('div');\n",
              "          docLink.innerHTML = docLinkHtml;\n",
              "          element.appendChild(docLink);\n",
              "        }\n",
              "      </script>\n",
              "    </div>\n",
              "  </div>\n",
              "  "
            ]
          },
          "metadata": {},
          "execution_count": 58
        }
      ]
    },
    {
      "cell_type": "markdown",
      "source": [
        "Como hemos visto en las infraestructuras muchas no tienen algo importante para reconocerlas como lo es el Número de registro la mayoria de las escuelasno los tienen\n",
        "\n",
        "\n"
      ],
      "metadata": {
        "id": "GmdJm_UBV4KE"
      }
    },
    {
      "cell_type": "markdown",
      "source": [
        "## *Dataframe de inst. educativas y universit*"
      ],
      "metadata": {
        "id": "bgT6bPzeBVxR"
      }
    },
    {
      "cell_type": "code",
      "source": [
        "import pandas as pd\n",
        "\n",
        "# Leer el archivo Excel\n",
        "excel_file = pd.ExcelFile('infraestructura.xlsx')\n",
        "\n",
        "# Obtener el nombre de todas las hojas en el archivo\n",
        "sheet_names = excel_file.sheet_names\n",
        "\n",
        "# Crear un diccionario para almacenar los DataFrames de cada hoja\n",
        "dataframes = {}\n",
        "\n",
        "# Iterar sobre cada hoja y crear un DataFrame correspondiente\n",
        "for sheet_name in sheet_names:\n",
        "    # Leer los datos de la hoja y almacenarlos en un DataFrame\n",
        "    df = excel_file.parse(sheet_name)\n",
        "    # Almacenar el DataFrame en el diccionario usando el nombre de la hoja como clave\n",
        "    dataframes[sheet_name] = df\n",
        "\n",
        "# Obtener el DataFrame de la hoja \"Inst. Educativas y Universit\"\n",
        "insteducativasyuniversit_df = dataframes['Inst. Educativas y Universit']\n",
        "\n",
        "# Visualizar el DataFrame de la hoja \"Inst. Educativas y Universit\"\n",
        "print(insteducativasyuniversit_df)"
      ],
      "metadata": {
        "colab": {
          "base_uri": "https://localhost:8080/"
        },
        "id": "qkXribg8Tdnc",
        "outputId": "5148d440-e672-4fcd-b707-6f85dd00b57b"
      },
      "execution_count": 59,
      "outputs": [
        {
          "output_type": "stream",
          "name": "stdout",
          "text": [
            "        N°                                             Nombre Departamento  \\\n",
            "0      NaN                                                NaN          NaN   \n",
            "1      1.0                                Universidad Serrana      Capital   \n",
            "2      2.0  Escuela de Administración de Negocios de Educa...      Capital   \n",
            "3      3.0  Instituto de Alta Tecnología del San Ignacio d...      Capital   \n",
            "4      4.0         Instituto Superior de Educación (I. S. E.)      Capital   \n",
            "..     ...                                                ...          ...   \n",
            "367  368.0                                                NaN          NaN   \n",
            "368  369.0                                                NaN          NaN   \n",
            "369  370.0                                                NaN          NaN   \n",
            "370  371.0                                                NaN          NaN   \n",
            "371  372.0                                                NaN          NaN   \n",
            "\n",
            "     Distrito                                  Dirección Zona Geográfica  \\\n",
            "0         NaN                                        NaN             NaN   \n",
            "1    Asunción     Ruta Transchaco Kilómetro 12 c/ Tarumá     Zona urbana   \n",
            "2    Asunción              Avenida España 443 c/ Brasil      Zona urbana   \n",
            "3    Asunción     Avenida Venezuela esquina San Salvador     Zona urbana   \n",
            "4    Asunción  Kilómetro 4 ½ de la Avenida Eusebio Ayala     Zona urbana   \n",
            "..        ...                                        ...             ...   \n",
            "367       NaN                                        NaN             NaN   \n",
            "368       NaN                                        NaN             NaN   \n",
            "369       NaN                                        NaN             NaN   \n",
            "370       NaN                                        NaN             NaN   \n",
            "371       NaN                                        NaN             NaN   \n",
            "\n",
            "    Fuente de la información  Número de registro  \n",
            "0                        NaN                 NaN  \n",
            "1          26. Universidades                 1.0  \n",
            "2          26. Universidades                 2.0  \n",
            "3          26. Universidades                 3.0  \n",
            "4          26. Universidades                 4.0  \n",
            "..                       ...                 ...  \n",
            "367                      NaN                 NaN  \n",
            "368                      NaN                 NaN  \n",
            "369                      NaN                 NaN  \n",
            "370                      NaN                 NaN  \n",
            "371                      NaN                 NaN  \n",
            "\n",
            "[372 rows x 8 columns]\n"
          ]
        }
      ]
    },
    {
      "cell_type": "markdown",
      "source": [
        "###Exploracion de los datos"
      ],
      "metadata": {
        "id": "B3pI37RRWI38"
      }
    },
    {
      "cell_type": "markdown",
      "source": [
        "Tipos de datos"
      ],
      "metadata": {
        "id": "H2dabz9HWTak"
      }
    },
    {
      "cell_type": "code",
      "source": [
        "#Datatypes\n",
        "insteducativasyuniversit_df.dtypes"
      ],
      "metadata": {
        "colab": {
          "base_uri": "https://localhost:8080/"
        },
        "id": "mnjD5KoXWVJc",
        "outputId": "601f6c4b-800a-4479-a111-d903d6d4249b"
      },
      "execution_count": 60,
      "outputs": [
        {
          "output_type": "execute_result",
          "data": {
            "text/plain": [
              "N°                          float64\n",
              "Nombre                       object\n",
              "Departamento                 object\n",
              "Distrito                     object\n",
              "Dirección                    object\n",
              "Zona Geográfica              object\n",
              "Fuente de la información     object\n",
              "Número de registro          float64\n",
              "dtype: object"
            ]
          },
          "metadata": {},
          "execution_count": 60
        }
      ]
    },
    {
      "cell_type": "code",
      "source": [
        "#valores nulos de int. educativas y universit\n",
        "#Find null values\n",
        "insteducativasyuniversit_df.isnull().sum()"
      ],
      "metadata": {
        "colab": {
          "base_uri": "https://localhost:8080/"
        },
        "id": "jZ5bwfzfBdnx",
        "outputId": "e93f9756-f2d1-4f87-a0ef-c4a4c7b85509"
      },
      "execution_count": 61,
      "outputs": [
        {
          "output_type": "execute_result",
          "data": {
            "text/plain": [
              "N°                            1\n",
              "Nombre                       57\n",
              "Departamento                 57\n",
              "Distrito                     57\n",
              "Dirección                   109\n",
              "Zona Geográfica             109\n",
              "Fuente de la información     57\n",
              "Número de registro          273\n",
              "dtype: int64"
            ]
          },
          "metadata": {},
          "execution_count": 61
        }
      ]
    },
    {
      "cell_type": "markdown",
      "source": [
        "gran cantidad de las universidades e instituciones educativas no tiene numero de registro de 372 registros existe un total de 273 nulos en la columna de numero de registro"
      ],
      "metadata": {
        "id": "jFZuR7npBn49"
      }
    },
    {
      "cell_type": "markdown",
      "source": [
        "Eliminar los Nan de las ultimas filas"
      ],
      "metadata": {
        "id": "a-l4vtelWhTQ"
      }
    },
    {
      "cell_type": "code",
      "source": [
        "insteducativasyuniversit_df = insteducativasyuniversit_df.iloc[:316].append(insteducativasyuniversit_df.iloc[316:].dropna())\n"
      ],
      "metadata": {
        "colab": {
          "base_uri": "https://localhost:8080/"
        },
        "id": "B6eHIgJ8Wo4w",
        "outputId": "f788a352-b184-400f-ee88-f25e2f90f9ba"
      },
      "execution_count": 62,
      "outputs": [
        {
          "output_type": "stream",
          "name": "stderr",
          "text": [
            "<ipython-input-62-f4d6f9c4f37a>:1: FutureWarning: The frame.append method is deprecated and will be removed from pandas in a future version. Use pandas.concat instead.\n",
            "  insteducativasyuniversit_df = insteducativasyuniversit_df.iloc[:316].append(insteducativasyuniversit_df.iloc[316:].dropna())\n"
          ]
        }
      ]
    },
    {
      "cell_type": "markdown",
      "source": [
        "Cantidad de inst educativas y universit"
      ],
      "metadata": {
        "id": "rqCusO4SwVIa"
      }
    },
    {
      "cell_type": "code",
      "source": [
        "cantidad_inst = len(insteducativasyuniversit_df['Nombre'])\n",
        "print(\"Cantidad de inst educativas y universit:\", cantidad_inst)\n"
      ],
      "metadata": {
        "colab": {
          "base_uri": "https://localhost:8080/"
        },
        "id": "JqMXsQ4ywZ72",
        "outputId": "a577e409-de5b-41d0-e385-d732a2e4d294"
      },
      "execution_count": 63,
      "outputs": [
        {
          "output_type": "stream",
          "name": "stdout",
          "text": [
            "Cantidad de inst educativas y universit: 316\n"
          ]
        }
      ]
    },
    {
      "cell_type": "code",
      "source": [
        "insteducativasyuniversit_df\n"
      ],
      "metadata": {
        "colab": {
          "base_uri": "https://localhost:8080/",
          "height": 641
        },
        "id": "xXAADqBkXSoP",
        "outputId": "e15477fd-619d-45b1-ea9e-cedef7b4a3c0"
      },
      "execution_count": 64,
      "outputs": [
        {
          "output_type": "execute_result",
          "data": {
            "text/plain": [
              "        N°                                             Nombre Departamento  \\\n",
              "0      NaN                                                NaN          NaN   \n",
              "1      1.0                                Universidad Serrana      Capital   \n",
              "2      2.0  Escuela de Administración de Negocios de Educa...      Capital   \n",
              "3      3.0  Instituto de Alta Tecnología del San Ignacio d...      Capital   \n",
              "4      4.0         Instituto Superior de Educación (I. S. E.)      Capital   \n",
              "..     ...                                                ...          ...   \n",
              "311  312.0                         Centro Indígena Pedagógico     Boquerón   \n",
              "312  313.0  Centro de Formación Profesional de las Tres Co...     Boquerón   \n",
              "313  314.0                  Escuela de Enfermería en Neuland      Boquerón   \n",
              "314  315.0                     Instituto de Formación Docente     Boquerón   \n",
              "315  316.0              Universidad Metropolitana de Asunción     Boquerón   \n",
              "\n",
              "                             Distrito  \\\n",
              "0                                 NaN   \n",
              "1                            Asunción   \n",
              "2                            Asunción   \n",
              "3                            Asunción   \n",
              "4                            Asunción   \n",
              "..                                ...   \n",
              "311                        Loma Plata   \n",
              "312                        Loma Plata   \n",
              "313  Mariscal José Félix Estigarribia   \n",
              "314  Mariscal José Félix Estigarribia   \n",
              "315  Mariscal José Félix Estigarribia   \n",
              "\n",
              "                                             Dirección Zona Geográfica  \\\n",
              "0                                                  NaN             NaN   \n",
              "1               Ruta Transchaco Kilómetro 12 c/ Tarumá     Zona urbana   \n",
              "2                        Avenida España 443 c/ Brasil      Zona urbana   \n",
              "3               Avenida Venezuela esquina San Salvador     Zona urbana   \n",
              "4            Kilómetro 4 ½ de la Avenida Eusebio Ayala     Zona urbana   \n",
              "..                                                 ...             ...   \n",
              "311  Yalve Sanga, 5 kilómetro al Sur de la Ruta Tra...      Zona rural   \n",
              "312                                                NaN             NaN   \n",
              "313  Avenida General  Eugenio A. Garay c/ San Migue...     Zona urbana   \n",
              "314           Monseñor Walter Vervoor y Monseñor Lucas     Zona urbana   \n",
              "315                              Ruta 9. Villa Militar     Zona urbana   \n",
              "\n",
              "                              Fuente de la información  Número de registro  \n",
              "0                                                  NaN                 NaN  \n",
              "1                                    26. Universidades                 1.0  \n",
              "2                                    26. Universidades                 2.0  \n",
              "3                                    26. Universidades                 3.0  \n",
              "4                                    26. Universidades                 4.0  \n",
              "..                                                 ...                 ...  \n",
              "311                        Municipalidad de Loma Plata                 NaN  \n",
              "312                        Municipalidad de Loma Plata                 NaN  \n",
              "313  Municipalidad de Mariscal José Félix Estigarribia                 NaN  \n",
              "314  Municipalidad de Mariscal José Félix Estigarribia                 NaN  \n",
              "315  Municipalidad de Mariscal José Félix Estigarribia                 NaN  \n",
              "\n",
              "[316 rows x 8 columns]"
            ],
            "text/html": [
              "\n",
              "  <div id=\"df-28ad6847-8c96-419c-8d51-5fc063c7fc2f\">\n",
              "    <div class=\"colab-df-container\">\n",
              "      <div>\n",
              "<style scoped>\n",
              "    .dataframe tbody tr th:only-of-type {\n",
              "        vertical-align: middle;\n",
              "    }\n",
              "\n",
              "    .dataframe tbody tr th {\n",
              "        vertical-align: top;\n",
              "    }\n",
              "\n",
              "    .dataframe thead th {\n",
              "        text-align: right;\n",
              "    }\n",
              "</style>\n",
              "<table border=\"1\" class=\"dataframe\">\n",
              "  <thead>\n",
              "    <tr style=\"text-align: right;\">\n",
              "      <th></th>\n",
              "      <th>N°</th>\n",
              "      <th>Nombre</th>\n",
              "      <th>Departamento</th>\n",
              "      <th>Distrito</th>\n",
              "      <th>Dirección</th>\n",
              "      <th>Zona Geográfica</th>\n",
              "      <th>Fuente de la información</th>\n",
              "      <th>Número de registro</th>\n",
              "    </tr>\n",
              "  </thead>\n",
              "  <tbody>\n",
              "    <tr>\n",
              "      <th>0</th>\n",
              "      <td>NaN</td>\n",
              "      <td>NaN</td>\n",
              "      <td>NaN</td>\n",
              "      <td>NaN</td>\n",
              "      <td>NaN</td>\n",
              "      <td>NaN</td>\n",
              "      <td>NaN</td>\n",
              "      <td>NaN</td>\n",
              "    </tr>\n",
              "    <tr>\n",
              "      <th>1</th>\n",
              "      <td>1.0</td>\n",
              "      <td>Universidad Serrana</td>\n",
              "      <td>Capital</td>\n",
              "      <td>Asunción</td>\n",
              "      <td>Ruta Transchaco Kilómetro 12 c/ Tarumá</td>\n",
              "      <td>Zona urbana</td>\n",
              "      <td>26. Universidades</td>\n",
              "      <td>1.0</td>\n",
              "    </tr>\n",
              "    <tr>\n",
              "      <th>2</th>\n",
              "      <td>2.0</td>\n",
              "      <td>Escuela de Administración de Negocios de Educa...</td>\n",
              "      <td>Capital</td>\n",
              "      <td>Asunción</td>\n",
              "      <td>Avenida España 443 c/ Brasil</td>\n",
              "      <td>Zona urbana</td>\n",
              "      <td>26. Universidades</td>\n",
              "      <td>2.0</td>\n",
              "    </tr>\n",
              "    <tr>\n",
              "      <th>3</th>\n",
              "      <td>3.0</td>\n",
              "      <td>Instituto de Alta Tecnología del San Ignacio d...</td>\n",
              "      <td>Capital</td>\n",
              "      <td>Asunción</td>\n",
              "      <td>Avenida Venezuela esquina San Salvador</td>\n",
              "      <td>Zona urbana</td>\n",
              "      <td>26. Universidades</td>\n",
              "      <td>3.0</td>\n",
              "    </tr>\n",
              "    <tr>\n",
              "      <th>4</th>\n",
              "      <td>4.0</td>\n",
              "      <td>Instituto Superior de Educación (I. S. E.)</td>\n",
              "      <td>Capital</td>\n",
              "      <td>Asunción</td>\n",
              "      <td>Kilómetro 4 ½ de la Avenida Eusebio Ayala</td>\n",
              "      <td>Zona urbana</td>\n",
              "      <td>26. Universidades</td>\n",
              "      <td>4.0</td>\n",
              "    </tr>\n",
              "    <tr>\n",
              "      <th>...</th>\n",
              "      <td>...</td>\n",
              "      <td>...</td>\n",
              "      <td>...</td>\n",
              "      <td>...</td>\n",
              "      <td>...</td>\n",
              "      <td>...</td>\n",
              "      <td>...</td>\n",
              "      <td>...</td>\n",
              "    </tr>\n",
              "    <tr>\n",
              "      <th>311</th>\n",
              "      <td>312.0</td>\n",
              "      <td>Centro Indígena Pedagógico</td>\n",
              "      <td>Boquerón</td>\n",
              "      <td>Loma Plata</td>\n",
              "      <td>Yalve Sanga, 5 kilómetro al Sur de la Ruta Tra...</td>\n",
              "      <td>Zona rural</td>\n",
              "      <td>Municipalidad de Loma Plata</td>\n",
              "      <td>NaN</td>\n",
              "    </tr>\n",
              "    <tr>\n",
              "      <th>312</th>\n",
              "      <td>313.0</td>\n",
              "      <td>Centro de Formación Profesional de las Tres Co...</td>\n",
              "      <td>Boquerón</td>\n",
              "      <td>Loma Plata</td>\n",
              "      <td>NaN</td>\n",
              "      <td>NaN</td>\n",
              "      <td>Municipalidad de Loma Plata</td>\n",
              "      <td>NaN</td>\n",
              "    </tr>\n",
              "    <tr>\n",
              "      <th>313</th>\n",
              "      <td>314.0</td>\n",
              "      <td>Escuela de Enfermería en Neuland</td>\n",
              "      <td>Boquerón</td>\n",
              "      <td>Mariscal José Félix Estigarribia</td>\n",
              "      <td>Avenida General  Eugenio A. Garay c/ San Migue...</td>\n",
              "      <td>Zona urbana</td>\n",
              "      <td>Municipalidad de Mariscal José Félix Estigarribia</td>\n",
              "      <td>NaN</td>\n",
              "    </tr>\n",
              "    <tr>\n",
              "      <th>314</th>\n",
              "      <td>315.0</td>\n",
              "      <td>Instituto de Formación Docente</td>\n",
              "      <td>Boquerón</td>\n",
              "      <td>Mariscal José Félix Estigarribia</td>\n",
              "      <td>Monseñor Walter Vervoor y Monseñor Lucas</td>\n",
              "      <td>Zona urbana</td>\n",
              "      <td>Municipalidad de Mariscal José Félix Estigarribia</td>\n",
              "      <td>NaN</td>\n",
              "    </tr>\n",
              "    <tr>\n",
              "      <th>315</th>\n",
              "      <td>316.0</td>\n",
              "      <td>Universidad Metropolitana de Asunción</td>\n",
              "      <td>Boquerón</td>\n",
              "      <td>Mariscal José Félix Estigarribia</td>\n",
              "      <td>Ruta 9. Villa Militar</td>\n",
              "      <td>Zona urbana</td>\n",
              "      <td>Municipalidad de Mariscal José Félix Estigarribia</td>\n",
              "      <td>NaN</td>\n",
              "    </tr>\n",
              "  </tbody>\n",
              "</table>\n",
              "<p>316 rows × 8 columns</p>\n",
              "</div>\n",
              "      <button class=\"colab-df-convert\" onclick=\"convertToInteractive('df-28ad6847-8c96-419c-8d51-5fc063c7fc2f')\"\n",
              "              title=\"Convert this dataframe to an interactive table.\"\n",
              "              style=\"display:none;\">\n",
              "        \n",
              "  <svg xmlns=\"http://www.w3.org/2000/svg\" height=\"24px\"viewBox=\"0 0 24 24\"\n",
              "       width=\"24px\">\n",
              "    <path d=\"M0 0h24v24H0V0z\" fill=\"none\"/>\n",
              "    <path d=\"M18.56 5.44l.94 2.06.94-2.06 2.06-.94-2.06-.94-.94-2.06-.94 2.06-2.06.94zm-11 1L8.5 8.5l.94-2.06 2.06-.94-2.06-.94L8.5 2.5l-.94 2.06-2.06.94zm10 10l.94 2.06.94-2.06 2.06-.94-2.06-.94-.94-2.06-.94 2.06-2.06.94z\"/><path d=\"M17.41 7.96l-1.37-1.37c-.4-.4-.92-.59-1.43-.59-.52 0-1.04.2-1.43.59L10.3 9.45l-7.72 7.72c-.78.78-.78 2.05 0 2.83L4 21.41c.39.39.9.59 1.41.59.51 0 1.02-.2 1.41-.59l7.78-7.78 2.81-2.81c.8-.78.8-2.07 0-2.86zM5.41 20L4 18.59l7.72-7.72 1.47 1.35L5.41 20z\"/>\n",
              "  </svg>\n",
              "      </button>\n",
              "      \n",
              "  <style>\n",
              "    .colab-df-container {\n",
              "      display:flex;\n",
              "      flex-wrap:wrap;\n",
              "      gap: 12px;\n",
              "    }\n",
              "\n",
              "    .colab-df-convert {\n",
              "      background-color: #E8F0FE;\n",
              "      border: none;\n",
              "      border-radius: 50%;\n",
              "      cursor: pointer;\n",
              "      display: none;\n",
              "      fill: #1967D2;\n",
              "      height: 32px;\n",
              "      padding: 0 0 0 0;\n",
              "      width: 32px;\n",
              "    }\n",
              "\n",
              "    .colab-df-convert:hover {\n",
              "      background-color: #E2EBFA;\n",
              "      box-shadow: 0px 1px 2px rgba(60, 64, 67, 0.3), 0px 1px 3px 1px rgba(60, 64, 67, 0.15);\n",
              "      fill: #174EA6;\n",
              "    }\n",
              "\n",
              "    [theme=dark] .colab-df-convert {\n",
              "      background-color: #3B4455;\n",
              "      fill: #D2E3FC;\n",
              "    }\n",
              "\n",
              "    [theme=dark] .colab-df-convert:hover {\n",
              "      background-color: #434B5C;\n",
              "      box-shadow: 0px 1px 3px 1px rgba(0, 0, 0, 0.15);\n",
              "      filter: drop-shadow(0px 1px 2px rgba(0, 0, 0, 0.3));\n",
              "      fill: #FFFFFF;\n",
              "    }\n",
              "  </style>\n",
              "\n",
              "      <script>\n",
              "        const buttonEl =\n",
              "          document.querySelector('#df-28ad6847-8c96-419c-8d51-5fc063c7fc2f button.colab-df-convert');\n",
              "        buttonEl.style.display =\n",
              "          google.colab.kernel.accessAllowed ? 'block' : 'none';\n",
              "\n",
              "        async function convertToInteractive(key) {\n",
              "          const element = document.querySelector('#df-28ad6847-8c96-419c-8d51-5fc063c7fc2f');\n",
              "          const dataTable =\n",
              "            await google.colab.kernel.invokeFunction('convertToInteractive',\n",
              "                                                     [key], {});\n",
              "          if (!dataTable) return;\n",
              "\n",
              "          const docLinkHtml = 'Like what you see? Visit the ' +\n",
              "            '<a target=\"_blank\" href=https://colab.research.google.com/notebooks/data_table.ipynb>data table notebook</a>'\n",
              "            + ' to learn more about interactive tables.';\n",
              "          element.innerHTML = '';\n",
              "          dataTable['output_type'] = 'display_data';\n",
              "          await google.colab.output.renderOutput(dataTable, element);\n",
              "          const docLink = document.createElement('div');\n",
              "          docLink.innerHTML = docLinkHtml;\n",
              "          element.appendChild(docLink);\n",
              "        }\n",
              "      </script>\n",
              "    </div>\n",
              "  </div>\n",
              "  "
            ]
          },
          "metadata": {},
          "execution_count": 64
        }
      ]
    },
    {
      "cell_type": "markdown",
      "source": [
        "## *Dataframe de inst. de enseñanza artisitca*"
      ],
      "metadata": {
        "id": "FISkF9gKB9D0"
      }
    },
    {
      "cell_type": "code",
      "source": [
        "import pandas as pd\n",
        "\n",
        "# Leer el archivo Excel\n",
        "excel_file = pd.ExcelFile('infraestructura.xlsx')\n",
        "\n",
        "# Obtener el nombre de todas las hojas en el archivo\n",
        "sheet_names = excel_file.sheet_names\n",
        "\n",
        "# Crear un diccionario para almacenar los DataFrames de cada hoja\n",
        "dataframes = {}\n",
        "\n",
        "# Iterar sobre cada hoja y crear un DataFrame correspondiente\n",
        "for sheet_name in sheet_names:\n",
        "    # Leer los datos de la hoja y almacenarlos en un DataFrame\n",
        "    df = excel_file.parse(sheet_name)\n",
        "    # Almacenar el DataFrame en el diccionario usando el nombre de la hoja como clave\n",
        "    dataframes[sheet_name] = df\n",
        "\n",
        "# Obtener el DataFrame de la hoja \"Inst. de Enseñanza Artística\"\n",
        "instdeenseñanzartistica_df = dataframes['Inst. de Enseñanza Artística']\n",
        "\n",
        "# Visualizar el DataFrame de la hoja \"Inst. de Enseñanza Artística\"\n",
        "print(instdeenseñanzartistica_df)"
      ],
      "metadata": {
        "colab": {
          "base_uri": "https://localhost:8080/"
        },
        "id": "yiNqGkeBUCEa",
        "outputId": "ae637120-cf63-4814-8e13-3f1336fbfee9"
      },
      "execution_count": 65,
      "outputs": [
        {
          "output_type": "stream",
          "name": "stdout",
          "text": [
            "        N°                                             Nombre Departamento  \\\n",
            "0      NaN                                                NaN          NaN   \n",
            "1      1.0                   Academia de Artes Lourdes Llanes      Capital   \n",
            "2      2.0  Academia de Danza Club de Sub-Oficiales de la ...      Capital   \n",
            "3      3.0     Academia de Danza del Centro Paraguayo Japonés      Capital   \n",
            "4      4.0                 Academia de Danza Geraldine Doldán      Central   \n",
            "..     ...                                                ...          ...   \n",
            "528  533.0                                                NaN          NaN   \n",
            "529  534.0                                                NaN          NaN   \n",
            "530  535.0                                                NaN          NaN   \n",
            "531  536.0                                                NaN          NaN   \n",
            "532  537.0                                                NaN          NaN   \n",
            "\n",
            "     Distrito                           Dirección Zona Geográfica  \\\n",
            "0         NaN                                 NaN             NaN   \n",
            "1    Asunción           Denis Roa 1248 c/ Austria     Zona urbana   \n",
            "2    Asunción  Madame Lynch y Aviadores del Chaco     Zona urbana   \n",
            "3    Asunción    Julio Correa y Domingo Portillo      Zona urbana   \n",
            "4       Luque        Cerro Corá 126 c/ Balderrama     Zona urbana   \n",
            "..        ...                                 ...             ...   \n",
            "528       NaN                                 NaN             NaN   \n",
            "529       NaN                                 NaN             NaN   \n",
            "530       NaN                                 NaN             NaN   \n",
            "531       NaN                                 NaN             NaN   \n",
            "532       NaN                                 NaN             NaN   \n",
            "\n",
            "              Fuente de la información  Número de registro Observaciones  \n",
            "0                                  NaN                 NaN           NaN  \n",
            "1    Colibrí Institutos de Declamación                 1.0           NaN  \n",
            "2           Colibrí Academia de Danzas                 2.0           NaN  \n",
            "3           Colibrí Academia de Danzas                 3.0           NaN  \n",
            "4           Colibrí Academia de Danzas                 4.0           NaN  \n",
            "..                                 ...                 ...           ...  \n",
            "528                                NaN                 NaN           NaN  \n",
            "529                                NaN                 NaN           NaN  \n",
            "530                                NaN                 NaN           NaN  \n",
            "531                                NaN                 NaN           NaN  \n",
            "532                                NaN                 NaN           NaN  \n",
            "\n",
            "[533 rows x 9 columns]\n"
          ]
        }
      ]
    },
    {
      "cell_type": "markdown",
      "source": [
        "###Exploracion de los datos"
      ],
      "metadata": {
        "id": "SFxtbX0qXhCM"
      }
    },
    {
      "cell_type": "markdown",
      "source": [
        "Tipos de datos"
      ],
      "metadata": {
        "id": "9RXEWNimXkfh"
      }
    },
    {
      "cell_type": "code",
      "source": [
        "#Datatypes\n",
        "instdeenseñanzartistica_df.dtypes"
      ],
      "metadata": {
        "colab": {
          "base_uri": "https://localhost:8080/"
        },
        "id": "etivsV24Xmem",
        "outputId": "65584d77-58e9-4560-9dfe-a01be1c0e611"
      },
      "execution_count": 66,
      "outputs": [
        {
          "output_type": "execute_result",
          "data": {
            "text/plain": [
              "N°                          float64\n",
              "Nombre                       object\n",
              "Departamento                 object\n",
              "Distrito                     object\n",
              "Dirección                    object\n",
              "Zona Geográfica              object\n",
              "Fuente de la información     object\n",
              "Número de registro          float64\n",
              "Observaciones                object\n",
              "dtype: object"
            ]
          },
          "metadata": {},
          "execution_count": 66
        }
      ]
    },
    {
      "cell_type": "code",
      "source": [
        "#valores nulos de int. de enseñanza artistica\n",
        "#Find null values\n",
        "instdeenseñanzartistica_df.isnull().sum()"
      ],
      "metadata": {
        "colab": {
          "base_uri": "https://localhost:8080/"
        },
        "id": "nFL7F35nCfyE",
        "outputId": "9bbf3099-e2cf-48e3-c5a6-ca15b074db67"
      },
      "execution_count": 67,
      "outputs": [
        {
          "output_type": "execute_result",
          "data": {
            "text/plain": [
              "N°                           28\n",
              "Nombre                       23\n",
              "Departamento                 32\n",
              "Distrito                     77\n",
              "Dirección                    97\n",
              "Zona Geográfica              79\n",
              "Fuente de la información     28\n",
              "Número de registro          467\n",
              "Observaciones               532\n",
              "dtype: int64"
            ]
          },
          "metadata": {},
          "execution_count": 67
        }
      ]
    },
    {
      "cell_type": "markdown",
      "source": [
        "no tienen valores en la columna de observaciones, y la mayoria no tiene numero de registro"
      ],
      "metadata": {
        "id": "xSDBM1ICCr_x"
      }
    },
    {
      "cell_type": "markdown",
      "source": [
        "Eliminar Nan de las ultimas filas"
      ],
      "metadata": {
        "id": "Knfl_VWeX3Mk"
      }
    },
    {
      "cell_type": "code",
      "source": [
        "instdeenseñanzartistica_df = instdeenseñanzartistica_df.iloc[:511].append(instdeenseñanzartistica_df.iloc[511:].dropna())\n"
      ],
      "metadata": {
        "colab": {
          "base_uri": "https://localhost:8080/"
        },
        "id": "7A4aPw0gY0Gx",
        "outputId": "7a7b6b88-c9c0-499d-e802-5f605a658efd"
      },
      "execution_count": 68,
      "outputs": [
        {
          "output_type": "stream",
          "name": "stderr",
          "text": [
            "<ipython-input-68-81a97ff1036b>:1: FutureWarning: The frame.append method is deprecated and will be removed from pandas in a future version. Use pandas.concat instead.\n",
            "  instdeenseñanzartistica_df = instdeenseñanzartistica_df.iloc[:511].append(instdeenseñanzartistica_df.iloc[511:].dropna())\n"
          ]
        }
      ]
    },
    {
      "cell_type": "markdown",
      "source": [
        "Cantidad de inst de enseñanza artistica"
      ],
      "metadata": {
        "id": "NxRXa9X2wzKs"
      }
    },
    {
      "cell_type": "code",
      "source": [
        "cantidad_instenseñanzartistica = len(instdeenseñanzartistica_df['Nombre'])\n",
        "print(\"Cantidad de cines:\", cantidad_instenseñanzartistica)\n"
      ],
      "metadata": {
        "colab": {
          "base_uri": "https://localhost:8080/"
        },
        "id": "OqGRtWwMw4HE",
        "outputId": "fe56180b-31eb-423c-96ff-9d75e23f0e6e"
      },
      "execution_count": 69,
      "outputs": [
        {
          "output_type": "stream",
          "name": "stdout",
          "text": [
            "Cantidad de cines: 511\n"
          ]
        }
      ]
    },
    {
      "cell_type": "code",
      "source": [
        "instdeenseñanzartistica_df"
      ],
      "metadata": {
        "colab": {
          "base_uri": "https://localhost:8080/",
          "height": 693
        },
        "id": "DD9G3C9qY2Hl",
        "outputId": "dcddb822-2e5c-4d7e-f152-3beac999d777"
      },
      "execution_count": 70,
      "outputs": [
        {
          "output_type": "execute_result",
          "data": {
            "text/plain": [
              "        N°                                             Nombre Departamento  \\\n",
              "0      NaN                                                NaN          NaN   \n",
              "1      1.0                   Academia de Artes Lourdes Llanes      Capital   \n",
              "2      2.0  Academia de Danza Club de Sub-Oficiales de la ...      Capital   \n",
              "3      3.0     Academia de Danza del Centro Paraguayo Japonés      Capital   \n",
              "4      4.0                 Academia de Danza Geraldine Doldán      Central   \n",
              "..     ...                                                ...          ...   \n",
              "506  510.0                            Academia de Danza Giros    Boquerón    \n",
              "507  511.0                          Expresión Estudio Ballet     Boquerón    \n",
              "508  513.0             Conservatorio de música El Estudiante     Boquerón    \n",
              "509  514.0                Escuela de danza y música municipal    Boquerón    \n",
              "510  515.0             Escuela de Danza y Música Jeroky Rory     Boquerón    \n",
              "\n",
              "                             Distrito  \\\n",
              "0                                 NaN   \n",
              "1                            Asunción   \n",
              "2                            Asunción   \n",
              "3                            Asunción   \n",
              "4                               Luque   \n",
              "..                                ...   \n",
              "506                        Loma Plata   \n",
              "507                        Loma Plata   \n",
              "508                        Loma Plata   \n",
              "509  Mariscal José Félix Estigarribia   \n",
              "510  Mariscal José Félix Estigarribia   \n",
              "\n",
              "                                             Dirección Zona Geográfica  \\\n",
              "0                                                  NaN             NaN   \n",
              "1                            Denis Roa 1248 c/ Austria     Zona urbana   \n",
              "2                   Madame Lynch y Aviadores del Chaco     Zona urbana   \n",
              "3                     Julio Correa y Domingo Portillo      Zona urbana   \n",
              "4                         Cerro Corá 126 c/ Balderrama     Zona urbana   \n",
              "..                                                 ...             ...   \n",
              "506                          Freend  Engen y Hugellstr     Área urbana   \n",
              "507                           Manuel Gondra c/ Chicago     Área urbana   \n",
              "508                     Tres Palmas y Laguna  Colonia      Área urbana   \n",
              "509  Avenida Eugenio A. Garay  esquina Fortín Pitia...     Área urbana   \n",
              "510                              Ruta 9, Villa Militar      Zona rural   \n",
              "\n",
              "                              Fuente de la información  Número de registro  \\\n",
              "0                                                  NaN                 NaN   \n",
              "1                    Colibrí Institutos de Declamación                 1.0   \n",
              "2                           Colibrí Academia de Danzas                 2.0   \n",
              "3                           Colibrí Academia de Danzas                 3.0   \n",
              "4                           Colibrí Academia de Danzas                 4.0   \n",
              "..                                                 ...                 ...   \n",
              "506                        Municipalidad de Loma Plata                 NaN   \n",
              "507                        Municipalidad de Loma Plata                 NaN   \n",
              "508                        Municipalidad de Loma Plata                 NaN   \n",
              "509  Municipalidad de Mariscal José Félix Estigarribia                 NaN   \n",
              "510                                                NaN                 NaN   \n",
              "\n",
              "    Observaciones  \n",
              "0             NaN  \n",
              "1             NaN  \n",
              "2             NaN  \n",
              "3             NaN  \n",
              "4             NaN  \n",
              "..            ...  \n",
              "506           NaN  \n",
              "507           NaN  \n",
              "508           NaN  \n",
              "509           NaN  \n",
              "510           NaN  \n",
              "\n",
              "[511 rows x 9 columns]"
            ],
            "text/html": [
              "\n",
              "  <div id=\"df-a3890ae3-62b1-4545-b879-863791569021\">\n",
              "    <div class=\"colab-df-container\">\n",
              "      <div>\n",
              "<style scoped>\n",
              "    .dataframe tbody tr th:only-of-type {\n",
              "        vertical-align: middle;\n",
              "    }\n",
              "\n",
              "    .dataframe tbody tr th {\n",
              "        vertical-align: top;\n",
              "    }\n",
              "\n",
              "    .dataframe thead th {\n",
              "        text-align: right;\n",
              "    }\n",
              "</style>\n",
              "<table border=\"1\" class=\"dataframe\">\n",
              "  <thead>\n",
              "    <tr style=\"text-align: right;\">\n",
              "      <th></th>\n",
              "      <th>N°</th>\n",
              "      <th>Nombre</th>\n",
              "      <th>Departamento</th>\n",
              "      <th>Distrito</th>\n",
              "      <th>Dirección</th>\n",
              "      <th>Zona Geográfica</th>\n",
              "      <th>Fuente de la información</th>\n",
              "      <th>Número de registro</th>\n",
              "      <th>Observaciones</th>\n",
              "    </tr>\n",
              "  </thead>\n",
              "  <tbody>\n",
              "    <tr>\n",
              "      <th>0</th>\n",
              "      <td>NaN</td>\n",
              "      <td>NaN</td>\n",
              "      <td>NaN</td>\n",
              "      <td>NaN</td>\n",
              "      <td>NaN</td>\n",
              "      <td>NaN</td>\n",
              "      <td>NaN</td>\n",
              "      <td>NaN</td>\n",
              "      <td>NaN</td>\n",
              "    </tr>\n",
              "    <tr>\n",
              "      <th>1</th>\n",
              "      <td>1.0</td>\n",
              "      <td>Academia de Artes Lourdes Llanes</td>\n",
              "      <td>Capital</td>\n",
              "      <td>Asunción</td>\n",
              "      <td>Denis Roa 1248 c/ Austria</td>\n",
              "      <td>Zona urbana</td>\n",
              "      <td>Colibrí Institutos de Declamación</td>\n",
              "      <td>1.0</td>\n",
              "      <td>NaN</td>\n",
              "    </tr>\n",
              "    <tr>\n",
              "      <th>2</th>\n",
              "      <td>2.0</td>\n",
              "      <td>Academia de Danza Club de Sub-Oficiales de la ...</td>\n",
              "      <td>Capital</td>\n",
              "      <td>Asunción</td>\n",
              "      <td>Madame Lynch y Aviadores del Chaco</td>\n",
              "      <td>Zona urbana</td>\n",
              "      <td>Colibrí Academia de Danzas</td>\n",
              "      <td>2.0</td>\n",
              "      <td>NaN</td>\n",
              "    </tr>\n",
              "    <tr>\n",
              "      <th>3</th>\n",
              "      <td>3.0</td>\n",
              "      <td>Academia de Danza del Centro Paraguayo Japonés</td>\n",
              "      <td>Capital</td>\n",
              "      <td>Asunción</td>\n",
              "      <td>Julio Correa y Domingo Portillo</td>\n",
              "      <td>Zona urbana</td>\n",
              "      <td>Colibrí Academia de Danzas</td>\n",
              "      <td>3.0</td>\n",
              "      <td>NaN</td>\n",
              "    </tr>\n",
              "    <tr>\n",
              "      <th>4</th>\n",
              "      <td>4.0</td>\n",
              "      <td>Academia de Danza Geraldine Doldán</td>\n",
              "      <td>Central</td>\n",
              "      <td>Luque</td>\n",
              "      <td>Cerro Corá 126 c/ Balderrama</td>\n",
              "      <td>Zona urbana</td>\n",
              "      <td>Colibrí Academia de Danzas</td>\n",
              "      <td>4.0</td>\n",
              "      <td>NaN</td>\n",
              "    </tr>\n",
              "    <tr>\n",
              "      <th>...</th>\n",
              "      <td>...</td>\n",
              "      <td>...</td>\n",
              "      <td>...</td>\n",
              "      <td>...</td>\n",
              "      <td>...</td>\n",
              "      <td>...</td>\n",
              "      <td>...</td>\n",
              "      <td>...</td>\n",
              "      <td>...</td>\n",
              "    </tr>\n",
              "    <tr>\n",
              "      <th>506</th>\n",
              "      <td>510.0</td>\n",
              "      <td>Academia de Danza Giros</td>\n",
              "      <td>Boquerón</td>\n",
              "      <td>Loma Plata</td>\n",
              "      <td>Freend  Engen y Hugellstr</td>\n",
              "      <td>Área urbana</td>\n",
              "      <td>Municipalidad de Loma Plata</td>\n",
              "      <td>NaN</td>\n",
              "      <td>NaN</td>\n",
              "    </tr>\n",
              "    <tr>\n",
              "      <th>507</th>\n",
              "      <td>511.0</td>\n",
              "      <td>Expresión Estudio Ballet</td>\n",
              "      <td>Boquerón</td>\n",
              "      <td>Loma Plata</td>\n",
              "      <td>Manuel Gondra c/ Chicago</td>\n",
              "      <td>Área urbana</td>\n",
              "      <td>Municipalidad de Loma Plata</td>\n",
              "      <td>NaN</td>\n",
              "      <td>NaN</td>\n",
              "    </tr>\n",
              "    <tr>\n",
              "      <th>508</th>\n",
              "      <td>513.0</td>\n",
              "      <td>Conservatorio de música El Estudiante</td>\n",
              "      <td>Boquerón</td>\n",
              "      <td>Loma Plata</td>\n",
              "      <td>Tres Palmas y Laguna  Colonia</td>\n",
              "      <td>Área urbana</td>\n",
              "      <td>Municipalidad de Loma Plata</td>\n",
              "      <td>NaN</td>\n",
              "      <td>NaN</td>\n",
              "    </tr>\n",
              "    <tr>\n",
              "      <th>509</th>\n",
              "      <td>514.0</td>\n",
              "      <td>Escuela de danza y música municipal</td>\n",
              "      <td>Boquerón</td>\n",
              "      <td>Mariscal José Félix Estigarribia</td>\n",
              "      <td>Avenida Eugenio A. Garay  esquina Fortín Pitia...</td>\n",
              "      <td>Área urbana</td>\n",
              "      <td>Municipalidad de Mariscal José Félix Estigarribia</td>\n",
              "      <td>NaN</td>\n",
              "      <td>NaN</td>\n",
              "    </tr>\n",
              "    <tr>\n",
              "      <th>510</th>\n",
              "      <td>515.0</td>\n",
              "      <td>Escuela de Danza y Música Jeroky Rory</td>\n",
              "      <td>Boquerón</td>\n",
              "      <td>Mariscal José Félix Estigarribia</td>\n",
              "      <td>Ruta 9, Villa Militar</td>\n",
              "      <td>Zona rural</td>\n",
              "      <td>NaN</td>\n",
              "      <td>NaN</td>\n",
              "      <td>NaN</td>\n",
              "    </tr>\n",
              "  </tbody>\n",
              "</table>\n",
              "<p>511 rows × 9 columns</p>\n",
              "</div>\n",
              "      <button class=\"colab-df-convert\" onclick=\"convertToInteractive('df-a3890ae3-62b1-4545-b879-863791569021')\"\n",
              "              title=\"Convert this dataframe to an interactive table.\"\n",
              "              style=\"display:none;\">\n",
              "        \n",
              "  <svg xmlns=\"http://www.w3.org/2000/svg\" height=\"24px\"viewBox=\"0 0 24 24\"\n",
              "       width=\"24px\">\n",
              "    <path d=\"M0 0h24v24H0V0z\" fill=\"none\"/>\n",
              "    <path d=\"M18.56 5.44l.94 2.06.94-2.06 2.06-.94-2.06-.94-.94-2.06-.94 2.06-2.06.94zm-11 1L8.5 8.5l.94-2.06 2.06-.94-2.06-.94L8.5 2.5l-.94 2.06-2.06.94zm10 10l.94 2.06.94-2.06 2.06-.94-2.06-.94-.94-2.06-.94 2.06-2.06.94z\"/><path d=\"M17.41 7.96l-1.37-1.37c-.4-.4-.92-.59-1.43-.59-.52 0-1.04.2-1.43.59L10.3 9.45l-7.72 7.72c-.78.78-.78 2.05 0 2.83L4 21.41c.39.39.9.59 1.41.59.51 0 1.02-.2 1.41-.59l7.78-7.78 2.81-2.81c.8-.78.8-2.07 0-2.86zM5.41 20L4 18.59l7.72-7.72 1.47 1.35L5.41 20z\"/>\n",
              "  </svg>\n",
              "      </button>\n",
              "      \n",
              "  <style>\n",
              "    .colab-df-container {\n",
              "      display:flex;\n",
              "      flex-wrap:wrap;\n",
              "      gap: 12px;\n",
              "    }\n",
              "\n",
              "    .colab-df-convert {\n",
              "      background-color: #E8F0FE;\n",
              "      border: none;\n",
              "      border-radius: 50%;\n",
              "      cursor: pointer;\n",
              "      display: none;\n",
              "      fill: #1967D2;\n",
              "      height: 32px;\n",
              "      padding: 0 0 0 0;\n",
              "      width: 32px;\n",
              "    }\n",
              "\n",
              "    .colab-df-convert:hover {\n",
              "      background-color: #E2EBFA;\n",
              "      box-shadow: 0px 1px 2px rgba(60, 64, 67, 0.3), 0px 1px 3px 1px rgba(60, 64, 67, 0.15);\n",
              "      fill: #174EA6;\n",
              "    }\n",
              "\n",
              "    [theme=dark] .colab-df-convert {\n",
              "      background-color: #3B4455;\n",
              "      fill: #D2E3FC;\n",
              "    }\n",
              "\n",
              "    [theme=dark] .colab-df-convert:hover {\n",
              "      background-color: #434B5C;\n",
              "      box-shadow: 0px 1px 3px 1px rgba(0, 0, 0, 0.15);\n",
              "      filter: drop-shadow(0px 1px 2px rgba(0, 0, 0, 0.3));\n",
              "      fill: #FFFFFF;\n",
              "    }\n",
              "  </style>\n",
              "\n",
              "      <script>\n",
              "        const buttonEl =\n",
              "          document.querySelector('#df-a3890ae3-62b1-4545-b879-863791569021 button.colab-df-convert');\n",
              "        buttonEl.style.display =\n",
              "          google.colab.kernel.accessAllowed ? 'block' : 'none';\n",
              "\n",
              "        async function convertToInteractive(key) {\n",
              "          const element = document.querySelector('#df-a3890ae3-62b1-4545-b879-863791569021');\n",
              "          const dataTable =\n",
              "            await google.colab.kernel.invokeFunction('convertToInteractive',\n",
              "                                                     [key], {});\n",
              "          if (!dataTable) return;\n",
              "\n",
              "          const docLinkHtml = 'Like what you see? Visit the ' +\n",
              "            '<a target=\"_blank\" href=https://colab.research.google.com/notebooks/data_table.ipynb>data table notebook</a>'\n",
              "            + ' to learn more about interactive tables.';\n",
              "          element.innerHTML = '';\n",
              "          dataTable['output_type'] = 'display_data';\n",
              "          await google.colab.output.renderOutput(dataTable, element);\n",
              "          const docLink = document.createElement('div');\n",
              "          docLink.innerHTML = docLinkHtml;\n",
              "          element.appendChild(docLink);\n",
              "        }\n",
              "      </script>\n",
              "    </div>\n",
              "  </div>\n",
              "  "
            ]
          },
          "metadata": {},
          "execution_count": 70
        }
      ]
    },
    {
      "cell_type": "markdown",
      "source": [
        "## *Dataframe de centros culturales*"
      ],
      "metadata": {
        "id": "z9YM3Rs5HSCA"
      }
    },
    {
      "cell_type": "code",
      "source": [
        "import pandas as pd\n",
        "\n",
        "# Leer el archivo Excel\n",
        "excel_file = pd.ExcelFile('infraestructura.xlsx')\n",
        "\n",
        "# Obtener el nombre de todas las hojas en el archivo\n",
        "sheet_names = excel_file.sheet_names\n",
        "\n",
        "# Crear un diccionario para almacenar los DataFrames de cada hoja\n",
        "dataframes = {}\n",
        "\n",
        "# Iterar sobre cada hoja y crear un DataFrame correspondiente\n",
        "for sheet_name in sheet_names:\n",
        "    # Leer los datos de la hoja y almacenarlos en un DataFrame\n",
        "    df = excel_file.parse(sheet_name)\n",
        "    # Almacenar el DataFrame en el diccionario usando el nombre de la hoja como clave\n",
        "    dataframes[sheet_name] = df\n",
        "\n",
        "# Obtener el DataFrame de la hoja \"Centros Culturales\"\n",
        "centrosculturales_df = dataframes['Centros Culturales']\n",
        "\n",
        "# Visualizar el DataFrame de la hoja \"Centros Culturales\"\n",
        "print(centrosculturales_df)"
      ],
      "metadata": {
        "colab": {
          "base_uri": "https://localhost:8080/"
        },
        "id": "nfHVD45OUXtd",
        "outputId": "6ed526ad-bb79-4877-9587-4c7a371518cc"
      },
      "execution_count": 71,
      "outputs": [
        {
          "output_type": "stream",
          "name": "stdout",
          "text": [
            "        N°                                             Nombre Departamento  \\\n",
            "0      NaN                                                NaN          NaN   \n",
            "1      1.0                         Espacio Cultural Arpa Róga      Capital   \n",
            "2      2.0                        Casa de la Cultura de Luque      Central   \n",
            "3      3.0  Centro Cultural Alianza Francesa de Asunción \"...      Capital   \n",
            "4      4.0                    Centro Cultural Cacique Lambaré      Central   \n",
            "..     ...                                                ...          ...   \n",
            "589  594.0                                                NaN          NaN   \n",
            "590  595.0                                                NaN          NaN   \n",
            "591  596.0                                                NaN          NaN   \n",
            "592  597.0                                                NaN          NaN   \n",
            "593  598.0                                                NaN          NaN   \n",
            "\n",
            "     Distrito                                          Dirección  \\\n",
            "0         NaN                                                NaN   \n",
            "1    Asunción  Doctor Patricio Maciel 559 c/ Teniente Sinfori...   \n",
            "2       Luque  Calle Balderrama 43 entre 14 de Mayo y Cerro Corá   \n",
            "3    Asunción       Mariscal Estigarribia 1039 c/ Estados Unidos   \n",
            "4     Lambaré     José S. Decoud 2422 esquina Antequera y Castro   \n",
            "..        ...                                                ...   \n",
            "589       NaN                                                NaN   \n",
            "590       NaN                                                NaN   \n",
            "591       NaN                                                NaN   \n",
            "592       NaN                                                NaN   \n",
            "593       NaN                                                NaN   \n",
            "\n",
            "    Zona Geográfica                           Fuente de la información  \\\n",
            "0               NaN                                                NaN   \n",
            "1       Zona urbana                                              SICPY   \n",
            "2       Zona urbana                          www.paraguaycultural.info   \n",
            "3       Zona urbana  Listado de Centros Culturales más promocianado...   \n",
            "4       Zona urbana                                              SICPY   \n",
            "..              ...                                                ...   \n",
            "589             NaN                                                NaN   \n",
            "590             NaN                                                NaN   \n",
            "591             NaN                                                NaN   \n",
            "592             NaN                                                NaN   \n",
            "593             NaN                                                NaN   \n",
            "\n",
            "     Número de registro Observaciones  \n",
            "0                   NaN           NaN  \n",
            "1                   1.0           NaN  \n",
            "2                   2.0           NaN  \n",
            "3                   3.0           NaN  \n",
            "4                   4.0           NaN  \n",
            "..                  ...           ...  \n",
            "589                 NaN           NaN  \n",
            "590                 NaN           NaN  \n",
            "591                 NaN           NaN  \n",
            "592                 NaN           NaN  \n",
            "593                 NaN           NaN  \n",
            "\n",
            "[594 rows x 9 columns]\n"
          ]
        }
      ]
    },
    {
      "cell_type": "markdown",
      "source": [
        "###Exploracion de los datos"
      ],
      "metadata": {
        "id": "ra6hvyS0ZFY6"
      }
    },
    {
      "cell_type": "markdown",
      "source": [
        "Tipos de datos"
      ],
      "metadata": {
        "id": "mUK7Vp4tZL0X"
      }
    },
    {
      "cell_type": "code",
      "source": [
        "#Datatypes\n",
        "centrosculturales_df.dtypes"
      ],
      "metadata": {
        "colab": {
          "base_uri": "https://localhost:8080/"
        },
        "id": "QKMDbh8wZNUq",
        "outputId": "3938bfef-47b2-4d8f-9e56-77ed56faff1b"
      },
      "execution_count": 72,
      "outputs": [
        {
          "output_type": "execute_result",
          "data": {
            "text/plain": [
              "N°                          float64\n",
              "Nombre                       object\n",
              "Departamento                 object\n",
              "Distrito                     object\n",
              "Dirección                    object\n",
              "Zona Geográfica              object\n",
              "Fuente de la información     object\n",
              "Número de registro          float64\n",
              "Observaciones                object\n",
              "dtype: object"
            ]
          },
          "metadata": {},
          "execution_count": 72
        }
      ]
    },
    {
      "cell_type": "markdown",
      "source": [
        "Valores nulos"
      ],
      "metadata": {
        "id": "ibwgzKdEZi4p"
      }
    },
    {
      "cell_type": "code",
      "source": [
        "#valores nulos de centros culturales\n",
        "#Find null values\n",
        "centrosculturales_df.isnull().sum()"
      ],
      "metadata": {
        "id": "P0c1DGGuvGft",
        "colab": {
          "base_uri": "https://localhost:8080/"
        },
        "outputId": "55b3780d-c638-47e5-dc2e-64db8e4777a6"
      },
      "execution_count": 73,
      "outputs": [
        {
          "output_type": "execute_result",
          "data": {
            "text/plain": [
              "N°                            9\n",
              "Nombre                      482\n",
              "Departamento                482\n",
              "Distrito                    484\n",
              "Dirección                   487\n",
              "Zona Geográfica             487\n",
              "Fuente de la información    482\n",
              "Número de registro          565\n",
              "Observaciones               593\n",
              "dtype: int64"
            ]
          },
          "metadata": {},
          "execution_count": 73
        }
      ]
    },
    {
      "cell_type": "markdown",
      "source": [
        "Eliminar Nan de las ultimas filas"
      ],
      "metadata": {
        "id": "fpEB2KuoZreu"
      }
    },
    {
      "cell_type": "code",
      "source": [
        "centrosculturales_df = centrosculturales_df.iloc[:113].append(centrosculturales_df.iloc[113:].dropna())\n"
      ],
      "metadata": {
        "colab": {
          "base_uri": "https://localhost:8080/"
        },
        "id": "0-M-tRmJZsss",
        "outputId": "8999d52d-dceb-4bdf-f276-657dfb3ed588"
      },
      "execution_count": 74,
      "outputs": [
        {
          "output_type": "stream",
          "name": "stderr",
          "text": [
            "<ipython-input-74-a45a04f1872b>:1: FutureWarning: The frame.append method is deprecated and will be removed from pandas in a future version. Use pandas.concat instead.\n",
            "  centrosculturales_df = centrosculturales_df.iloc[:113].append(centrosculturales_df.iloc[113:].dropna())\n"
          ]
        }
      ]
    },
    {
      "cell_type": "markdown",
      "source": [
        "Cantidad de centros culturales"
      ],
      "metadata": {
        "id": "ZEVMUTE_xw0Y"
      }
    },
    {
      "cell_type": "code",
      "source": [
        "cantidad_centrosculturales = len(centrosculturales_df['Nombre'])\n",
        "print(\"Cantidad de centros culturales:\", cantidad_centrosculturales)\n"
      ],
      "metadata": {
        "colab": {
          "base_uri": "https://localhost:8080/"
        },
        "id": "oJzy2bOzxzA_",
        "outputId": "e1f9d4ae-9ac7-4899-ba94-b6e204617bb8"
      },
      "execution_count": 75,
      "outputs": [
        {
          "output_type": "stream",
          "name": "stdout",
          "text": [
            "Cantidad de centros culturales: 113\n"
          ]
        }
      ]
    },
    {
      "cell_type": "code",
      "source": [
        "centrosculturales_df"
      ],
      "metadata": {
        "colab": {
          "base_uri": "https://localhost:8080/",
          "height": 745
        },
        "id": "lhTa3jUEaAnl",
        "outputId": "1088e168-bdd6-485f-b4e6-d7452b4bf351"
      },
      "execution_count": 76,
      "outputs": [
        {
          "output_type": "execute_result",
          "data": {
            "text/plain": [
              "        N°                                             Nombre  \\\n",
              "0      NaN                                                NaN   \n",
              "1      1.0                         Espacio Cultural Arpa Róga   \n",
              "2      2.0                        Casa de la Cultura de Luque   \n",
              "3      3.0  Centro Cultural Alianza Francesa de Asunción \"...   \n",
              "4      4.0                    Centro Cultural Cacique Lambaré   \n",
              "..     ...                                                ...   \n",
              "108  112.0                         Centro Cultural Mercedita    \n",
              "109  114.0                       Centro Cultural de Artesanía   \n",
              "110  115.0                           Centro Cultural Melodía    \n",
              "111  116.0  Centro Cultural del Bicentenario Presidente Ha...   \n",
              "112  117.0                 Centro Social y Cultural Municipal   \n",
              "\n",
              "         Departamento                          Distrito  \\\n",
              "0                 NaN                               NaN   \n",
              "1             Capital                          Asunción   \n",
              "2             Central                             Luque   \n",
              "3             Capital                          Asunción   \n",
              "4             Central                           Lambaré   \n",
              "..                ...                               ...   \n",
              "108  Presidente Hayes                   Benjamín Aceval   \n",
              "109  Presidente Hayes                    Puerto Pinasco   \n",
              "110  Presidente Hayes                       Villa Hayes   \n",
              "111  Presidente Hayes                       Villa Hayes   \n",
              "112          Boquerón  Mariscal José Félix Estigarribia   \n",
              "\n",
              "                                             Dirección Zona Geográfica  \\\n",
              "0                                                  NaN             NaN   \n",
              "1    Doctor Patricio Maciel 559 c/ Teniente Sinfori...     Zona urbana   \n",
              "2    Calle Balderrama 43 entre 14 de Mayo y Cerro Corá     Zona urbana   \n",
              "3         Mariscal Estigarribia 1039 c/ Estados Unidos     Zona urbana   \n",
              "4       José S. Decoud 2422 esquina Antequera y Castro     Zona urbana   \n",
              "..                                                 ...             ...   \n",
              "108                   Independencia y Lomas Valentinas     Zona urbana   \n",
              "109                 Don Bosco y Padre Esteban Sildívar     Zona urbana   \n",
              "110                       Avenidas Lauro Hayes y Colón     Zona urbana   \n",
              "111                Ribera del Rio Paraguay y Curupayty     Zona urbana   \n",
              "112                                 Barrio San Antonio     Zona urbana   \n",
              "\n",
              "                              Fuente de la información  Número de registro  \\\n",
              "0                                                  NaN                 NaN   \n",
              "1                                                SICPY                 1.0   \n",
              "2                            www.paraguaycultural.info                 2.0   \n",
              "3    Listado de Centros Culturales más promocianado...                 3.0   \n",
              "4                                                SICPY                 4.0   \n",
              "..                                                 ...                 ...   \n",
              "108                   Municipalidad de Benjamín Aceval                 NaN   \n",
              "109                    Municipalidad de Puerto Pinasco                 NaN   \n",
              "110                       Municipalidad de Villa Hayes                 NaN   \n",
              "111                       Municipalidad de Villa Hayes                 NaN   \n",
              "112  Municipalidad de Mariscal José Félix Estigarribia                 NaN   \n",
              "\n",
              "    Observaciones  \n",
              "0             NaN  \n",
              "1             NaN  \n",
              "2             NaN  \n",
              "3             NaN  \n",
              "4             NaN  \n",
              "..            ...  \n",
              "108           NaN  \n",
              "109           NaN  \n",
              "110           NaN  \n",
              "111           NaN  \n",
              "112           NaN  \n",
              "\n",
              "[113 rows x 9 columns]"
            ],
            "text/html": [
              "\n",
              "  <div id=\"df-34306e1a-29ae-44e2-aad2-1b5f49d4057c\">\n",
              "    <div class=\"colab-df-container\">\n",
              "      <div>\n",
              "<style scoped>\n",
              "    .dataframe tbody tr th:only-of-type {\n",
              "        vertical-align: middle;\n",
              "    }\n",
              "\n",
              "    .dataframe tbody tr th {\n",
              "        vertical-align: top;\n",
              "    }\n",
              "\n",
              "    .dataframe thead th {\n",
              "        text-align: right;\n",
              "    }\n",
              "</style>\n",
              "<table border=\"1\" class=\"dataframe\">\n",
              "  <thead>\n",
              "    <tr style=\"text-align: right;\">\n",
              "      <th></th>\n",
              "      <th>N°</th>\n",
              "      <th>Nombre</th>\n",
              "      <th>Departamento</th>\n",
              "      <th>Distrito</th>\n",
              "      <th>Dirección</th>\n",
              "      <th>Zona Geográfica</th>\n",
              "      <th>Fuente de la información</th>\n",
              "      <th>Número de registro</th>\n",
              "      <th>Observaciones</th>\n",
              "    </tr>\n",
              "  </thead>\n",
              "  <tbody>\n",
              "    <tr>\n",
              "      <th>0</th>\n",
              "      <td>NaN</td>\n",
              "      <td>NaN</td>\n",
              "      <td>NaN</td>\n",
              "      <td>NaN</td>\n",
              "      <td>NaN</td>\n",
              "      <td>NaN</td>\n",
              "      <td>NaN</td>\n",
              "      <td>NaN</td>\n",
              "      <td>NaN</td>\n",
              "    </tr>\n",
              "    <tr>\n",
              "      <th>1</th>\n",
              "      <td>1.0</td>\n",
              "      <td>Espacio Cultural Arpa Róga</td>\n",
              "      <td>Capital</td>\n",
              "      <td>Asunción</td>\n",
              "      <td>Doctor Patricio Maciel 559 c/ Teniente Sinfori...</td>\n",
              "      <td>Zona urbana</td>\n",
              "      <td>SICPY</td>\n",
              "      <td>1.0</td>\n",
              "      <td>NaN</td>\n",
              "    </tr>\n",
              "    <tr>\n",
              "      <th>2</th>\n",
              "      <td>2.0</td>\n",
              "      <td>Casa de la Cultura de Luque</td>\n",
              "      <td>Central</td>\n",
              "      <td>Luque</td>\n",
              "      <td>Calle Balderrama 43 entre 14 de Mayo y Cerro Corá</td>\n",
              "      <td>Zona urbana</td>\n",
              "      <td>www.paraguaycultural.info</td>\n",
              "      <td>2.0</td>\n",
              "      <td>NaN</td>\n",
              "    </tr>\n",
              "    <tr>\n",
              "      <th>3</th>\n",
              "      <td>3.0</td>\n",
              "      <td>Centro Cultural Alianza Francesa de Asunción \"...</td>\n",
              "      <td>Capital</td>\n",
              "      <td>Asunción</td>\n",
              "      <td>Mariscal Estigarribia 1039 c/ Estados Unidos</td>\n",
              "      <td>Zona urbana</td>\n",
              "      <td>Listado de Centros Culturales más promocianado...</td>\n",
              "      <td>3.0</td>\n",
              "      <td>NaN</td>\n",
              "    </tr>\n",
              "    <tr>\n",
              "      <th>4</th>\n",
              "      <td>4.0</td>\n",
              "      <td>Centro Cultural Cacique Lambaré</td>\n",
              "      <td>Central</td>\n",
              "      <td>Lambaré</td>\n",
              "      <td>José S. Decoud 2422 esquina Antequera y Castro</td>\n",
              "      <td>Zona urbana</td>\n",
              "      <td>SICPY</td>\n",
              "      <td>4.0</td>\n",
              "      <td>NaN</td>\n",
              "    </tr>\n",
              "    <tr>\n",
              "      <th>...</th>\n",
              "      <td>...</td>\n",
              "      <td>...</td>\n",
              "      <td>...</td>\n",
              "      <td>...</td>\n",
              "      <td>...</td>\n",
              "      <td>...</td>\n",
              "      <td>...</td>\n",
              "      <td>...</td>\n",
              "      <td>...</td>\n",
              "    </tr>\n",
              "    <tr>\n",
              "      <th>108</th>\n",
              "      <td>112.0</td>\n",
              "      <td>Centro Cultural Mercedita</td>\n",
              "      <td>Presidente Hayes</td>\n",
              "      <td>Benjamín Aceval</td>\n",
              "      <td>Independencia y Lomas Valentinas</td>\n",
              "      <td>Zona urbana</td>\n",
              "      <td>Municipalidad de Benjamín Aceval</td>\n",
              "      <td>NaN</td>\n",
              "      <td>NaN</td>\n",
              "    </tr>\n",
              "    <tr>\n",
              "      <th>109</th>\n",
              "      <td>114.0</td>\n",
              "      <td>Centro Cultural de Artesanía</td>\n",
              "      <td>Presidente Hayes</td>\n",
              "      <td>Puerto Pinasco</td>\n",
              "      <td>Don Bosco y Padre Esteban Sildívar</td>\n",
              "      <td>Zona urbana</td>\n",
              "      <td>Municipalidad de Puerto Pinasco</td>\n",
              "      <td>NaN</td>\n",
              "      <td>NaN</td>\n",
              "    </tr>\n",
              "    <tr>\n",
              "      <th>110</th>\n",
              "      <td>115.0</td>\n",
              "      <td>Centro Cultural Melodía</td>\n",
              "      <td>Presidente Hayes</td>\n",
              "      <td>Villa Hayes</td>\n",
              "      <td>Avenidas Lauro Hayes y Colón</td>\n",
              "      <td>Zona urbana</td>\n",
              "      <td>Municipalidad de Villa Hayes</td>\n",
              "      <td>NaN</td>\n",
              "      <td>NaN</td>\n",
              "    </tr>\n",
              "    <tr>\n",
              "      <th>111</th>\n",
              "      <td>116.0</td>\n",
              "      <td>Centro Cultural del Bicentenario Presidente Ha...</td>\n",
              "      <td>Presidente Hayes</td>\n",
              "      <td>Villa Hayes</td>\n",
              "      <td>Ribera del Rio Paraguay y Curupayty</td>\n",
              "      <td>Zona urbana</td>\n",
              "      <td>Municipalidad de Villa Hayes</td>\n",
              "      <td>NaN</td>\n",
              "      <td>NaN</td>\n",
              "    </tr>\n",
              "    <tr>\n",
              "      <th>112</th>\n",
              "      <td>117.0</td>\n",
              "      <td>Centro Social y Cultural Municipal</td>\n",
              "      <td>Boquerón</td>\n",
              "      <td>Mariscal José Félix Estigarribia</td>\n",
              "      <td>Barrio San Antonio</td>\n",
              "      <td>Zona urbana</td>\n",
              "      <td>Municipalidad de Mariscal José Félix Estigarribia</td>\n",
              "      <td>NaN</td>\n",
              "      <td>NaN</td>\n",
              "    </tr>\n",
              "  </tbody>\n",
              "</table>\n",
              "<p>113 rows × 9 columns</p>\n",
              "</div>\n",
              "      <button class=\"colab-df-convert\" onclick=\"convertToInteractive('df-34306e1a-29ae-44e2-aad2-1b5f49d4057c')\"\n",
              "              title=\"Convert this dataframe to an interactive table.\"\n",
              "              style=\"display:none;\">\n",
              "        \n",
              "  <svg xmlns=\"http://www.w3.org/2000/svg\" height=\"24px\"viewBox=\"0 0 24 24\"\n",
              "       width=\"24px\">\n",
              "    <path d=\"M0 0h24v24H0V0z\" fill=\"none\"/>\n",
              "    <path d=\"M18.56 5.44l.94 2.06.94-2.06 2.06-.94-2.06-.94-.94-2.06-.94 2.06-2.06.94zm-11 1L8.5 8.5l.94-2.06 2.06-.94-2.06-.94L8.5 2.5l-.94 2.06-2.06.94zm10 10l.94 2.06.94-2.06 2.06-.94-2.06-.94-.94-2.06-.94 2.06-2.06.94z\"/><path d=\"M17.41 7.96l-1.37-1.37c-.4-.4-.92-.59-1.43-.59-.52 0-1.04.2-1.43.59L10.3 9.45l-7.72 7.72c-.78.78-.78 2.05 0 2.83L4 21.41c.39.39.9.59 1.41.59.51 0 1.02-.2 1.41-.59l7.78-7.78 2.81-2.81c.8-.78.8-2.07 0-2.86zM5.41 20L4 18.59l7.72-7.72 1.47 1.35L5.41 20z\"/>\n",
              "  </svg>\n",
              "      </button>\n",
              "      \n",
              "  <style>\n",
              "    .colab-df-container {\n",
              "      display:flex;\n",
              "      flex-wrap:wrap;\n",
              "      gap: 12px;\n",
              "    }\n",
              "\n",
              "    .colab-df-convert {\n",
              "      background-color: #E8F0FE;\n",
              "      border: none;\n",
              "      border-radius: 50%;\n",
              "      cursor: pointer;\n",
              "      display: none;\n",
              "      fill: #1967D2;\n",
              "      height: 32px;\n",
              "      padding: 0 0 0 0;\n",
              "      width: 32px;\n",
              "    }\n",
              "\n",
              "    .colab-df-convert:hover {\n",
              "      background-color: #E2EBFA;\n",
              "      box-shadow: 0px 1px 2px rgba(60, 64, 67, 0.3), 0px 1px 3px 1px rgba(60, 64, 67, 0.15);\n",
              "      fill: #174EA6;\n",
              "    }\n",
              "\n",
              "    [theme=dark] .colab-df-convert {\n",
              "      background-color: #3B4455;\n",
              "      fill: #D2E3FC;\n",
              "    }\n",
              "\n",
              "    [theme=dark] .colab-df-convert:hover {\n",
              "      background-color: #434B5C;\n",
              "      box-shadow: 0px 1px 3px 1px rgba(0, 0, 0, 0.15);\n",
              "      filter: drop-shadow(0px 1px 2px rgba(0, 0, 0, 0.3));\n",
              "      fill: #FFFFFF;\n",
              "    }\n",
              "  </style>\n",
              "\n",
              "      <script>\n",
              "        const buttonEl =\n",
              "          document.querySelector('#df-34306e1a-29ae-44e2-aad2-1b5f49d4057c button.colab-df-convert');\n",
              "        buttonEl.style.display =\n",
              "          google.colab.kernel.accessAllowed ? 'block' : 'none';\n",
              "\n",
              "        async function convertToInteractive(key) {\n",
              "          const element = document.querySelector('#df-34306e1a-29ae-44e2-aad2-1b5f49d4057c');\n",
              "          const dataTable =\n",
              "            await google.colab.kernel.invokeFunction('convertToInteractive',\n",
              "                                                     [key], {});\n",
              "          if (!dataTable) return;\n",
              "\n",
              "          const docLinkHtml = 'Like what you see? Visit the ' +\n",
              "            '<a target=\"_blank\" href=https://colab.research.google.com/notebooks/data_table.ipynb>data table notebook</a>'\n",
              "            + ' to learn more about interactive tables.';\n",
              "          element.innerHTML = '';\n",
              "          dataTable['output_type'] = 'display_data';\n",
              "          await google.colab.output.renderOutput(dataTable, element);\n",
              "          const docLink = document.createElement('div');\n",
              "          docLink.innerHTML = docLinkHtml;\n",
              "          element.appendChild(docLink);\n",
              "        }\n",
              "      </script>\n",
              "    </div>\n",
              "  </div>\n",
              "  "
            ]
          },
          "metadata": {},
          "execution_count": 76
        }
      ]
    },
    {
      "cell_type": "markdown",
      "source": [
        "## *Dataframe de otros*"
      ],
      "metadata": {
        "id": "Jo_-zVsvvEJQ"
      }
    },
    {
      "cell_type": "code",
      "source": [
        "import pandas as pd\n",
        "\n",
        "# Leer el archivo Excel\n",
        "excel_file = pd.ExcelFile('infraestructura.xlsx')\n",
        "\n",
        "# Obtener el nombre de todas las hojas en el archivo\n",
        "sheet_names = excel_file.sheet_names\n",
        "\n",
        "# Crear un diccionario para almacenar los DataFrames de cada hoja\n",
        "dataframes = {}\n",
        "\n",
        "# Iterar sobre cada hoja y crear un DataFrame correspondiente\n",
        "for sheet_name in sheet_names:\n",
        "    # Leer los datos de la hoja y almacenarlos en un DataFrame\n",
        "    df = excel_file.parse(sheet_name)\n",
        "    # Almacenar el DataFrame en el diccionario usando el nombre de la hoja como clave\n",
        "    dataframes[sheet_name] = df\n",
        "\n",
        "# Obtener el DataFrame de la hoja \"Otros\"\n",
        "otros_df = dataframes['Otros']\n",
        "\n",
        "# Visualizar el DataFrame de la hoja \"Otros\"\n",
        "print(otros_df)"
      ],
      "metadata": {
        "colab": {
          "base_uri": "https://localhost:8080/"
        },
        "id": "RhpOPZn4UpxR",
        "outputId": "5e982804-a6da-4007-e1d9-86ab880f44e0"
      },
      "execution_count": 77,
      "outputs": [
        {
          "output_type": "stream",
          "name": "stdout",
          "text": [
            "        N°                                             Nombre Departamento  \\\n",
            "0      NaN                                                NaN          NaN   \n",
            "1      NaN                                      Salas de cine          NaN   \n",
            "2     13.0  Tinglado de las iglesias de Santa Ana y Virgen...   Concepción   \n",
            "3     14.0             Tinglado Municipal  (con multifunción)   Concepción   \n",
            "4     15.0                              El Gimnasio Municipal    San Pedro   \n",
            "..     ...                                                ...          ...   \n",
            "377  357.0                                                NaN          NaN   \n",
            "378  358.0                                                NaN          NaN   \n",
            "379  359.0                                                NaN          NaN   \n",
            "380  360.0                                                NaN          NaN   \n",
            "381  361.0                                                NaN          NaN   \n",
            "\n",
            "            Distrito                          Dirección Zona Geográfica  \\\n",
            "0                NaN                                NaN             NaN   \n",
            "1                NaN                                NaN             NaN   \n",
            "2             Azotey                                NaN             NaN   \n",
            "3            Yby Yaú  Mariscal López y Avenida San Juan     Zona urbana   \n",
            "4    25 de Diciembre                                NaN             NaN   \n",
            "..               ...                                ...             ...   \n",
            "377              NaN                                NaN             NaN   \n",
            "378              NaN                                NaN             NaN   \n",
            "379              NaN                                NaN             NaN   \n",
            "380              NaN                                NaN             NaN   \n",
            "381              NaN                                NaN             NaN   \n",
            "\n",
            "             Fuente de la Información  Nro. de Registro  \n",
            "0                                 NaN               NaN  \n",
            "1                                 NaN               NaN  \n",
            "2                                 NaN               NaN  \n",
            "3            Municipalidad de Yby Yaú               NaN  \n",
            "4    Municipalidad de 25 de Diciembre               NaN  \n",
            "..                                ...               ...  \n",
            "377                               NaN               NaN  \n",
            "378                               NaN               NaN  \n",
            "379                               NaN               NaN  \n",
            "380                               NaN               NaN  \n",
            "381                               NaN               NaN  \n",
            "\n",
            "[382 rows x 8 columns]\n"
          ]
        }
      ]
    },
    {
      "cell_type": "markdown",
      "source": [
        "###Exploración de los datos"
      ],
      "metadata": {
        "id": "pTRw87iHaPBr"
      }
    },
    {
      "cell_type": "markdown",
      "source": [
        "Tipos de datos\n",
        "\n"
      ],
      "metadata": {
        "id": "ObX33dFfaRvs"
      }
    },
    {
      "cell_type": "code",
      "source": [
        "#Datatypes\n",
        "otros_df.dtypes"
      ],
      "metadata": {
        "colab": {
          "base_uri": "https://localhost:8080/"
        },
        "id": "gI8fiBfPaOD9",
        "outputId": "942e5c4a-fa17-40d3-fcf2-00d2d7ef493e"
      },
      "execution_count": 78,
      "outputs": [
        {
          "output_type": "execute_result",
          "data": {
            "text/plain": [
              "N°                          float64\n",
              "Nombre                       object\n",
              "Departamento                 object\n",
              "Distrito                     object\n",
              "Dirección                    object\n",
              "Zona Geográfica              object\n",
              "Fuente de la Información     object\n",
              "Nro. de Registro            float64\n",
              "dtype: object"
            ]
          },
          "metadata": {},
          "execution_count": 78
        }
      ]
    },
    {
      "cell_type": "markdown",
      "source": [
        "Valores nulos"
      ],
      "metadata": {
        "id": "S9tMkr6IahSD"
      }
    },
    {
      "cell_type": "code",
      "source": [
        "#valores nulos de otros\n",
        "#Find null values\n",
        "otros_df.isnull().sum()"
      ],
      "metadata": {
        "id": "q_NusG27vZpa",
        "colab": {
          "base_uri": "https://localhost:8080/"
        },
        "outputId": "b755d6ce-e01f-455f-ad60-77949ea36d9e"
      },
      "execution_count": 79,
      "outputs": [
        {
          "output_type": "execute_result",
          "data": {
            "text/plain": [
              "N°                           39\n",
              "Nombre                      290\n",
              "Departamento                292\n",
              "Distrito                    292\n",
              "Dirección                   315\n",
              "Zona Geográfica             300\n",
              "Fuente de la Información    294\n",
              "Nro. de Registro            382\n",
              "dtype: int64"
            ]
          },
          "metadata": {},
          "execution_count": 79
        }
      ]
    },
    {
      "cell_type": "markdown",
      "source": [
        "Eliminar Nan de las ultimas filas"
      ],
      "metadata": {
        "id": "aGGH6jwsa_EU"
      }
    },
    {
      "cell_type": "code",
      "source": [
        "otros_df = otros_df.iloc[:93].append(otros_df.iloc[93:].dropna())\n"
      ],
      "metadata": {
        "colab": {
          "base_uri": "https://localhost:8080/"
        },
        "id": "UuAwZC9obBNN",
        "outputId": "a44341c0-e5fc-49bd-e9e7-816f99fe713b"
      },
      "execution_count": 80,
      "outputs": [
        {
          "output_type": "stream",
          "name": "stderr",
          "text": [
            "<ipython-input-80-607e2384eb7d>:1: FutureWarning: The frame.append method is deprecated and will be removed from pandas in a future version. Use pandas.concat instead.\n",
            "  otros_df = otros_df.iloc[:93].append(otros_df.iloc[93:].dropna())\n"
          ]
        }
      ]
    },
    {
      "cell_type": "markdown",
      "source": [
        "Cantidad de otros"
      ],
      "metadata": {
        "id": "zncAdYtryC-F"
      }
    },
    {
      "cell_type": "code",
      "source": [
        "cantidad_otros = len(otros_df['Nombre'])\n",
        "print(\"Cantidad de otros:\", cantidad_otros)\n"
      ],
      "metadata": {
        "colab": {
          "base_uri": "https://localhost:8080/"
        },
        "id": "AD6B4PlByFLa",
        "outputId": "ea60765b-6ad8-48d5-98a4-55e795f4f082"
      },
      "execution_count": 81,
      "outputs": [
        {
          "output_type": "stream",
          "name": "stdout",
          "text": [
            "Cantidad de otros: 93\n"
          ]
        }
      ]
    },
    {
      "cell_type": "code",
      "source": [
        "otros_df\n"
      ],
      "metadata": {
        "colab": {
          "base_uri": "https://localhost:8080/",
          "height": 589
        },
        "id": "_IAjjgmsbDCi",
        "outputId": "f64eb86f-eb0d-436a-b3a9-40b5cdfc6771"
      },
      "execution_count": 82,
      "outputs": [
        {
          "output_type": "execute_result",
          "data": {
            "text/plain": [
              "      N°                                             Nombre Departamento  \\\n",
              "0    NaN                                                NaN          NaN   \n",
              "1    NaN                                      Salas de cine          NaN   \n",
              "2   13.0  Tinglado de las iglesias de Santa Ana y Virgen...   Concepción   \n",
              "3   14.0             Tinglado Municipal  (con multifunción)   Concepción   \n",
              "4   15.0                              El Gimnasio Municipal    San Pedro   \n",
              "..   ...                                                ...          ...   \n",
              "88  68.0               Salón municipal Defensores del Chaco      Central   \n",
              "89  69.0                            Polideportivo municipal      Central   \n",
              "90  70.0                                 Tinglado municipal      Central   \n",
              "91  71.0                     Salón de la casa de la cultura      Central   \n",
              "92  72.0                            Polideportivo municipal      Central   \n",
              "\n",
              "           Distrito                            Dirección Zona Geográfica  \\\n",
              "0               NaN                                  NaN             NaN   \n",
              "1               NaN                                  NaN             NaN   \n",
              "2            Azotey                                  NaN             NaN   \n",
              "3           Yby Yaú    Mariscal López y Avenida San Juan     Zona urbana   \n",
              "4   25 de Diciembre                                  NaN             NaN   \n",
              "..              ...                                  ...             ...   \n",
              "88           Limpio            San José y Capitán Medina     Zona urbana   \n",
              "89            Ñemby                                  NaN     Zona urbana   \n",
              "90     Nueva Italia  avenida Gaspar Rodríguez de Francia     Zona urbana   \n",
              "91      San Antonio                                  NaN     Zona urbana   \n",
              "92          Villeta                                  NaN     Zona urbana   \n",
              "\n",
              "            Fuente de la Información  Nro. de Registro  \n",
              "0                                NaN               NaN  \n",
              "1                                NaN               NaN  \n",
              "2                                NaN               NaN  \n",
              "3           Municipalidad de Yby Yaú               NaN  \n",
              "4   Municipalidad de 25 de Diciembre               NaN  \n",
              "..                               ...               ...  \n",
              "88           Municipalidad de Limpio               NaN  \n",
              "89            Municipalidad de Ñemby               NaN  \n",
              "90     Municipalidad de Nueva Italia               NaN  \n",
              "91      Municipalidad de San Antonio               NaN  \n",
              "92          Municipalidad de Villeta               NaN  \n",
              "\n",
              "[93 rows x 8 columns]"
            ],
            "text/html": [
              "\n",
              "  <div id=\"df-16dae95a-6586-493a-a171-d8fa7a0fc769\">\n",
              "    <div class=\"colab-df-container\">\n",
              "      <div>\n",
              "<style scoped>\n",
              "    .dataframe tbody tr th:only-of-type {\n",
              "        vertical-align: middle;\n",
              "    }\n",
              "\n",
              "    .dataframe tbody tr th {\n",
              "        vertical-align: top;\n",
              "    }\n",
              "\n",
              "    .dataframe thead th {\n",
              "        text-align: right;\n",
              "    }\n",
              "</style>\n",
              "<table border=\"1\" class=\"dataframe\">\n",
              "  <thead>\n",
              "    <tr style=\"text-align: right;\">\n",
              "      <th></th>\n",
              "      <th>N°</th>\n",
              "      <th>Nombre</th>\n",
              "      <th>Departamento</th>\n",
              "      <th>Distrito</th>\n",
              "      <th>Dirección</th>\n",
              "      <th>Zona Geográfica</th>\n",
              "      <th>Fuente de la Información</th>\n",
              "      <th>Nro. de Registro</th>\n",
              "    </tr>\n",
              "  </thead>\n",
              "  <tbody>\n",
              "    <tr>\n",
              "      <th>0</th>\n",
              "      <td>NaN</td>\n",
              "      <td>NaN</td>\n",
              "      <td>NaN</td>\n",
              "      <td>NaN</td>\n",
              "      <td>NaN</td>\n",
              "      <td>NaN</td>\n",
              "      <td>NaN</td>\n",
              "      <td>NaN</td>\n",
              "    </tr>\n",
              "    <tr>\n",
              "      <th>1</th>\n",
              "      <td>NaN</td>\n",
              "      <td>Salas de cine</td>\n",
              "      <td>NaN</td>\n",
              "      <td>NaN</td>\n",
              "      <td>NaN</td>\n",
              "      <td>NaN</td>\n",
              "      <td>NaN</td>\n",
              "      <td>NaN</td>\n",
              "    </tr>\n",
              "    <tr>\n",
              "      <th>2</th>\n",
              "      <td>13.0</td>\n",
              "      <td>Tinglado de las iglesias de Santa Ana y Virgen...</td>\n",
              "      <td>Concepción</td>\n",
              "      <td>Azotey</td>\n",
              "      <td>NaN</td>\n",
              "      <td>NaN</td>\n",
              "      <td>NaN</td>\n",
              "      <td>NaN</td>\n",
              "    </tr>\n",
              "    <tr>\n",
              "      <th>3</th>\n",
              "      <td>14.0</td>\n",
              "      <td>Tinglado Municipal  (con multifunción)</td>\n",
              "      <td>Concepción</td>\n",
              "      <td>Yby Yaú</td>\n",
              "      <td>Mariscal López y Avenida San Juan</td>\n",
              "      <td>Zona urbana</td>\n",
              "      <td>Municipalidad de Yby Yaú</td>\n",
              "      <td>NaN</td>\n",
              "    </tr>\n",
              "    <tr>\n",
              "      <th>4</th>\n",
              "      <td>15.0</td>\n",
              "      <td>El Gimnasio Municipal</td>\n",
              "      <td>San Pedro</td>\n",
              "      <td>25 de Diciembre</td>\n",
              "      <td>NaN</td>\n",
              "      <td>NaN</td>\n",
              "      <td>Municipalidad de 25 de Diciembre</td>\n",
              "      <td>NaN</td>\n",
              "    </tr>\n",
              "    <tr>\n",
              "      <th>...</th>\n",
              "      <td>...</td>\n",
              "      <td>...</td>\n",
              "      <td>...</td>\n",
              "      <td>...</td>\n",
              "      <td>...</td>\n",
              "      <td>...</td>\n",
              "      <td>...</td>\n",
              "      <td>...</td>\n",
              "    </tr>\n",
              "    <tr>\n",
              "      <th>88</th>\n",
              "      <td>68.0</td>\n",
              "      <td>Salón municipal Defensores del Chaco</td>\n",
              "      <td>Central</td>\n",
              "      <td>Limpio</td>\n",
              "      <td>San José y Capitán Medina</td>\n",
              "      <td>Zona urbana</td>\n",
              "      <td>Municipalidad de Limpio</td>\n",
              "      <td>NaN</td>\n",
              "    </tr>\n",
              "    <tr>\n",
              "      <th>89</th>\n",
              "      <td>69.0</td>\n",
              "      <td>Polideportivo municipal</td>\n",
              "      <td>Central</td>\n",
              "      <td>Ñemby</td>\n",
              "      <td>NaN</td>\n",
              "      <td>Zona urbana</td>\n",
              "      <td>Municipalidad de Ñemby</td>\n",
              "      <td>NaN</td>\n",
              "    </tr>\n",
              "    <tr>\n",
              "      <th>90</th>\n",
              "      <td>70.0</td>\n",
              "      <td>Tinglado municipal</td>\n",
              "      <td>Central</td>\n",
              "      <td>Nueva Italia</td>\n",
              "      <td>avenida Gaspar Rodríguez de Francia</td>\n",
              "      <td>Zona urbana</td>\n",
              "      <td>Municipalidad de Nueva Italia</td>\n",
              "      <td>NaN</td>\n",
              "    </tr>\n",
              "    <tr>\n",
              "      <th>91</th>\n",
              "      <td>71.0</td>\n",
              "      <td>Salón de la casa de la cultura</td>\n",
              "      <td>Central</td>\n",
              "      <td>San Antonio</td>\n",
              "      <td>NaN</td>\n",
              "      <td>Zona urbana</td>\n",
              "      <td>Municipalidad de San Antonio</td>\n",
              "      <td>NaN</td>\n",
              "    </tr>\n",
              "    <tr>\n",
              "      <th>92</th>\n",
              "      <td>72.0</td>\n",
              "      <td>Polideportivo municipal</td>\n",
              "      <td>Central</td>\n",
              "      <td>Villeta</td>\n",
              "      <td>NaN</td>\n",
              "      <td>Zona urbana</td>\n",
              "      <td>Municipalidad de Villeta</td>\n",
              "      <td>NaN</td>\n",
              "    </tr>\n",
              "  </tbody>\n",
              "</table>\n",
              "<p>93 rows × 8 columns</p>\n",
              "</div>\n",
              "      <button class=\"colab-df-convert\" onclick=\"convertToInteractive('df-16dae95a-6586-493a-a171-d8fa7a0fc769')\"\n",
              "              title=\"Convert this dataframe to an interactive table.\"\n",
              "              style=\"display:none;\">\n",
              "        \n",
              "  <svg xmlns=\"http://www.w3.org/2000/svg\" height=\"24px\"viewBox=\"0 0 24 24\"\n",
              "       width=\"24px\">\n",
              "    <path d=\"M0 0h24v24H0V0z\" fill=\"none\"/>\n",
              "    <path d=\"M18.56 5.44l.94 2.06.94-2.06 2.06-.94-2.06-.94-.94-2.06-.94 2.06-2.06.94zm-11 1L8.5 8.5l.94-2.06 2.06-.94-2.06-.94L8.5 2.5l-.94 2.06-2.06.94zm10 10l.94 2.06.94-2.06 2.06-.94-2.06-.94-.94-2.06-.94 2.06-2.06.94z\"/><path d=\"M17.41 7.96l-1.37-1.37c-.4-.4-.92-.59-1.43-.59-.52 0-1.04.2-1.43.59L10.3 9.45l-7.72 7.72c-.78.78-.78 2.05 0 2.83L4 21.41c.39.39.9.59 1.41.59.51 0 1.02-.2 1.41-.59l7.78-7.78 2.81-2.81c.8-.78.8-2.07 0-2.86zM5.41 20L4 18.59l7.72-7.72 1.47 1.35L5.41 20z\"/>\n",
              "  </svg>\n",
              "      </button>\n",
              "      \n",
              "  <style>\n",
              "    .colab-df-container {\n",
              "      display:flex;\n",
              "      flex-wrap:wrap;\n",
              "      gap: 12px;\n",
              "    }\n",
              "\n",
              "    .colab-df-convert {\n",
              "      background-color: #E8F0FE;\n",
              "      border: none;\n",
              "      border-radius: 50%;\n",
              "      cursor: pointer;\n",
              "      display: none;\n",
              "      fill: #1967D2;\n",
              "      height: 32px;\n",
              "      padding: 0 0 0 0;\n",
              "      width: 32px;\n",
              "    }\n",
              "\n",
              "    .colab-df-convert:hover {\n",
              "      background-color: #E2EBFA;\n",
              "      box-shadow: 0px 1px 2px rgba(60, 64, 67, 0.3), 0px 1px 3px 1px rgba(60, 64, 67, 0.15);\n",
              "      fill: #174EA6;\n",
              "    }\n",
              "\n",
              "    [theme=dark] .colab-df-convert {\n",
              "      background-color: #3B4455;\n",
              "      fill: #D2E3FC;\n",
              "    }\n",
              "\n",
              "    [theme=dark] .colab-df-convert:hover {\n",
              "      background-color: #434B5C;\n",
              "      box-shadow: 0px 1px 3px 1px rgba(0, 0, 0, 0.15);\n",
              "      filter: drop-shadow(0px 1px 2px rgba(0, 0, 0, 0.3));\n",
              "      fill: #FFFFFF;\n",
              "    }\n",
              "  </style>\n",
              "\n",
              "      <script>\n",
              "        const buttonEl =\n",
              "          document.querySelector('#df-16dae95a-6586-493a-a171-d8fa7a0fc769 button.colab-df-convert');\n",
              "        buttonEl.style.display =\n",
              "          google.colab.kernel.accessAllowed ? 'block' : 'none';\n",
              "\n",
              "        async function convertToInteractive(key) {\n",
              "          const element = document.querySelector('#df-16dae95a-6586-493a-a171-d8fa7a0fc769');\n",
              "          const dataTable =\n",
              "            await google.colab.kernel.invokeFunction('convertToInteractive',\n",
              "                                                     [key], {});\n",
              "          if (!dataTable) return;\n",
              "\n",
              "          const docLinkHtml = 'Like what you see? Visit the ' +\n",
              "            '<a target=\"_blank\" href=https://colab.research.google.com/notebooks/data_table.ipynb>data table notebook</a>'\n",
              "            + ' to learn more about interactive tables.';\n",
              "          element.innerHTML = '';\n",
              "          dataTable['output_type'] = 'display_data';\n",
              "          await google.colab.output.renderOutput(dataTable, element);\n",
              "          const docLink = document.createElement('div');\n",
              "          docLink.innerHTML = docLinkHtml;\n",
              "          element.appendChild(docLink);\n",
              "        }\n",
              "      </script>\n",
              "    </div>\n",
              "  </div>\n",
              "  "
            ]
          },
          "metadata": {},
          "execution_count": 82
        }
      ]
    },
    {
      "cell_type": "markdown",
      "source": [
        "#Analisis de las infraestructuras culturales, agrupadas por entretenimiento y fines academicos\n",
        "\n",
        "-----"
      ],
      "metadata": {
        "id": "JjBdgaRQb131"
      }
    },
    {
      "cell_type": "markdown",
      "source": [
        "Dataframes\n",
        "\n",
        "*   biblioteca_df\n",
        "*   salasdecine_df\n",
        "*   salasdeteatro_df\n",
        "*   museos_df\n",
        "*   librerias_df\n",
        "*   galeriasdearte_df\n",
        "*   colegiosyescuelas_df\n",
        "*   insteducativasyuniversit_df\n",
        "*   instdeenseñanzartistica_df\n",
        "*   centrosculturales_df\n",
        "*   otros_df\n",
        "*\n",
        "\n",
        "\n",
        "\n",
        "\n"
      ],
      "metadata": {
        "id": "vwSV167wd-1j"
      }
    },
    {
      "cell_type": "markdown",
      "source": [
        "Para agrupar los dataframes según corresponda a entretenimiento, fines académicos y otros, es necesario seguir los siguientes pasos utilizando el método concat:\n",
        "\n",
        "Para los dataframes relacionados con entretenimiento:"
      ],
      "metadata": {
        "id": "2B_M6Wenicf1"
      }
    },
    {
      "cell_type": "code",
      "source": [
        "import pandas as pd\n",
        "\n",
        "# Creación de los dataframes de entretenimiento y fines académicos\n",
        "entretenimiento_df = pd.DataFrame()\n",
        "academico_df = pd.DataFrame()\n",
        "\n",
        "# Categorización de los dataframes\n",
        "dataframes = [biblioteca_df, salasdecine_df, saladeteatro_df, museos_df, librerias_df,\n",
        "              galeriasdearte_df, colegiosyescuelas_df, insteducativasyuniversit_df,\n",
        "              instdeenseñanzartistica_df, centrosculturales_df, otros_df]\n",
        "\n",
        "for df in dataframes:\n",
        "    # Eliminar filas con NaN en todas las columnas\n",
        "    df_sin_nan = df.dropna(how='all')\n",
        "\n",
        "    if 'biblioteca' in df.columns[0].lower():\n",
        "        fines_academicos_df = fines_academicos_df.append(df_sin_nan)\n",
        "    else:\n",
        "        entretenimiento_df = entretenimiento_df.append(df_sin_nan)\n",
        "\n",
        "# Reiniciar los índices de los dataframes resultantes\n",
        "entretenimiento_df = entretenimiento_df.reset_index(drop=True)\n",
        "fines_academicos_df = academico_df.reset_index(drop=True)\n",
        "\n",
        "# Imprimir los dataframes resultantes\n",
        "print(\"Entretenimiento:\")\n",
        "print(entretenimiento_df)\n",
        "\n",
        "print(\"Fines académicos:\")\n",
        "print(fines_academicos_df)\n"
      ],
      "metadata": {
        "colab": {
          "base_uri": "https://localhost:8080/"
        },
        "id": "taTt0nNd8xry",
        "outputId": "acd518a7-edce-48bb-f5a3-881582ecdb61"
      },
      "execution_count": 90,
      "outputs": [
        {
          "output_type": "stream",
          "name": "stdout",
          "text": [
            "Entretenimiento:\n",
            "        N°                                             Nombre Departamento  \\\n",
            "0      1.0  Biblioteca Central Universidad Nacional de Asu...      Central   \n",
            "1      2.0               Centro Nacional de Computación - UNA      Central   \n",
            "2      3.0                Facultad de Ciencias Agrarias - UNA      Central   \n",
            "3      4.0            Facultad de Ciencias Veterinarias - UNA      Central   \n",
            "4      5.0                 Facultad de Ciencias Médicas - UNA      Central   \n",
            "...    ...                                                ...          ...   \n",
            "2006  68.0               Salón municipal Defensores del Chaco      Central   \n",
            "2007  69.0                            Polideportivo municipal      Central   \n",
            "2008  70.0                                 Tinglado municipal      Central   \n",
            "2009  71.0                     Salón de la casa de la cultura      Central   \n",
            "2010  72.0                            Polideportivo municipal      Central   \n",
            "\n",
            "          Distrito                            Dirección Zona Geográfica  \\\n",
            "0      San Lorenzo                     Campus de la UNA     Zona urbana   \n",
            "1      San Lorenzo                     Campus de la UNA     Zona urbana   \n",
            "2      San Lorenzo                     Campus de la UNA     Zona urbana   \n",
            "3      San Lorenzo                     Campus de la UNA     Zona urbana   \n",
            "4      San Lorenzo    Doctor Montero 658 casi Lagerenza     Zona urbana   \n",
            "...            ...                                  ...             ...   \n",
            "2006        Limpio            San José y Capitán Medina     Zona urbana   \n",
            "2007         Ñemby                                  NaN     Zona urbana   \n",
            "2008  Nueva Italia  avenida Gaspar Rodríguez de Francia     Zona urbana   \n",
            "2009   San Antonio                                  NaN     Zona urbana   \n",
            "2010       Villeta                                  NaN     Zona urbana   \n",
            "\n",
            "           Fuente de la Información  Número de Registro Observaciones  \\\n",
            "0         Bibliotecas de la UNA.pdf                 1.0           NaN   \n",
            "1         Bibliotecas de la UNA.pdf                 2.0           NaN   \n",
            "2         Bibliotecas de la UNA.pdf                 3.0           NaN   \n",
            "3         Bibliotecas de la UNA.pdf                 4.0           NaN   \n",
            "4         Bibliotecas de la UNA.pdf                 5.0           NaN   \n",
            "...                             ...                 ...           ...   \n",
            "2006        Municipalidad de Limpio                 NaN           NaN   \n",
            "2007         Municipalidad de Ñemby                 NaN           NaN   \n",
            "2008  Municipalidad de Nueva Italia                 NaN           NaN   \n",
            "2009   Municipalidad de San Antonio                 NaN           NaN   \n",
            "2010       Municipalidad de Villeta                 NaN           NaN   \n",
            "\n",
            "      Nro. de Registro Fuente la información  Número de registro  \\\n",
            "0                  NaN                   NaN                 NaN   \n",
            "1                  NaN                   NaN                 NaN   \n",
            "2                  NaN                   NaN                 NaN   \n",
            "3                  NaN                   NaN                 NaN   \n",
            "4                  NaN                   NaN                 NaN   \n",
            "...                ...                   ...                 ...   \n",
            "2006               NaN                   NaN                 NaN   \n",
            "2007               NaN                   NaN                 NaN   \n",
            "2008               NaN                   NaN                 NaN   \n",
            "2009               NaN                   NaN                 NaN   \n",
            "2010               NaN                   NaN                 NaN   \n",
            "\n",
            "     Fuente de la información       N° de registro  \n",
            "0                         NaN  NaN             NaN  \n",
            "1                         NaN  NaN             NaN  \n",
            "2                         NaN  NaN             NaN  \n",
            "3                         NaN  NaN             NaN  \n",
            "4                         NaN  NaN             NaN  \n",
            "...                       ...  ...             ...  \n",
            "2006                      NaN  NaN             NaN  \n",
            "2007                      NaN  NaN             NaN  \n",
            "2008                      NaN  NaN             NaN  \n",
            "2009                      NaN  NaN             NaN  \n",
            "2010                      NaN  NaN             NaN  \n",
            "\n",
            "[2011 rows x 15 columns]\n",
            "Fines académicos:\n",
            "Empty DataFrame\n",
            "Columns: []\n",
            "Index: []\n"
          ]
        },
        {
          "output_type": "stream",
          "name": "stderr",
          "text": [
            "<ipython-input-90-b21aa3f87a94>:19: FutureWarning: The frame.append method is deprecated and will be removed from pandas in a future version. Use pandas.concat instead.\n",
            "  entretenimiento_df = entretenimiento_df.append(df_sin_nan)\n",
            "<ipython-input-90-b21aa3f87a94>:19: FutureWarning: The frame.append method is deprecated and will be removed from pandas in a future version. Use pandas.concat instead.\n",
            "  entretenimiento_df = entretenimiento_df.append(df_sin_nan)\n",
            "<ipython-input-90-b21aa3f87a94>:19: FutureWarning: The frame.append method is deprecated and will be removed from pandas in a future version. Use pandas.concat instead.\n",
            "  entretenimiento_df = entretenimiento_df.append(df_sin_nan)\n",
            "<ipython-input-90-b21aa3f87a94>:19: FutureWarning: The frame.append method is deprecated and will be removed from pandas in a future version. Use pandas.concat instead.\n",
            "  entretenimiento_df = entretenimiento_df.append(df_sin_nan)\n",
            "<ipython-input-90-b21aa3f87a94>:19: FutureWarning: The frame.append method is deprecated and will be removed from pandas in a future version. Use pandas.concat instead.\n",
            "  entretenimiento_df = entretenimiento_df.append(df_sin_nan)\n",
            "<ipython-input-90-b21aa3f87a94>:19: FutureWarning: The frame.append method is deprecated and will be removed from pandas in a future version. Use pandas.concat instead.\n",
            "  entretenimiento_df = entretenimiento_df.append(df_sin_nan)\n",
            "<ipython-input-90-b21aa3f87a94>:19: FutureWarning: The frame.append method is deprecated and will be removed from pandas in a future version. Use pandas.concat instead.\n",
            "  entretenimiento_df = entretenimiento_df.append(df_sin_nan)\n",
            "<ipython-input-90-b21aa3f87a94>:19: FutureWarning: The frame.append method is deprecated and will be removed from pandas in a future version. Use pandas.concat instead.\n",
            "  entretenimiento_df = entretenimiento_df.append(df_sin_nan)\n",
            "<ipython-input-90-b21aa3f87a94>:19: FutureWarning: The frame.append method is deprecated and will be removed from pandas in a future version. Use pandas.concat instead.\n",
            "  entretenimiento_df = entretenimiento_df.append(df_sin_nan)\n",
            "<ipython-input-90-b21aa3f87a94>:19: FutureWarning: The frame.append method is deprecated and will be removed from pandas in a future version. Use pandas.concat instead.\n",
            "  entretenimiento_df = entretenimiento_df.append(df_sin_nan)\n",
            "<ipython-input-90-b21aa3f87a94>:19: FutureWarning: The frame.append method is deprecated and will be removed from pandas in a future version. Use pandas.concat instead.\n",
            "  entretenimiento_df = entretenimiento_df.append(df_sin_nan)\n"
          ]
        }
      ]
    },
    {
      "cell_type": "code",
      "source": [
        "entretenimiento_df = pd.concat([salasdecine_df, saladeteatro_df, galeriasdearte_df, centrosculturales_df])\n"
      ],
      "metadata": {
        "id": "Fok7_oUhikJs"
      },
      "execution_count": 86,
      "outputs": []
    },
    {
      "cell_type": "code",
      "source": [
        "entretenimiento_df"
      ],
      "metadata": {
        "colab": {
          "base_uri": "https://localhost:8080/",
          "height": 1000
        },
        "id": "Tr1xmEI6iuS1",
        "outputId": "a720e319-ae63-4176-c42a-194815cdc557"
      },
      "execution_count": 87,
      "outputs": [
        {
          "output_type": "execute_result",
          "data": {
            "text/plain": [
              "        N°                                             Nombre  \\\n",
              "1      1.0                           Cines del Mall Excelsior   \n",
              "2      2.0                                 Cines Itaú del Sol   \n",
              "3      3.0                               Cines Itaú Hiperseis   \n",
              "4      4.0                              Cines Itaú Multiplaza   \n",
              "5      5.0                              Real Cines Acceso Sur   \n",
              "..     ...                                                ...   \n",
              "108  112.0                         Centro Cultural Mercedita    \n",
              "109  114.0                       Centro Cultural de Artesanía   \n",
              "110  115.0                           Centro Cultural Melodía    \n",
              "111  116.0  Centro Cultural del Bicentenario Presidente Ha...   \n",
              "112  117.0                 Centro Social y Cultural Municipal   \n",
              "\n",
              "         Departamento                          Distrito  \\\n",
              "1             Capital                          Asunción   \n",
              "2             Capital                          Asunción   \n",
              "3             Capital                          Asunción   \n",
              "4             Capital                          Asunción   \n",
              "5             Central               Fernando de la Mora   \n",
              "..                ...                               ...   \n",
              "108  Presidente Hayes                   Benjamín Aceval   \n",
              "109  Presidente Hayes                    Puerto Pinasco   \n",
              "110  Presidente Hayes                       Villa Hayes   \n",
              "111  Presidente Hayes                       Villa Hayes   \n",
              "112          Boquerón  Mariscal José Félix Estigarribia   \n",
              "\n",
              "                                             Dirección Zona Geográfica  \\\n",
              "1                              Chile esquina Manduvirá     Zona urbana   \n",
              "2    Avenida Aviadores del Chaco y Profesora Delia ...     Zona urbana   \n",
              "3              Avenida Mariscal López y Teniente Casco     Zona urbana   \n",
              "4    Avenida Eusebio Ayala 4501 - Kilómetro  5 (Seg...     Zona urbana   \n",
              "5                             Acceso Sur c/ Usher Ríos     Zona urbana   \n",
              "..                                                 ...             ...   \n",
              "108                   Independencia y Lomas Valentinas     Zona urbana   \n",
              "109                 Don Bosco y Padre Esteban Sildívar     Zona urbana   \n",
              "110                       Avenidas Lauro Hayes y Colón     Zona urbana   \n",
              "111                Ribera del Rio Paraguay y Curupayty     Zona urbana   \n",
              "112                                 Barrio San Antonio     Zona urbana   \n",
              "\n",
              "                              Fuente de la Información  Nro. de Registro  \\\n",
              "1    Dirección de Creación y Diversidad - Departame...               1.0   \n",
              "2    Dirección de Creación y Diversidad - Departame...               2.0   \n",
              "3    Dirección de Creación y Diversidad - Departame...               3.0   \n",
              "4    Dirección de Creación y Diversidad - Departame...               4.0   \n",
              "5    Dirección de Creación y Diversidad - Departame...               5.0   \n",
              "..                                                 ...               ...   \n",
              "108                                                NaN               NaN   \n",
              "109                                                NaN               NaN   \n",
              "110                                                NaN               NaN   \n",
              "111                                                NaN               NaN   \n",
              "112                                                NaN               NaN   \n",
              "\n",
              "                              Fuente de la información  Número de registro  \\\n",
              "1                                                  NaN                 NaN   \n",
              "2                                                  NaN                 NaN   \n",
              "3                                                  NaN                 NaN   \n",
              "4                                                  NaN                 NaN   \n",
              "5                                                  NaN                 NaN   \n",
              "..                                                 ...                 ...   \n",
              "108                   Municipalidad de Benjamín Aceval                 NaN   \n",
              "109                    Municipalidad de Puerto Pinasco                 NaN   \n",
              "110                       Municipalidad de Villa Hayes                 NaN   \n",
              "111                       Municipalidad de Villa Hayes                 NaN   \n",
              "112  Municipalidad de Mariscal José Félix Estigarribia                 NaN   \n",
              "\n",
              "    Observaciones  \n",
              "1             NaN  \n",
              "2             NaN  \n",
              "3             NaN  \n",
              "4             NaN  \n",
              "5             NaN  \n",
              "..            ...  \n",
              "108           NaN  \n",
              "109           NaN  \n",
              "110           NaN  \n",
              "111           NaN  \n",
              "112           NaN  \n",
              "\n",
              "[214 rows x 11 columns]"
            ],
            "text/html": [
              "\n",
              "  <div id=\"df-ef3dd07a-62a9-47ef-83fb-7d870ddf6b96\">\n",
              "    <div class=\"colab-df-container\">\n",
              "      <div>\n",
              "<style scoped>\n",
              "    .dataframe tbody tr th:only-of-type {\n",
              "        vertical-align: middle;\n",
              "    }\n",
              "\n",
              "    .dataframe tbody tr th {\n",
              "        vertical-align: top;\n",
              "    }\n",
              "\n",
              "    .dataframe thead th {\n",
              "        text-align: right;\n",
              "    }\n",
              "</style>\n",
              "<table border=\"1\" class=\"dataframe\">\n",
              "  <thead>\n",
              "    <tr style=\"text-align: right;\">\n",
              "      <th></th>\n",
              "      <th>N°</th>\n",
              "      <th>Nombre</th>\n",
              "      <th>Departamento</th>\n",
              "      <th>Distrito</th>\n",
              "      <th>Dirección</th>\n",
              "      <th>Zona Geográfica</th>\n",
              "      <th>Fuente de la Información</th>\n",
              "      <th>Nro. de Registro</th>\n",
              "      <th>Fuente de la información</th>\n",
              "      <th>Número de registro</th>\n",
              "      <th>Observaciones</th>\n",
              "    </tr>\n",
              "  </thead>\n",
              "  <tbody>\n",
              "    <tr>\n",
              "      <th>1</th>\n",
              "      <td>1.0</td>\n",
              "      <td>Cines del Mall Excelsior</td>\n",
              "      <td>Capital</td>\n",
              "      <td>Asunción</td>\n",
              "      <td>Chile esquina Manduvirá</td>\n",
              "      <td>Zona urbana</td>\n",
              "      <td>Dirección de Creación y Diversidad - Departame...</td>\n",
              "      <td>1.0</td>\n",
              "      <td>NaN</td>\n",
              "      <td>NaN</td>\n",
              "      <td>NaN</td>\n",
              "    </tr>\n",
              "    <tr>\n",
              "      <th>2</th>\n",
              "      <td>2.0</td>\n",
              "      <td>Cines Itaú del Sol</td>\n",
              "      <td>Capital</td>\n",
              "      <td>Asunción</td>\n",
              "      <td>Avenida Aviadores del Chaco y Profesora Delia ...</td>\n",
              "      <td>Zona urbana</td>\n",
              "      <td>Dirección de Creación y Diversidad - Departame...</td>\n",
              "      <td>2.0</td>\n",
              "      <td>NaN</td>\n",
              "      <td>NaN</td>\n",
              "      <td>NaN</td>\n",
              "    </tr>\n",
              "    <tr>\n",
              "      <th>3</th>\n",
              "      <td>3.0</td>\n",
              "      <td>Cines Itaú Hiperseis</td>\n",
              "      <td>Capital</td>\n",
              "      <td>Asunción</td>\n",
              "      <td>Avenida Mariscal López y Teniente Casco</td>\n",
              "      <td>Zona urbana</td>\n",
              "      <td>Dirección de Creación y Diversidad - Departame...</td>\n",
              "      <td>3.0</td>\n",
              "      <td>NaN</td>\n",
              "      <td>NaN</td>\n",
              "      <td>NaN</td>\n",
              "    </tr>\n",
              "    <tr>\n",
              "      <th>4</th>\n",
              "      <td>4.0</td>\n",
              "      <td>Cines Itaú Multiplaza</td>\n",
              "      <td>Capital</td>\n",
              "      <td>Asunción</td>\n",
              "      <td>Avenida Eusebio Ayala 4501 - Kilómetro  5 (Seg...</td>\n",
              "      <td>Zona urbana</td>\n",
              "      <td>Dirección de Creación y Diversidad - Departame...</td>\n",
              "      <td>4.0</td>\n",
              "      <td>NaN</td>\n",
              "      <td>NaN</td>\n",
              "      <td>NaN</td>\n",
              "    </tr>\n",
              "    <tr>\n",
              "      <th>5</th>\n",
              "      <td>5.0</td>\n",
              "      <td>Real Cines Acceso Sur</td>\n",
              "      <td>Central</td>\n",
              "      <td>Fernando de la Mora</td>\n",
              "      <td>Acceso Sur c/ Usher Ríos</td>\n",
              "      <td>Zona urbana</td>\n",
              "      <td>Dirección de Creación y Diversidad - Departame...</td>\n",
              "      <td>5.0</td>\n",
              "      <td>NaN</td>\n",
              "      <td>NaN</td>\n",
              "      <td>NaN</td>\n",
              "    </tr>\n",
              "    <tr>\n",
              "      <th>...</th>\n",
              "      <td>...</td>\n",
              "      <td>...</td>\n",
              "      <td>...</td>\n",
              "      <td>...</td>\n",
              "      <td>...</td>\n",
              "      <td>...</td>\n",
              "      <td>...</td>\n",
              "      <td>...</td>\n",
              "      <td>...</td>\n",
              "      <td>...</td>\n",
              "      <td>...</td>\n",
              "    </tr>\n",
              "    <tr>\n",
              "      <th>108</th>\n",
              "      <td>112.0</td>\n",
              "      <td>Centro Cultural Mercedita</td>\n",
              "      <td>Presidente Hayes</td>\n",
              "      <td>Benjamín Aceval</td>\n",
              "      <td>Independencia y Lomas Valentinas</td>\n",
              "      <td>Zona urbana</td>\n",
              "      <td>NaN</td>\n",
              "      <td>NaN</td>\n",
              "      <td>Municipalidad de Benjamín Aceval</td>\n",
              "      <td>NaN</td>\n",
              "      <td>NaN</td>\n",
              "    </tr>\n",
              "    <tr>\n",
              "      <th>109</th>\n",
              "      <td>114.0</td>\n",
              "      <td>Centro Cultural de Artesanía</td>\n",
              "      <td>Presidente Hayes</td>\n",
              "      <td>Puerto Pinasco</td>\n",
              "      <td>Don Bosco y Padre Esteban Sildívar</td>\n",
              "      <td>Zona urbana</td>\n",
              "      <td>NaN</td>\n",
              "      <td>NaN</td>\n",
              "      <td>Municipalidad de Puerto Pinasco</td>\n",
              "      <td>NaN</td>\n",
              "      <td>NaN</td>\n",
              "    </tr>\n",
              "    <tr>\n",
              "      <th>110</th>\n",
              "      <td>115.0</td>\n",
              "      <td>Centro Cultural Melodía</td>\n",
              "      <td>Presidente Hayes</td>\n",
              "      <td>Villa Hayes</td>\n",
              "      <td>Avenidas Lauro Hayes y Colón</td>\n",
              "      <td>Zona urbana</td>\n",
              "      <td>NaN</td>\n",
              "      <td>NaN</td>\n",
              "      <td>Municipalidad de Villa Hayes</td>\n",
              "      <td>NaN</td>\n",
              "      <td>NaN</td>\n",
              "    </tr>\n",
              "    <tr>\n",
              "      <th>111</th>\n",
              "      <td>116.0</td>\n",
              "      <td>Centro Cultural del Bicentenario Presidente Ha...</td>\n",
              "      <td>Presidente Hayes</td>\n",
              "      <td>Villa Hayes</td>\n",
              "      <td>Ribera del Rio Paraguay y Curupayty</td>\n",
              "      <td>Zona urbana</td>\n",
              "      <td>NaN</td>\n",
              "      <td>NaN</td>\n",
              "      <td>Municipalidad de Villa Hayes</td>\n",
              "      <td>NaN</td>\n",
              "      <td>NaN</td>\n",
              "    </tr>\n",
              "    <tr>\n",
              "      <th>112</th>\n",
              "      <td>117.0</td>\n",
              "      <td>Centro Social y Cultural Municipal</td>\n",
              "      <td>Boquerón</td>\n",
              "      <td>Mariscal José Félix Estigarribia</td>\n",
              "      <td>Barrio San Antonio</td>\n",
              "      <td>Zona urbana</td>\n",
              "      <td>NaN</td>\n",
              "      <td>NaN</td>\n",
              "      <td>Municipalidad de Mariscal José Félix Estigarribia</td>\n",
              "      <td>NaN</td>\n",
              "      <td>NaN</td>\n",
              "    </tr>\n",
              "  </tbody>\n",
              "</table>\n",
              "<p>214 rows × 11 columns</p>\n",
              "</div>\n",
              "      <button class=\"colab-df-convert\" onclick=\"convertToInteractive('df-ef3dd07a-62a9-47ef-83fb-7d870ddf6b96')\"\n",
              "              title=\"Convert this dataframe to an interactive table.\"\n",
              "              style=\"display:none;\">\n",
              "        \n",
              "  <svg xmlns=\"http://www.w3.org/2000/svg\" height=\"24px\"viewBox=\"0 0 24 24\"\n",
              "       width=\"24px\">\n",
              "    <path d=\"M0 0h24v24H0V0z\" fill=\"none\"/>\n",
              "    <path d=\"M18.56 5.44l.94 2.06.94-2.06 2.06-.94-2.06-.94-.94-2.06-.94 2.06-2.06.94zm-11 1L8.5 8.5l.94-2.06 2.06-.94-2.06-.94L8.5 2.5l-.94 2.06-2.06.94zm10 10l.94 2.06.94-2.06 2.06-.94-2.06-.94-.94-2.06-.94 2.06-2.06.94z\"/><path d=\"M17.41 7.96l-1.37-1.37c-.4-.4-.92-.59-1.43-.59-.52 0-1.04.2-1.43.59L10.3 9.45l-7.72 7.72c-.78.78-.78 2.05 0 2.83L4 21.41c.39.39.9.59 1.41.59.51 0 1.02-.2 1.41-.59l7.78-7.78 2.81-2.81c.8-.78.8-2.07 0-2.86zM5.41 20L4 18.59l7.72-7.72 1.47 1.35L5.41 20z\"/>\n",
              "  </svg>\n",
              "      </button>\n",
              "      \n",
              "  <style>\n",
              "    .colab-df-container {\n",
              "      display:flex;\n",
              "      flex-wrap:wrap;\n",
              "      gap: 12px;\n",
              "    }\n",
              "\n",
              "    .colab-df-convert {\n",
              "      background-color: #E8F0FE;\n",
              "      border: none;\n",
              "      border-radius: 50%;\n",
              "      cursor: pointer;\n",
              "      display: none;\n",
              "      fill: #1967D2;\n",
              "      height: 32px;\n",
              "      padding: 0 0 0 0;\n",
              "      width: 32px;\n",
              "    }\n",
              "\n",
              "    .colab-df-convert:hover {\n",
              "      background-color: #E2EBFA;\n",
              "      box-shadow: 0px 1px 2px rgba(60, 64, 67, 0.3), 0px 1px 3px 1px rgba(60, 64, 67, 0.15);\n",
              "      fill: #174EA6;\n",
              "    }\n",
              "\n",
              "    [theme=dark] .colab-df-convert {\n",
              "      background-color: #3B4455;\n",
              "      fill: #D2E3FC;\n",
              "    }\n",
              "\n",
              "    [theme=dark] .colab-df-convert:hover {\n",
              "      background-color: #434B5C;\n",
              "      box-shadow: 0px 1px 3px 1px rgba(0, 0, 0, 0.15);\n",
              "      filter: drop-shadow(0px 1px 2px rgba(0, 0, 0, 0.3));\n",
              "      fill: #FFFFFF;\n",
              "    }\n",
              "  </style>\n",
              "\n",
              "      <script>\n",
              "        const buttonEl =\n",
              "          document.querySelector('#df-ef3dd07a-62a9-47ef-83fb-7d870ddf6b96 button.colab-df-convert');\n",
              "        buttonEl.style.display =\n",
              "          google.colab.kernel.accessAllowed ? 'block' : 'none';\n",
              "\n",
              "        async function convertToInteractive(key) {\n",
              "          const element = document.querySelector('#df-ef3dd07a-62a9-47ef-83fb-7d870ddf6b96');\n",
              "          const dataTable =\n",
              "            await google.colab.kernel.invokeFunction('convertToInteractive',\n",
              "                                                     [key], {});\n",
              "          if (!dataTable) return;\n",
              "\n",
              "          const docLinkHtml = 'Like what you see? Visit the ' +\n",
              "            '<a target=\"_blank\" href=https://colab.research.google.com/notebooks/data_table.ipynb>data table notebook</a>'\n",
              "            + ' to learn more about interactive tables.';\n",
              "          element.innerHTML = '';\n",
              "          dataTable['output_type'] = 'display_data';\n",
              "          await google.colab.output.renderOutput(dataTable, element);\n",
              "          const docLink = document.createElement('div');\n",
              "          docLink.innerHTML = docLinkHtml;\n",
              "          element.appendChild(docLink);\n",
              "        }\n",
              "      </script>\n",
              "    </div>\n",
              "  </div>\n",
              "  "
            ]
          },
          "metadata": {},
          "execution_count": 87
        }
      ]
    },
    {
      "cell_type": "code",
      "source": [
        "import pandas as pd\n",
        "\n",
        "\n",
        "# Función para agrupar y contar los nombres en un dataframe dado\n",
        "def contar_nombres(df, seccion):\n",
        "    agrupados = df.groupby(['Nombre', 'Distrito', 'Zona Geográfica']).size().reset_index(name='Cantidad')\n",
        "    agrupados['Sección'] = seccion\n",
        "    return agrupados\n",
        "\n",
        "# Aplicar la función a cada sección del dataframe entretenimiento_df\n",
        "salasdecine_agrupadas = contar_nombres(salasdecine_df, 'Salas de Cine')\n",
        "saladeteatro_agrupadas = contar_nombres(saladeteatro_df, 'Salas de Teatro')\n",
        "galeriasdearte_agrupadas = contar_nombres(galeriasdearte_df, 'Galerías de Arte')\n",
        "centrosculturales_agrupadas = contar_nombres(centrosculturales_df, 'Centros Culturales')\n",
        "\n",
        "# Concatenar los resultados en un único dataframe\n",
        "entretenimiento_agrupado_df = pd.concat([salasdecine_agrupadas, saladeteatro_agrupadas, galeriasdearte_agrupadas, centrosculturales_agrupadas])\n",
        "\n",
        "# Imprimir el resultado\n",
        "print(entretenimiento_agrupado_df)\n"
      ],
      "metadata": {
        "colab": {
          "base_uri": "https://localhost:8080/"
        },
        "id": "fNFfLi6a0tOS",
        "outputId": "014accfb-8d06-4725-c2c4-acd8dae1f869"
      },
      "execution_count": 88,
      "outputs": [
        {
          "output_type": "stream",
          "name": "stdout",
          "text": [
            "                                                Nombre            Distrito  \\\n",
            "0             Centro Cultura de España Juan de Salazar            Asunción   \n",
            "1                Centro Cultural Manzana de la Rivera             Asunción   \n",
            "2                                          Cine Cañizá            Asunción   \n",
            "3                               Cine Teatro del Puerto            Asunción   \n",
            "4                                       Cines Granados         Encarnación   \n",
            "..                                                 ...                 ...   \n",
            "101  Centro de Interpretación Astronómica Buenvaent...  San Cosme y Damián   \n",
            "102                         Espacio Cultural Arpa Róga            Asunción   \n",
            "103                                  Estación Cultural      Coronel Bogado   \n",
            "104                                Fundación cultural          Minga Guazú   \n",
            "105                   Institución de Cultura Hispánica          Villarrica   \n",
            "\n",
            "    Zona Geográfica  Cantidad             Sección  \n",
            "0       Zona urbana         1       Salas de Cine  \n",
            "1       Zona urbana         1       Salas de Cine  \n",
            "2       Zona urbana         1       Salas de Cine  \n",
            "3       Zona urbana         1       Salas de Cine  \n",
            "4       Zona urbana         1       Salas de Cine  \n",
            "..              ...       ...                 ...  \n",
            "101     Zona urbana         1  Centros Culturales  \n",
            "102     Zona urbana         1  Centros Culturales  \n",
            "103     Zona urbana         1  Centros Culturales  \n",
            "104     Zona urbana         1  Centros Culturales  \n",
            "105     Zona urbana         1  Centros Culturales  \n",
            "\n",
            "[202 rows x 5 columns]\n"
          ]
        }
      ]
    },
    {
      "cell_type": "code",
      "source": [
        "import pandas as pd\n",
        "\n",
        "\n",
        "# Función para agrupar y contar los nombres en un dataframe dado\n",
        "def contar_nombres(df, seccion):\n",
        "    agrupados = df.groupby(['Nombre', 'Distrito', 'Zona Geográfica']).size().reset_index(name='Cantidad')\n",
        "    agrupados['Sección'] = seccion\n",
        "    return agrupados\n",
        "\n",
        "# Aplicar la función a cada sección del dataframe entretenimiento_df\n",
        "salasdecine_agrupadas = contar_nombres(salasdecine_df, 'Salas de Cine')\n",
        "saladeteatro_agrupadas = contar_nombres(saladeteatro_df, 'Salas de Teatro')\n",
        "galeriasdearte_agrupadas = contar_nombres(galeriasdearte_df, 'Galerías de Arte')\n",
        "centrosculturales_agrupadas = contar_nombres(centrosculturales_df, 'Centros Culturales')\n",
        "\n",
        "# Concatenar los resultados en un único dataframe\n",
        "entretenimiento_agrupado_df = pd.concat([salasdecine_agrupadas, saladeteatro_agrupadas, galeriasdearte_agrupadas, centrosculturales_agrupadas])\n",
        "\n",
        "# Imprimir el resultado\n",
        "print(entretenimiento_agrupado_df)\n"
      ],
      "metadata": {
        "colab": {
          "base_uri": "https://localhost:8080/"
        },
        "id": "bA-zaGJB-TfL",
        "outputId": "d9e9b2bd-917d-407f-a5a7-dbc16e88fc00"
      },
      "execution_count": 93,
      "outputs": [
        {
          "output_type": "stream",
          "name": "stdout",
          "text": [
            "                                                Nombre            Distrito  \\\n",
            "0             Centro Cultura de España Juan de Salazar            Asunción   \n",
            "1                Centro Cultural Manzana de la Rivera             Asunción   \n",
            "2                                          Cine Cañizá            Asunción   \n",
            "3                               Cine Teatro del Puerto            Asunción   \n",
            "4                                       Cines Granados         Encarnación   \n",
            "..                                                 ...                 ...   \n",
            "101  Centro de Interpretación Astronómica Buenvaent...  San Cosme y Damián   \n",
            "102                         Espacio Cultural Arpa Róga            Asunción   \n",
            "103                                  Estación Cultural      Coronel Bogado   \n",
            "104                                Fundación cultural          Minga Guazú   \n",
            "105                   Institución de Cultura Hispánica          Villarrica   \n",
            "\n",
            "    Zona Geográfica  Cantidad             Sección  \n",
            "0       Zona urbana         1       Salas de Cine  \n",
            "1       Zona urbana         1       Salas de Cine  \n",
            "2       Zona urbana         1       Salas de Cine  \n",
            "3       Zona urbana         1       Salas de Cine  \n",
            "4       Zona urbana         1       Salas de Cine  \n",
            "..              ...       ...                 ...  \n",
            "101     Zona urbana         1  Centros Culturales  \n",
            "102     Zona urbana         1  Centros Culturales  \n",
            "103     Zona urbana         1  Centros Culturales  \n",
            "104     Zona urbana         1  Centros Culturales  \n",
            "105     Zona urbana         1  Centros Culturales  \n",
            "\n",
            "[202 rows x 5 columns]\n"
          ]
        }
      ]
    },
    {
      "cell_type": "code",
      "source": [
        "import matplotlib.pyplot as plt\n",
        "\n",
        "# Datos de ejemplo (reemplaza esto con tus propios datos)\n",
        "secciones = ['Salas de Cine', 'Salas de Teatro', 'Galerías de Arte', 'Centros Culturales']\n",
        "cantidades = [15, 10, 8, 12]\n",
        "\n",
        "# Configuración de colores pasteles\n",
        "colors = ['#FFB6C1', '#FFDAB9', '#FFC0CB', '#FFA07A']\n",
        "\n",
        "# Crear gráfico de barras\n",
        "plt.figure(figsize=(10, 6))\n",
        "plt.bar(secciones, cantidades, color=colors)\n",
        "\n",
        "# Configuración de etiquetas y título\n",
        "plt.xlabel('Sección')\n",
        "plt.ylabel('Cantidad')\n",
        "plt.title('Cantidad de Lugares de Entretenimiento')\n",
        "\n",
        "# Mostrar el gráfico\n",
        "plt.show()\n"
      ],
      "metadata": {
        "colab": {
          "base_uri": "https://localhost:8080/",
          "height": 564
        },
        "id": "5kn9sJAU-iOt",
        "outputId": "efba0451-ef14-4306-e326-9fd4b4cf3533"
      },
      "execution_count": 94,
      "outputs": [
        {
          "output_type": "display_data",
          "data": {
            "text/plain": [
              "<Figure size 1000x600 with 1 Axes>"
            ],
            "image/png": "[encoded data removed]"
          },
          "metadata": {}
        }
      ]
    },
    {
      "cell_type": "markdown",
      "source": [
        "En lo que respecta al entretenimiento, se observa que las salas de cine son las infraestructuras más numerosas y ampliamente distribuidas en el país, destinadas a brindar opciones de diversión y disfrute cinematográfico a los ciudadanos. A continuación, se encuentran los centros culturales, que también desempeñan un papel destacado en la oferta de actividades de entretenimiento, albergando eventos culturales y artísticos de diversa índole. Además, se destacan las salas de teatro, que ofrecen representaciones en vivo y constituyen una opción popular para el entretenimiento escénico, así como las galerías de arte, que exhiben obras de artistas locales e internacionales, brindando experiencias enriquecedoras y estéticas a los visitantes. En conjunto, estas estructuras proporcionan una variedad de opciones de entretenimiento que contribuyen al enriquecimiento cultural y al disfrute de la población."
      ],
      "metadata": {
        "id": "gYOCSOk8BrJm"
      }
    },
    {
      "cell_type": "markdown",
      "source": [
        "Para los dataframes relacionados con fines académicos:"
      ],
      "metadata": {
        "id": "4bMKfUN4i5dM"
      }
    },
    {
      "cell_type": "code",
      "source": [
        "academico_df = pd.concat([biblioteca_df, museos_df, colegiosyescuelas_df, insteducativasyuniversit_df, instdeenseñanzartistica_df])\n"
      ],
      "metadata": {
        "id": "odJvEoQQi3mK"
      },
      "execution_count": null,
      "outputs": []
    },
    {
      "cell_type": "code",
      "source": [
        "academico_df"
      ],
      "metadata": {
        "colab": {
          "base_uri": "https://localhost:8080/",
          "height": 1000
        },
        "id": "J5uHVA57jAVh",
        "outputId": "db43f2b8-0a0e-461a-f063-07e97dec5853"
      },
      "execution_count": null,
      "outputs": [
        {
          "output_type": "execute_result",
          "data": {
            "text/plain": [
              "        N°                                             Nombre Departamento  \\\n",
              "0      NaN                                                NaN          NaN   \n",
              "1      1.0  Biblioteca Central Universidad Nacional de Asu...      Central   \n",
              "2      2.0               Centro Nacional de Computación - UNA      Central   \n",
              "3      3.0                Facultad de Ciencias Agrarias - UNA      Central   \n",
              "4      4.0            Facultad de Ciencias Veterinarias - UNA      Central   \n",
              "..     ...                                                ...          ...   \n",
              "506  510.0                            Academia de Danza Giros    Boquerón    \n",
              "507  511.0                          Expresión Estudio Ballet     Boquerón    \n",
              "508  513.0             Conservatorio de música El Estudiante     Boquerón    \n",
              "509  514.0                Escuela de danza y música municipal    Boquerón    \n",
              "510  515.0             Escuela de Danza y Música Jeroky Rory     Boquerón    \n",
              "\n",
              "                             Distrito  \\\n",
              "0                                 NaN   \n",
              "1                         San Lorenzo   \n",
              "2                         San Lorenzo   \n",
              "3                         San Lorenzo   \n",
              "4                         San Lorenzo   \n",
              "..                                ...   \n",
              "506                        Loma Plata   \n",
              "507                        Loma Plata   \n",
              "508                        Loma Plata   \n",
              "509  Mariscal José Félix Estigarribia   \n",
              "510  Mariscal José Félix Estigarribia   \n",
              "\n",
              "                                             Dirección Zona Geográfica  \\\n",
              "0                                                  NaN             NaN   \n",
              "1                                     Campus de la UNA     Zona urbana   \n",
              "2                                     Campus de la UNA     Zona urbana   \n",
              "3                                     Campus de la UNA     Zona urbana   \n",
              "4                                     Campus de la UNA     Zona urbana   \n",
              "..                                                 ...             ...   \n",
              "506                          Freend  Engen y Hugellstr     Área urbana   \n",
              "507                           Manuel Gondra c/ Chicago     Área urbana   \n",
              "508                     Tres Palmas y Laguna  Colonia      Área urbana   \n",
              "509  Avenida Eugenio A. Garay  esquina Fortín Pitia...     Área urbana   \n",
              "510                              Ruta 9, Villa Militar      Zona rural   \n",
              "\n",
              "      Fuente de la Información  Número de Registro Observaciones       \\\n",
              "0                          NaN                 NaN           NaN  NaN   \n",
              "1    Bibliotecas de la UNA.pdf                 1.0           NaN  NaN   \n",
              "2    Bibliotecas de la UNA.pdf                 2.0           NaN  NaN   \n",
              "3    Bibliotecas de la UNA.pdf                 3.0           NaN  NaN   \n",
              "4    Bibliotecas de la UNA.pdf                 4.0           NaN  NaN   \n",
              "..                         ...                 ...           ...  ...   \n",
              "506                        NaN                 NaN           NaN  NaN   \n",
              "507                        NaN                 NaN           NaN  NaN   \n",
              "508                        NaN                 NaN           NaN  NaN   \n",
              "509                        NaN                 NaN           NaN  NaN   \n",
              "510                        NaN                 NaN           NaN  NaN   \n",
              "\n",
              "     N° de registro                           Fuente de la información  \\\n",
              "0               NaN                                                NaN   \n",
              "1               NaN                                                NaN   \n",
              "2               NaN                                                NaN   \n",
              "3               NaN                                                NaN   \n",
              "4               NaN                                                NaN   \n",
              "..              ...                                                ...   \n",
              "506             NaN                        Municipalidad de Loma Plata   \n",
              "507             NaN                        Municipalidad de Loma Plata   \n",
              "508             NaN                        Municipalidad de Loma Plata   \n",
              "509             NaN  Municipalidad de Mariscal José Félix Estigarribia   \n",
              "510             NaN                                                NaN   \n",
              "\n",
              "     Número de registro  \n",
              "0                   NaN  \n",
              "1                   NaN  \n",
              "2                   NaN  \n",
              "3                   NaN  \n",
              "4                   NaN  \n",
              "..                  ...  \n",
              "506                 NaN  \n",
              "507                 NaN  \n",
              "508                 NaN  \n",
              "509                 NaN  \n",
              "510                 NaN  \n",
              "\n",
              "[1629 rows x 13 columns]"
            ],
            "text/html": [
              "\n",
              "  <div id=\"df-519d7957-9338-469c-b7c3-d77d36f7abc1\">\n",
              "    <div class=\"colab-df-container\">\n",
              "      <div>\n",
              "<style scoped>\n",
              "    .dataframe tbody tr th:only-of-type {\n",
              "        vertical-align: middle;\n",
              "    }\n",
              "\n",
              "    .dataframe tbody tr th {\n",
              "        vertical-align: top;\n",
              "    }\n",
              "\n",
              "    .dataframe thead th {\n",
              "        text-align: right;\n",
              "    }\n",
              "</style>\n",
              "<table border=\"1\" class=\"dataframe\">\n",
              "  <thead>\n",
              "    <tr style=\"text-align: right;\">\n",
              "      <th></th>\n",
              "      <th>N°</th>\n",
              "      <th>Nombre</th>\n",
              "      <th>Departamento</th>\n",
              "      <th>Distrito</th>\n",
              "      <th>Dirección</th>\n",
              "      <th>Zona Geográfica</th>\n",
              "      <th>Fuente de la Información</th>\n",
              "      <th>Número de Registro</th>\n",
              "      <th>Observaciones</th>\n",
              "      <th></th>\n",
              "      <th>N° de registro</th>\n",
              "      <th>Fuente de la información</th>\n",
              "      <th>Número de registro</th>\n",
              "    </tr>\n",
              "  </thead>\n",
              "  <tbody>\n",
              "    <tr>\n",
              "      <th>0</th>\n",
              "      <td>NaN</td>\n",
              "      <td>NaN</td>\n",
              "      <td>NaN</td>\n",
              "      <td>NaN</td>\n",
              "      <td>NaN</td>\n",
              "      <td>NaN</td>\n",
              "      <td>NaN</td>\n",
              "      <td>NaN</td>\n",
              "      <td>NaN</td>\n",
              "      <td>NaN</td>\n",
              "      <td>NaN</td>\n",
              "      <td>NaN</td>\n",
              "      <td>NaN</td>\n",
              "    </tr>\n",
              "    <tr>\n",
              "      <th>1</th>\n",
              "      <td>1.0</td>\n",
              "      <td>Biblioteca Central Universidad Nacional de Asu...</td>\n",
              "      <td>Central</td>\n",
              "      <td>San Lorenzo</td>\n",
              "      <td>Campus de la UNA</td>\n",
              "      <td>Zona urbana</td>\n",
              "      <td>Bibliotecas de la UNA.pdf</td>\n",
              "      <td>1.0</td>\n",
              "      <td>NaN</td>\n",
              "      <td>NaN</td>\n",
              "      <td>NaN</td>\n",
              "      <td>NaN</td>\n",
              "      <td>NaN</td>\n",
              "    </tr>\n",
              "    <tr>\n",
              "      <th>2</th>\n",
              "      <td>2.0</td>\n",
              "      <td>Centro Nacional de Computación - UNA</td>\n",
              "      <td>Central</td>\n",
              "      <td>San Lorenzo</td>\n",
              "      <td>Campus de la UNA</td>\n",
              "      <td>Zona urbana</td>\n",
              "      <td>Bibliotecas de la UNA.pdf</td>\n",
              "      <td>2.0</td>\n",
              "      <td>NaN</td>\n",
              "      <td>NaN</td>\n",
              "      <td>NaN</td>\n",
              "      <td>NaN</td>\n",
              "      <td>NaN</td>\n",
              "    </tr>\n",
              "    <tr>\n",
              "      <th>3</th>\n",
              "      <td>3.0</td>\n",
              "      <td>Facultad de Ciencias Agrarias - UNA</td>\n",
              "      <td>Central</td>\n",
              "      <td>San Lorenzo</td>\n",
              "      <td>Campus de la UNA</td>\n",
              "      <td>Zona urbana</td>\n",
              "      <td>Bibliotecas de la UNA.pdf</td>\n",
              "      <td>3.0</td>\n",
              "      <td>NaN</td>\n",
              "      <td>NaN</td>\n",
              "      <td>NaN</td>\n",
              "      <td>NaN</td>\n",
              "      <td>NaN</td>\n",
              "    </tr>\n",
              "    <tr>\n",
              "      <th>4</th>\n",
              "      <td>4.0</td>\n",
              "      <td>Facultad de Ciencias Veterinarias - UNA</td>\n",
              "      <td>Central</td>\n",
              "      <td>San Lorenzo</td>\n",
              "      <td>Campus de la UNA</td>\n",
              "      <td>Zona urbana</td>\n",
              "      <td>Bibliotecas de la UNA.pdf</td>\n",
              "      <td>4.0</td>\n",
              "      <td>NaN</td>\n",
              "      <td>NaN</td>\n",
              "      <td>NaN</td>\n",
              "      <td>NaN</td>\n",
              "      <td>NaN</td>\n",
              "    </tr>\n",
              "    <tr>\n",
              "      <th>...</th>\n",
              "      <td>...</td>\n",
              "      <td>...</td>\n",
              "      <td>...</td>\n",
              "      <td>...</td>\n",
              "      <td>...</td>\n",
              "      <td>...</td>\n",
              "      <td>...</td>\n",
              "      <td>...</td>\n",
              "      <td>...</td>\n",
              "      <td>...</td>\n",
              "      <td>...</td>\n",
              "      <td>...</td>\n",
              "      <td>...</td>\n",
              "    </tr>\n",
              "    <tr>\n",
              "      <th>506</th>\n",
              "      <td>510.0</td>\n",
              "      <td>Academia de Danza Giros</td>\n",
              "      <td>Boquerón</td>\n",
              "      <td>Loma Plata</td>\n",
              "      <td>Freend  Engen y Hugellstr</td>\n",
              "      <td>Área urbana</td>\n",
              "      <td>NaN</td>\n",
              "      <td>NaN</td>\n",
              "      <td>NaN</td>\n",
              "      <td>NaN</td>\n",
              "      <td>NaN</td>\n",
              "      <td>Municipalidad de Loma Plata</td>\n",
              "      <td>NaN</td>\n",
              "    </tr>\n",
              "    <tr>\n",
              "      <th>507</th>\n",
              "      <td>511.0</td>\n",
              "      <td>Expresión Estudio Ballet</td>\n",
              "      <td>Boquerón</td>\n",
              "      <td>Loma Plata</td>\n",
              "      <td>Manuel Gondra c/ Chicago</td>\n",
              "      <td>Área urbana</td>\n",
              "      <td>NaN</td>\n",
              "      <td>NaN</td>\n",
              "      <td>NaN</td>\n",
              "      <td>NaN</td>\n",
              "      <td>NaN</td>\n",
              "      <td>Municipalidad de Loma Plata</td>\n",
              "      <td>NaN</td>\n",
              "    </tr>\n",
              "    <tr>\n",
              "      <th>508</th>\n",
              "      <td>513.0</td>\n",
              "      <td>Conservatorio de música El Estudiante</td>\n",
              "      <td>Boquerón</td>\n",
              "      <td>Loma Plata</td>\n",
              "      <td>Tres Palmas y Laguna  Colonia</td>\n",
              "      <td>Área urbana</td>\n",
              "      <td>NaN</td>\n",
              "      <td>NaN</td>\n",
              "      <td>NaN</td>\n",
              "      <td>NaN</td>\n",
              "      <td>NaN</td>\n",
              "      <td>Municipalidad de Loma Plata</td>\n",
              "      <td>NaN</td>\n",
              "    </tr>\n",
              "    <tr>\n",
              "      <th>509</th>\n",
              "      <td>514.0</td>\n",
              "      <td>Escuela de danza y música municipal</td>\n",
              "      <td>Boquerón</td>\n",
              "      <td>Mariscal José Félix Estigarribia</td>\n",
              "      <td>Avenida Eugenio A. Garay  esquina Fortín Pitia...</td>\n",
              "      <td>Área urbana</td>\n",
              "      <td>NaN</td>\n",
              "      <td>NaN</td>\n",
              "      <td>NaN</td>\n",
              "      <td>NaN</td>\n",
              "      <td>NaN</td>\n",
              "      <td>Municipalidad de Mariscal José Félix Estigarribia</td>\n",
              "      <td>NaN</td>\n",
              "    </tr>\n",
              "    <tr>\n",
              "      <th>510</th>\n",
              "      <td>515.0</td>\n",
              "      <td>Escuela de Danza y Música Jeroky Rory</td>\n",
              "      <td>Boquerón</td>\n",
              "      <td>Mariscal José Félix Estigarribia</td>\n",
              "      <td>Ruta 9, Villa Militar</td>\n",
              "      <td>Zona rural</td>\n",
              "      <td>NaN</td>\n",
              "      <td>NaN</td>\n",
              "      <td>NaN</td>\n",
              "      <td>NaN</td>\n",
              "      <td>NaN</td>\n",
              "      <td>NaN</td>\n",
              "      <td>NaN</td>\n",
              "    </tr>\n",
              "  </tbody>\n",
              "</table>\n",
              "<p>1629 rows × 13 columns</p>\n",
              "</div>\n",
              "      <button class=\"colab-df-convert\" onclick=\"convertToInteractive('df-519d7957-9338-469c-b7c3-d77d36f7abc1')\"\n",
              "              title=\"Convert this dataframe to an interactive table.\"\n",
              "              style=\"display:none;\">\n",
              "        \n",
              "  <svg xmlns=\"http://www.w3.org/2000/svg\" height=\"24px\"viewBox=\"0 0 24 24\"\n",
              "       width=\"24px\">\n",
              "    <path d=\"M0 0h24v24H0V0z\" fill=\"none\"/>\n",
              "    <path d=\"M18.56 5.44l.94 2.06.94-2.06 2.06-.94-2.06-.94-.94-2.06-.94 2.06-2.06.94zm-11 1L8.5 8.5l.94-2.06 2.06-.94-2.06-.94L8.5 2.5l-.94 2.06-2.06.94zm10 10l.94 2.06.94-2.06 2.06-.94-2.06-.94-.94-2.06-.94 2.06-2.06.94z\"/><path d=\"M17.41 7.96l-1.37-1.37c-.4-.4-.92-.59-1.43-.59-.52 0-1.04.2-1.43.59L10.3 9.45l-7.72 7.72c-.78.78-.78 2.05 0 2.83L4 21.41c.39.39.9.59 1.41.59.51 0 1.02-.2 1.41-.59l7.78-7.78 2.81-2.81c.8-.78.8-2.07 0-2.86zM5.41 20L4 18.59l7.72-7.72 1.47 1.35L5.41 20z\"/>\n",
              "  </svg>\n",
              "      </button>\n",
              "      \n",
              "  <style>\n",
              "    .colab-df-container {\n",
              "      display:flex;\n",
              "      flex-wrap:wrap;\n",
              "      gap: 12px;\n",
              "    }\n",
              "\n",
              "    .colab-df-convert {\n",
              "      background-color: #E8F0FE;\n",
              "      border: none;\n",
              "      border-radius: 50%;\n",
              "      cursor: pointer;\n",
              "      display: none;\n",
              "      fill: #1967D2;\n",
              "      height: 32px;\n",
              "      padding: 0 0 0 0;\n",
              "      width: 32px;\n",
              "    }\n",
              "\n",
              "    .colab-df-convert:hover {\n",
              "      background-color: #E2EBFA;\n",
              "      box-shadow: 0px 1px 2px rgba(60, 64, 67, 0.3), 0px 1px 3px 1px rgba(60, 64, 67, 0.15);\n",
              "      fill: #174EA6;\n",
              "    }\n",
              "\n",
              "    [theme=dark] .colab-df-convert {\n",
              "      background-color: #3B4455;\n",
              "      fill: #D2E3FC;\n",
              "    }\n",
              "\n",
              "    [theme=dark] .colab-df-convert:hover {\n",
              "      background-color: #434B5C;\n",
              "      box-shadow: 0px 1px 3px 1px rgba(0, 0, 0, 0.15);\n",
              "      filter: drop-shadow(0px 1px 2px rgba(0, 0, 0, 0.3));\n",
              "      fill: #FFFFFF;\n",
              "    }\n",
              "  </style>\n",
              "\n",
              "      <script>\n",
              "        const buttonEl =\n",
              "          document.querySelector('#df-519d7957-9338-469c-b7c3-d77d36f7abc1 button.colab-df-convert');\n",
              "        buttonEl.style.display =\n",
              "          google.colab.kernel.accessAllowed ? 'block' : 'none';\n",
              "\n",
              "        async function convertToInteractive(key) {\n",
              "          const element = document.querySelector('#df-519d7957-9338-469c-b7c3-d77d36f7abc1');\n",
              "          const dataTable =\n",
              "            await google.colab.kernel.invokeFunction('convertToInteractive',\n",
              "                                                     [key], {});\n",
              "          if (!dataTable) return;\n",
              "\n",
              "          const docLinkHtml = 'Like what you see? Visit the ' +\n",
              "            '<a target=\"_blank\" href=https://colab.research.google.com/notebooks/data_table.ipynb>data table notebook</a>'\n",
              "            + ' to learn more about interactive tables.';\n",
              "          element.innerHTML = '';\n",
              "          dataTable['output_type'] = 'display_data';\n",
              "          await google.colab.output.renderOutput(dataTable, element);\n",
              "          const docLink = document.createElement('div');\n",
              "          docLink.innerHTML = docLinkHtml;\n",
              "          element.appendChild(docLink);\n",
              "        }\n",
              "      </script>\n",
              "    </div>\n",
              "  </div>\n",
              "  "
            ]
          },
          "metadata": {},
          "execution_count": 111
        }
      ]
    },
    {
      "cell_type": "code",
      "source": [
        "import matplotlib.pyplot as plt\n",
        "\n",
        "# Función para agrupar y contar los nombres en un dataframe dado\n",
        "def contar_nombres(df, seccion):\n",
        "    agrupados = df.groupby(['Nombre', 'Distrito', 'Zona Geográfica']).size().reset_index(name='Cantidad')\n",
        "    agrupados['Sección'] = seccion\n",
        "    return agrupados\n",
        "\n",
        "# Aplicar la función a cada sección del dataframe academico_df\n",
        "# Reemplaza 'academico_df' con el nombre real de tu dataframe académico\n",
        "colegiosyescuelas_agrupadas = contar_nombres(colegiosyescuelas_df, 'Colegios y Escuelas')\n",
        "insteducativasyuniversit_agrupadas = contar_nombres(insteducativasyuniversit_df, 'Inst. Educativas')\n",
        "instdeenseñanzartistica_agrupadas = contar_nombres(instdeenseñanzartistica_df, 'Inst. Artística')\n",
        "librerias_agrupadas = contar_nombres(librerias_df, 'Librerías')\n",
        "bibliotecas_agrupadas = contar_nombres(biblioteca_df, 'Bibliotecas')\n",
        "\n",
        "# Concatenar los resultados en un único dataframe\n",
        "academico_agrupado_df = pd.concat([colegiosyescuelas_agrupadas, insteducativasyuniversit_agrupadas, instdeenseñanzartistica_agrupadas, librerias_agrupadas, bibliotecas_agrupadas])\n",
        "\n",
        "# Crear gráfico de barras\n",
        "plt.figure(figsize=(10, 6))\n",
        "colors = ['#87CEFA', '#FFC0CB', '#98FB98', '#FFD700', '#FFA500']\n",
        "\n",
        "for i, section in enumerate(academico_agrupado_df['Sección'].unique()):\n",
        "    section_data = academico_agrupado_df[academico_agrupado_df['Sección'] == section]\n",
        "    plt.bar(section_data['Sección'], section_data['Cantidad'], color=colors[i])\n",
        "\n",
        "# Configuración de etiquetas y título\n",
        "plt.xlabel('')\n",
        "plt.ylabel('')\n",
        "plt.title('Cantidad de Lugares Académicos y Culturales')\n",
        "\n",
        "# Mostrar el gráfico\n",
        "plt.show()\n"
      ],
      "metadata": {
        "colab": {
          "base_uri": "https://localhost:8080/",
          "height": 545
        },
        "id": "FhZ9_Cp5BK9S",
        "outputId": "c5956276-827f-45cc-d8af-464d8e944852"
      },
      "execution_count": 111,
      "outputs": [
        {
          "output_type": "display_data",
          "data": {
            "text/plain": [
              "<Figure size 1000x600 with 1 Axes>"
            ],
            "image/png": "[encoded data removed]"
          },
          "metadata": {}
        }
      ]
    },
    {
      "cell_type": "markdown",
      "source": [
        "En el ámbito de las instituciones destinadas a fines académicos, se observa que las infraestructuras más abundantes son los colegios y escuelas, las cuales desempeñan un papel fundamental en la educación de la población. Asimismo, las bibliotecas también se destacan como espacios importantes para el acceso a la información y el fomento de la lectura. Sin embargo, resulta sorprendente constatar que las instituciones de índole artístico, como se evidenció en el análisis del dataframe de librerías, presentan una notable deficiencia en nuestro país. Se registra un número muy reducido de librerías, lo cual constituye una situación desfavorable que refleja la falta de disponibilidad y acceso a material literario. Esta realidad representa un desafío para el país en términos de promoción cultural y acceso a la lectura, siendo necesario tomar medidas que impulsen el fortalecimiento y ampliación de este tipo de infraestructuras educativas y culturales."
      ],
      "metadata": {
        "id": "vE-VDxEICMah"
      }
    },
    {
      "cell_type": "markdown",
      "source": [
        "##Análisis Descriptivo:\n",
        "\n",
        "Calcular medidas estadísticas: calcular la media, mediana, desviación estándar, máximo, mínimo y otros estadísticos relevantes para cada una de las variables en los dataframes. El método describe() de Pandas para obtener un resumen estadístico."
      ],
      "metadata": {
        "id": "IsYHQyn2slSM"
      }
    },
    {
      "cell_type": "code",
      "source": [
        "entretenimiento_df.describe()\n",
        "\n"
      ],
      "metadata": {
        "colab": {
          "base_uri": "https://localhost:8080/",
          "height": 300
        },
        "id": "uK-tU4l-svqX",
        "outputId": "75eb6049-7510-493c-800f-be5b963c4f32"
      },
      "execution_count": null,
      "outputs": [
        {
          "output_type": "execute_result",
          "data": {
            "text/plain": [
              "               N°  Nro. de Registro  Número de registro\n",
              "count  197.000000         34.000000           74.000000\n",
              "mean    40.126904          9.911765           19.864865\n",
              "std     32.233668          6.383538           12.134322\n",
              "min      1.000000          1.000000            1.000000\n",
              "25%     13.000000          5.000000           10.000000\n",
              "50%     32.000000          9.000000           19.000000\n",
              "75%     56.000000         13.750000           28.000000\n",
              "max    117.000000         23.000000           45.000000"
            ],
            "text/html": [
              "\n",
              "  <div id=\"df-78e1d061-6fb7-4c49-97cc-35faa0f06b88\">\n",
              "    <div class=\"colab-df-container\">\n",
              "      <div>\n",
              "<style scoped>\n",
              "    .dataframe tbody tr th:only-of-type {\n",
              "        vertical-align: middle;\n",
              "    }\n",
              "\n",
              "    .dataframe tbody tr th {\n",
              "        vertical-align: top;\n",
              "    }\n",
              "\n",
              "    .dataframe thead th {\n",
              "        text-align: right;\n",
              "    }\n",
              "</style>\n",
              "<table border=\"1\" class=\"dataframe\">\n",
              "  <thead>\n",
              "    <tr style=\"text-align: right;\">\n",
              "      <th></th>\n",
              "      <th>N°</th>\n",
              "      <th>Nro. de Registro</th>\n",
              "      <th>Número de registro</th>\n",
              "    </tr>\n",
              "  </thead>\n",
              "  <tbody>\n",
              "    <tr>\n",
              "      <th>count</th>\n",
              "      <td>197.000000</td>\n",
              "      <td>34.000000</td>\n",
              "      <td>74.000000</td>\n",
              "    </tr>\n",
              "    <tr>\n",
              "      <th>mean</th>\n",
              "      <td>40.126904</td>\n",
              "      <td>9.911765</td>\n",
              "      <td>19.864865</td>\n",
              "    </tr>\n",
              "    <tr>\n",
              "      <th>std</th>\n",
              "      <td>32.233668</td>\n",
              "      <td>6.383538</td>\n",
              "      <td>12.134322</td>\n",
              "    </tr>\n",
              "    <tr>\n",
              "      <th>min</th>\n",
              "      <td>1.000000</td>\n",
              "      <td>1.000000</td>\n",
              "      <td>1.000000</td>\n",
              "    </tr>\n",
              "    <tr>\n",
              "      <th>25%</th>\n",
              "      <td>13.000000</td>\n",
              "      <td>5.000000</td>\n",
              "      <td>10.000000</td>\n",
              "    </tr>\n",
              "    <tr>\n",
              "      <th>50%</th>\n",
              "      <td>32.000000</td>\n",
              "      <td>9.000000</td>\n",
              "      <td>19.000000</td>\n",
              "    </tr>\n",
              "    <tr>\n",
              "      <th>75%</th>\n",
              "      <td>56.000000</td>\n",
              "      <td>13.750000</td>\n",
              "      <td>28.000000</td>\n",
              "    </tr>\n",
              "    <tr>\n",
              "      <th>max</th>\n",
              "      <td>117.000000</td>\n",
              "      <td>23.000000</td>\n",
              "      <td>45.000000</td>\n",
              "    </tr>\n",
              "  </tbody>\n",
              "</table>\n",
              "</div>\n",
              "      <button class=\"colab-df-convert\" onclick=\"convertToInteractive('df-78e1d061-6fb7-4c49-97cc-35faa0f06b88')\"\n",
              "              title=\"Convert this dataframe to an interactive table.\"\n",
              "              style=\"display:none;\">\n",
              "        \n",
              "  <svg xmlns=\"http://www.w3.org/2000/svg\" height=\"24px\"viewBox=\"0 0 24 24\"\n",
              "       width=\"24px\">\n",
              "    <path d=\"M0 0h24v24H0V0z\" fill=\"none\"/>\n",
              "    <path d=\"M18.56 5.44l.94 2.06.94-2.06 2.06-.94-2.06-.94-.94-2.06-.94 2.06-2.06.94zm-11 1L8.5 8.5l.94-2.06 2.06-.94-2.06-.94L8.5 2.5l-.94 2.06-2.06.94zm10 10l.94 2.06.94-2.06 2.06-.94-2.06-.94-.94-2.06-.94 2.06-2.06.94z\"/><path d=\"M17.41 7.96l-1.37-1.37c-.4-.4-.92-.59-1.43-.59-.52 0-1.04.2-1.43.59L10.3 9.45l-7.72 7.72c-.78.78-.78 2.05 0 2.83L4 21.41c.39.39.9.59 1.41.59.51 0 1.02-.2 1.41-.59l7.78-7.78 2.81-2.81c.8-.78.8-2.07 0-2.86zM5.41 20L4 18.59l7.72-7.72 1.47 1.35L5.41 20z\"/>\n",
              "  </svg>\n",
              "      </button>\n",
              "      \n",
              "  <style>\n",
              "    .colab-df-container {\n",
              "      display:flex;\n",
              "      flex-wrap:wrap;\n",
              "      gap: 12px;\n",
              "    }\n",
              "\n",
              "    .colab-df-convert {\n",
              "      background-color: #E8F0FE;\n",
              "      border: none;\n",
              "      border-radius: 50%;\n",
              "      cursor: pointer;\n",
              "      display: none;\n",
              "      fill: #1967D2;\n",
              "      height: 32px;\n",
              "      padding: 0 0 0 0;\n",
              "      width: 32px;\n",
              "    }\n",
              "\n",
              "    .colab-df-convert:hover {\n",
              "      background-color: #E2EBFA;\n",
              "      box-shadow: 0px 1px 2px rgba(60, 64, 67, 0.3), 0px 1px 3px 1px rgba(60, 64, 67, 0.15);\n",
              "      fill: #174EA6;\n",
              "    }\n",
              "\n",
              "    [theme=dark] .colab-df-convert {\n",
              "      background-color: #3B4455;\n",
              "      fill: #D2E3FC;\n",
              "    }\n",
              "\n",
              "    [theme=dark] .colab-df-convert:hover {\n",
              "      background-color: #434B5C;\n",
              "      box-shadow: 0px 1px 3px 1px rgba(0, 0, 0, 0.15);\n",
              "      filter: drop-shadow(0px 1px 2px rgba(0, 0, 0, 0.3));\n",
              "      fill: #FFFFFF;\n",
              "    }\n",
              "  </style>\n",
              "\n",
              "      <script>\n",
              "        const buttonEl =\n",
              "          document.querySelector('#df-78e1d061-6fb7-4c49-97cc-35faa0f06b88 button.colab-df-convert');\n",
              "        buttonEl.style.display =\n",
              "          google.colab.kernel.accessAllowed ? 'block' : 'none';\n",
              "\n",
              "        async function convertToInteractive(key) {\n",
              "          const element = document.querySelector('#df-78e1d061-6fb7-4c49-97cc-35faa0f06b88');\n",
              "          const dataTable =\n",
              "            await google.colab.kernel.invokeFunction('convertToInteractive',\n",
              "                                                     [key], {});\n",
              "          if (!dataTable) return;\n",
              "\n",
              "          const docLinkHtml = 'Like what you see? Visit the ' +\n",
              "            '<a target=\"_blank\" href=https://colab.research.google.com/notebooks/data_table.ipynb>data table notebook</a>'\n",
              "            + ' to learn more about interactive tables.';\n",
              "          element.innerHTML = '';\n",
              "          dataTable['output_type'] = 'display_data';\n",
              "          await google.colab.output.renderOutput(dataTable, element);\n",
              "          const docLink = document.createElement('div');\n",
              "          docLink.innerHTML = docLinkHtml;\n",
              "          element.appendChild(docLink);\n",
              "        }\n",
              "      </script>\n",
              "    </div>\n",
              "  </div>\n",
              "  "
            ]
          },
          "metadata": {},
          "execution_count": 112
        }
      ]
    },
    {
      "cell_type": "code",
      "source": [
        "academico_df.describe()"
      ],
      "metadata": {
        "colab": {
          "base_uri": "https://localhost:8080/",
          "height": 300
        },
        "id": "esBsBpB_s4uH",
        "outputId": "926589a5-8262-422e-ef6f-52f9a5e2fb8b"
      },
      "execution_count": null,
      "outputs": [
        {
          "output_type": "execute_result",
          "data": {
            "text/plain": [
              "                N°  Número de Registro              N° de registro  \\\n",
              "count  1151.000000           118.00000  441.000000             0.0   \n",
              "mean    177.994787            32.50000  235.281179             NaN   \n",
              "std     131.377663            20.81204  136.751609             NaN   \n",
              "min       1.000000             1.00000    1.000000             NaN   \n",
              "25%      72.500000            15.25000  119.000000             NaN   \n",
              "50%     148.000000            30.00000  233.000000             NaN   \n",
              "75%     258.500000            46.75000  351.000000             NaN   \n",
              "max     515.000000            76.00000  476.000000             NaN   \n",
              "\n",
              "       Número de registro  \n",
              "count          165.000000  \n",
              "mean            43.400000  \n",
              "std             26.547656  \n",
              "min              1.000000  \n",
              "25%             21.000000  \n",
              "50%             42.000000  \n",
              "75%             62.000000  \n",
              "max             99.000000  "
            ],
            "text/html": [
              "\n",
              "  <div id=\"df-e65e980d-f77e-491a-bcc7-6b40c45ecb50\">\n",
              "    <div class=\"colab-df-container\">\n",
              "      <div>\n",
              "<style scoped>\n",
              "    .dataframe tbody tr th:only-of-type {\n",
              "        vertical-align: middle;\n",
              "    }\n",
              "\n",
              "    .dataframe tbody tr th {\n",
              "        vertical-align: top;\n",
              "    }\n",
              "\n",
              "    .dataframe thead th {\n",
              "        text-align: right;\n",
              "    }\n",
              "</style>\n",
              "<table border=\"1\" class=\"dataframe\">\n",
              "  <thead>\n",
              "    <tr style=\"text-align: right;\">\n",
              "      <th></th>\n",
              "      <th>N°</th>\n",
              "      <th>Número de Registro</th>\n",
              "      <th></th>\n",
              "      <th>N° de registro</th>\n",
              "      <th>Número de registro</th>\n",
              "    </tr>\n",
              "  </thead>\n",
              "  <tbody>\n",
              "    <tr>\n",
              "      <th>count</th>\n",
              "      <td>1151.000000</td>\n",
              "      <td>118.00000</td>\n",
              "      <td>441.000000</td>\n",
              "      <td>0.0</td>\n",
              "      <td>165.000000</td>\n",
              "    </tr>\n",
              "    <tr>\n",
              "      <th>mean</th>\n",
              "      <td>177.994787</td>\n",
              "      <td>32.50000</td>\n",
              "      <td>235.281179</td>\n",
              "      <td>NaN</td>\n",
              "      <td>43.400000</td>\n",
              "    </tr>\n",
              "    <tr>\n",
              "      <th>std</th>\n",
              "      <td>131.377663</td>\n",
              "      <td>20.81204</td>\n",
              "      <td>136.751609</td>\n",
              "      <td>NaN</td>\n",
              "      <td>26.547656</td>\n",
              "    </tr>\n",
              "    <tr>\n",
              "      <th>min</th>\n",
              "      <td>1.000000</td>\n",
              "      <td>1.00000</td>\n",
              "      <td>1.000000</td>\n",
              "      <td>NaN</td>\n",
              "      <td>1.000000</td>\n",
              "    </tr>\n",
              "    <tr>\n",
              "      <th>25%</th>\n",
              "      <td>72.500000</td>\n",
              "      <td>15.25000</td>\n",
              "      <td>119.000000</td>\n",
              "      <td>NaN</td>\n",
              "      <td>21.000000</td>\n",
              "    </tr>\n",
              "    <tr>\n",
              "      <th>50%</th>\n",
              "      <td>148.000000</td>\n",
              "      <td>30.00000</td>\n",
              "      <td>233.000000</td>\n",
              "      <td>NaN</td>\n",
              "      <td>42.000000</td>\n",
              "    </tr>\n",
              "    <tr>\n",
              "      <th>75%</th>\n",
              "      <td>258.500000</td>\n",
              "      <td>46.75000</td>\n",
              "      <td>351.000000</td>\n",
              "      <td>NaN</td>\n",
              "      <td>62.000000</td>\n",
              "    </tr>\n",
              "    <tr>\n",
              "      <th>max</th>\n",
              "      <td>515.000000</td>\n",
              "      <td>76.00000</td>\n",
              "      <td>476.000000</td>\n",
              "      <td>NaN</td>\n",
              "      <td>99.000000</td>\n",
              "    </tr>\n",
              "  </tbody>\n",
              "</table>\n",
              "</div>\n",
              "      <button class=\"colab-df-convert\" onclick=\"convertToInteractive('df-e65e980d-f77e-491a-bcc7-6b40c45ecb50')\"\n",
              "              title=\"Convert this dataframe to an interactive table.\"\n",
              "              style=\"display:none;\">\n",
              "        \n",
              "  <svg xmlns=\"http://www.w3.org/2000/svg\" height=\"24px\"viewBox=\"0 0 24 24\"\n",
              "       width=\"24px\">\n",
              "    <path d=\"M0 0h24v24H0V0z\" fill=\"none\"/>\n",
              "    <path d=\"M18.56 5.44l.94 2.06.94-2.06 2.06-.94-2.06-.94-.94-2.06-.94 2.06-2.06.94zm-11 1L8.5 8.5l.94-2.06 2.06-.94-2.06-.94L8.5 2.5l-.94 2.06-2.06.94zm10 10l.94 2.06.94-2.06 2.06-.94-2.06-.94-.94-2.06-.94 2.06-2.06.94z\"/><path d=\"M17.41 7.96l-1.37-1.37c-.4-.4-.92-.59-1.43-.59-.52 0-1.04.2-1.43.59L10.3 9.45l-7.72 7.72c-.78.78-.78 2.05 0 2.83L4 21.41c.39.39.9.59 1.41.59.51 0 1.02-.2 1.41-.59l7.78-7.78 2.81-2.81c.8-.78.8-2.07 0-2.86zM5.41 20L4 18.59l7.72-7.72 1.47 1.35L5.41 20z\"/>\n",
              "  </svg>\n",
              "      </button>\n",
              "      \n",
              "  <style>\n",
              "    .colab-df-container {\n",
              "      display:flex;\n",
              "      flex-wrap:wrap;\n",
              "      gap: 12px;\n",
              "    }\n",
              "\n",
              "    .colab-df-convert {\n",
              "      background-color: #E8F0FE;\n",
              "      border: none;\n",
              "      border-radius: 50%;\n",
              "      cursor: pointer;\n",
              "      display: none;\n",
              "      fill: #1967D2;\n",
              "      height: 32px;\n",
              "      padding: 0 0 0 0;\n",
              "      width: 32px;\n",
              "    }\n",
              "\n",
              "    .colab-df-convert:hover {\n",
              "      background-color: #E2EBFA;\n",
              "      box-shadow: 0px 1px 2px rgba(60, 64, 67, 0.3), 0px 1px 3px 1px rgba(60, 64, 67, 0.15);\n",
              "      fill: #174EA6;\n",
              "    }\n",
              "\n",
              "    [theme=dark] .colab-df-convert {\n",
              "      background-color: #3B4455;\n",
              "      fill: #D2E3FC;\n",
              "    }\n",
              "\n",
              "    [theme=dark] .colab-df-convert:hover {\n",
              "      background-color: #434B5C;\n",
              "      box-shadow: 0px 1px 3px 1px rgba(0, 0, 0, 0.15);\n",
              "      filter: drop-shadow(0px 1px 2px rgba(0, 0, 0, 0.3));\n",
              "      fill: #FFFFFF;\n",
              "    }\n",
              "  </style>\n",
              "\n",
              "      <script>\n",
              "        const buttonEl =\n",
              "          document.querySelector('#df-e65e980d-f77e-491a-bcc7-6b40c45ecb50 button.colab-df-convert');\n",
              "        buttonEl.style.display =\n",
              "          google.colab.kernel.accessAllowed ? 'block' : 'none';\n",
              "\n",
              "        async function convertToInteractive(key) {\n",
              "          const element = document.querySelector('#df-e65e980d-f77e-491a-bcc7-6b40c45ecb50');\n",
              "          const dataTable =\n",
              "            await google.colab.kernel.invokeFunction('convertToInteractive',\n",
              "                                                     [key], {});\n",
              "          if (!dataTable) return;\n",
              "\n",
              "          const docLinkHtml = 'Like what you see? Visit the ' +\n",
              "            '<a target=\"_blank\" href=https://colab.research.google.com/notebooks/data_table.ipynb>data table notebook</a>'\n",
              "            + ' to learn more about interactive tables.';\n",
              "          element.innerHTML = '';\n",
              "          dataTable['output_type'] = 'display_data';\n",
              "          await google.colab.output.renderOutput(dataTable, element);\n",
              "          const docLink = document.createElement('div');\n",
              "          docLink.innerHTML = docLinkHtml;\n",
              "          element.appendChild(docLink);\n",
              "        }\n",
              "      </script>\n",
              "    </div>\n",
              "  </div>\n",
              "  "
            ]
          },
          "metadata": {},
          "execution_count": 113
        }
      ]
    },
    {
      "cell_type": "markdown",
      "source": [
        "Se puede analizar que en el primer dataframe tiene muchos registros, y en el segundo , todos los valores son Nan"
      ],
      "metadata": {
        "id": "N8DwCIeHAaCC"
      }
    },
    {
      "cell_type": "markdown",
      "source": [
        "##Graficos"
      ],
      "metadata": {
        "id": "6_zD_ZJnv4pi"
      }
    },
    {
      "cell_type": "markdown",
      "source": [
        "Gráfico de barras:\n",
        "Un gráfico de barras para comparar la cantidad de infraestructuras culturales en diferentes categorías, como entretenimiento y fines académicos."
      ],
      "metadata": {
        "id": "8-7RaYFNwAKS"
      }
    },
    {
      "cell_type": "code",
      "source": [
        "import matplotlib.pyplot as plt\n",
        "\n",
        "# Obtener la cantidad de infraestructuras culturales en el dataframe entretenimiento_df\n",
        "entretenimiento_count = len(entretenimiento_df)\n",
        "\n",
        "# Obtener la cantidad de infraestructuras culturales en el dataframe academico_df\n",
        "academico_count = len(academico_df)\n",
        "\n",
        "# Configurar el estilo del gráfico\n",
        "plt.style.use('seaborn')\n",
        "\n",
        "# Crear el gráfico de barras\n",
        "fig, ax = plt.subplots()\n",
        "ax.bar(['Entretenimiento', 'Fines Académicos'], [entretenimiento_count, academico_count], color=['#ff7f0e', '#1f77b4'])\n",
        "ax.set_xlabel('Categoría')\n",
        "ax.set_ylabel('Cantidad')\n",
        "ax.set_title('Cantidad de Infraestructuras Culturales')\n",
        "\n",
        "# Personalizar el estilo de las barras\n",
        "ax.spines['top'].set_visible(False)\n",
        "ax.spines['right'].set_visible(False)\n",
        "ax.tick_params(axis='x', length=0)\n",
        "ax.yaxis.grid(True, linestyle='--', alpha=0.7)\n",
        "\n",
        "# Añadir etiquetas a las barras\n",
        "for i, v in enumerate([entretenimiento_count, academico_count]):\n",
        "    ax.text(i, v + 0.5, str(v), ha='center')\n",
        "\n",
        "plt.show()\n"
      ],
      "metadata": {
        "colab": {
          "base_uri": "https://localhost:8080/",
          "height": 579
        },
        "id": "hr11bptwwFhq",
        "outputId": "460b04d6-3310-4924-ed80-ae5a279903eb"
      },
      "execution_count": null,
      "outputs": [
        {
          "output_type": "stream",
          "name": "stderr",
          "text": [
            "<ipython-input-114-56deb51d69b5>:10: MatplotlibDeprecationWarning: The seaborn styles shipped by Matplotlib are deprecated since 3.6, as they no longer correspond to the styles shipped by seaborn. However, they will remain available as 'seaborn-v0_8-<style>'. Alternatively, directly use the seaborn API instead.\n",
            "  plt.style.use('seaborn')\n"
          ]
        },
        {
          "output_type": "display_data",
          "data": {
            "text/plain": [
              "<Figure size 800x550 with 1 Axes>"
            ],
            "image/png": "[encoded data removed]"
          },
          "metadata": {}
        }
      ]
    },
    {
      "cell_type": "code",
      "source": [
        "import matplotlib.pyplot as plt\n",
        "\n",
        "# Obtener la cantidad de registros por Zona Geográfica\n",
        "zonas = academico_df_modificado['Zona Geográfica'].value_counts()\n",
        "\n",
        "# Etiquetas de los segmentos\n",
        "etiquetas = ['Zona Rural', 'Zona Urbana', 'Zona Periurbana']\n",
        "\n",
        "# Colores del gráfico\n",
        "colores = ['#FF9999', '#66B3FF', '#99FF99']\n",
        "\n",
        "# Explode para resaltar un segmento\n",
        "explode = (0.1, 0, 0)\n",
        "\n",
        "# Crear el gráfico de torta\n",
        "plt.pie(zonas, labels=etiquetas, colors=colores, explode=explode, autopct='%1.1f%%', startangle=90, shadow=True)\n",
        "plt.title('Porcentaje de Zona Geográfica en academico_df')\n",
        "\n",
        "# Ajustar el aspecto de la torta\n",
        "plt.axis('equal')\n",
        "\n",
        "# Mostrar el gráfico\n",
        "plt.show()\n"
      ],
      "metadata": {
        "colab": {
          "base_uri": "https://localhost:8080/",
          "height": 480
        },
        "id": "JPtQWxIcY1sV",
        "outputId": "bf2092e9-0166-425b-8db8-c7dfb9e9108a"
      },
      "execution_count": null,
      "outputs": [
        {
          "output_type": "display_data",
          "data": {
            "text/plain": [
              "<Figure size 800x550 with 1 Axes>"
            ],
            "image/png": "[encoded data removed]"
          },
          "metadata": {}
        }
      ]
    },
    {
      "cell_type": "markdown",
      "source": [
        "##Análisis inferencial\n"
      ],
      "metadata": {
        "id": "_dZiqvJ9uD5M"
      }
    },
    {
      "cell_type": "markdown",
      "source": [
        "Pruebas de hipótesis: se puede realizar pruebas de hipótesis para comparar las características de las muestras en los dataframes de entretenimiento y fines académicos. Por ejemplo, realizando una prueba t para comparar las medias de dos grupos o una prueba de chi-cuadrado para evaluar la independencia entre dos variables categóricas."
      ],
      "metadata": {
        "id": "t7XSW5aXuG3f"
      }
    },
    {
      "cell_type": "markdown",
      "source": [
        "Grupos no diferenciados: Si los grupos que estás comparando son muy similares o no presentan diferencias significativas en las variables que estás evaluando, es posible que la prueba de hipótesis no pueda detectar diferencias estadísticamente significativas."
      ],
      "metadata": {
        "id": "Yf7IGcmFvf4i"
      }
    },
    {
      "cell_type": "markdown",
      "source": [
        "Una vez clasificados y agrupados los dataframes en academico_df y entretenimiento_df, es importante hacer un analisis estadistico de moda"
      ],
      "metadata": {
        "id": "xFdQ6KHcP9yB"
      }
    },
    {
      "cell_type": "markdown",
      "source": [
        "Para calcular cual es la institución que más presencia tiene en el dataset del dataframe entretenimiento_df, se recurre al analisis de moda"
      ],
      "metadata": {
        "id": "BcCk8E7ER-63"
      }
    },
    {
      "cell_type": "code",
      "source": [
        "# Calcular la moda del DataFrame academico_df\n",
        "cantidad_instituciones = len(entretenimiento_df['Nombre'].unique())\n",
        "print(\"Cantidad de instituciones:\", cantidad_instituciones)\n",
        "\n",
        "moda_instituciones = entretenimiento_df['Nombre'].mode()\n",
        "print(\"Moda de las instituciones de entretenimiento:\", moda_instituciones)"
      ],
      "metadata": {
        "colab": {
          "base_uri": "https://localhost:8080/"
        },
        "id": "QNUO3o3VQWkm",
        "outputId": "5ccef5c7-9252-493e-bb95-9cecce527f5e"
      },
      "execution_count": null,
      "outputs": [
        {
          "output_type": "stream",
          "name": "stdout",
          "text": [
            "Cantidad de instituciones: 196\n",
            "Moda de las instituciones de entretenimiento: 0    Casa de la Cultura\n",
            "Name: Nombre, dtype: object\n"
          ]
        }
      ]
    },
    {
      "cell_type": "markdown",
      "source": [
        "Ahora para un análisis más profundo de la columna de distrito, se recurre a sacar la moda de la columna distrito"
      ],
      "metadata": {
        "id": "M_sWfMfbSfVB"
      }
    },
    {
      "cell_type": "code",
      "source": [
        "# Calcular la moda del DataFrame entretenimiento_df\n",
        "cantidad_instituciones = len(entretenimiento_df['Distrito'].unique())\n",
        "print(\"Cantidad de distritos:\", cantidad_instituciones)\n",
        "\n",
        "moda_instituciones = entretenimiento_df['Distrito'].mode()\n",
        "print(\"Moda de distrito de las instituciones de entretenimiento:\", moda_instituciones)"
      ],
      "metadata": {
        "colab": {
          "base_uri": "https://localhost:8080/"
        },
        "id": "__1MqB9rS3hu",
        "outputId": "0a58ce33-4b88-460e-ec2d-d907428d0381"
      },
      "execution_count": null,
      "outputs": [
        {
          "output_type": "stream",
          "name": "stdout",
          "text": [
            "Cantidad de distritos: 86\n",
            "Moda de distrito de las instituciones de entretenimiento: 0    Asunción\n",
            "Name: Distrito, dtype: object\n"
          ]
        }
      ]
    },
    {
      "cell_type": "markdown",
      "source": [
        "Con este resultado se puede concluir que Asunción es el distrito con mas instituciones con enfoque academicos."
      ],
      "metadata": {
        "id": "o8udQHAyTCwr"
      }
    },
    {
      "cell_type": "markdown",
      "source": [
        "Moda con el dataframe de academico_df"
      ],
      "metadata": {
        "id": "Ofg8gCXuTa_q"
      }
    },
    {
      "cell_type": "code",
      "source": [
        "# Calcular la moda del DataFrame academico_df\n",
        "cantidad_instituciones = len(academico_df['Nombre'].unique())\n",
        "print(\"Cantidad de instituciones:\", cantidad_instituciones)\n",
        "\n",
        "moda_instituciones = academico_df['Nombre'].mode()\n",
        "print(\"Moda de las instituciones con enfoque academico:\", moda_instituciones)"
      ],
      "metadata": {
        "colab": {
          "base_uri": "https://localhost:8080/"
        },
        "id": "A7WY-SZUTZ1m",
        "outputId": "07c9b1f1-dc34-4cc4-abc2-cffdb6016481"
      },
      "execution_count": null,
      "outputs": [
        {
          "output_type": "stream",
          "name": "stdout",
          "text": [
            "Cantidad de instituciones: 1464\n",
            "Moda de las instituciones con enfoque academico: 0    Biblioteca Municipal\n",
            "Name: Nombre, dtype: object\n"
          ]
        }
      ]
    },
    {
      "cell_type": "markdown",
      "source": [
        "Las bibliotecas municipales son las que más hay en el territorio, institucion enfocada a lo academico"
      ],
      "metadata": {
        "id": "VT6_6U_JUDfB"
      }
    },
    {
      "cell_type": "code",
      "source": [
        "# Calcular la moda del DataFrame academico_df\n",
        "cantidad_instituciones = len(academico_df['Distrito'].unique())\n",
        "print(\"Cantidad de Distritos de las instituciones:\", cantidad_instituciones)\n",
        "\n",
        "moda_instituciones = academico_df['Distrito'].mode()\n",
        "print(\"Moda de los distritos de las instituciones con enfoque academico:\", moda_instituciones)"
      ],
      "metadata": {
        "colab": {
          "base_uri": "https://localhost:8080/"
        },
        "id": "4cmsKFsITvZm",
        "outputId": "4ebb2790-df32-45df-c8ac-82fafeea0557"
      },
      "execution_count": null,
      "outputs": [
        {
          "output_type": "stream",
          "name": "stdout",
          "text": [
            "Cantidad de Distritos de las instituciones: 252\n",
            "Moda de los distritos de las instituciones con enfoque academico: 0    Asunción\n",
            "Name: Distrito, dtype: object\n"
          ]
        }
      ]
    },
    {
      "cell_type": "markdown",
      "source": [
        "Como es de publico conocimiento el distrito más beneficioso de las instituciones con enfoques academicos es Asuncion, dejando a o ultimo el interior del pais"
      ],
      "metadata": {
        "id": "-wU8yl67U9UB"
      }
    },
    {
      "cell_type": "markdown",
      "source": [
        "#CONCLUSIÓN"
      ],
      "metadata": {
        "id": "VrEiU51gEAfo"
      }
    },
    {
      "cell_type": "markdown",
      "source": [
        "En conclusión, el análisis realizado sobre los datos abiertos de las infraestructuras culturales en Paraguay ha permitido obtener una visión general de la distribución y disponibilidad de estos espacios en el país. Se ha observado que existen diversas categorías de infraestructuras culturales, tales como salas de cine, salas de teatro, galerías de arte, centros culturales, colegios y escuelas, bibliotecas, entre otros.\n",
        "\n",
        "En cuanto a las infraestructuras de entretenimiento, se destaca la presencia predominante de salas de cine, seguidas por centros culturales, salas de teatro y galerías de arte. Estos lugares constituyen importantes espacios para la promoción de actividades culturales y artísticas, brindando opciones de entretenimiento a la población.\n",
        "\n",
        "Por otro lado, en el ámbito académico, se observa que los colegios y escuelas son las infraestructuras más abundantes, aclarando que el dataset no ha sido actualizado de igual forma la cantidad de escuelas y colegios es sinceramente critico. Sin embargo, resulta preocupante la escasez de librerías y bibliotecas, lo cual limita el acceso a materiales literarios y representa un desafío para fomentar la lectura y la cultura del país.\n",
        "\n",
        "En general, el análisis de los datos de infraestructuras culturales en Paraguay resalta la necesidad de impulsar el desarrollo equitativo y accesible de estos espacios, tanto en el ámbito del entretenimiento como en el ámbito académico. Esto permitirá fortalecer la oferta cultural y educativa, promoviendo el acceso a la cultura, el aprendizaje y la diversidad de expresiones artísticas en beneficio de la sociedad paraguaya."
      ],
      "metadata": {
        "id": "xS4nrZTIEENs"
      }
    }
  ]
}